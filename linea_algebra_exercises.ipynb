{
  "nbformat": 4,
  "nbformat_minor": 0,
  "metadata": {
    "colab": {
      "provenance": [],
      "authorship_tag": "ABX9TyOpm+FrUzKdtROrzdt4ttAj",
      "include_colab_link": true
    },
    "kernelspec": {
      "name": "python3",
      "display_name": "Python 3"
    },
    "language_info": {
      "name": "python"
    }
  },
  "cells": [
    {
      "cell_type": "markdown",
      "metadata": {
        "id": "view-in-github",
        "colab_type": "text"
      },
      "source": [
        "<a href=\"https://colab.research.google.com/github/nimnathw/linear-algebra-with-python/blob/main/linea_algebra_exercises.ipynb\" target=\"_parent\"><img src=\"https://colab.research.google.com/assets/colab-badge.svg\" alt=\"Open In Colab\"/></a>"
      ]
    },
    {
      "cell_type": "markdown",
      "source": [
        "#Exercise: Exploring Vector Direction and Magnitude\n",
        "\n",
        "Instructions:\n",
        "\n",
        "Consider the following two 3-dimensional vectors:\n",
        "\n",
        "1. Vector v⃗:\n",
        "   v⃗ = (3, 4, 2)\n",
        "\n",
        "2. Vector u⃗:\n",
        "   u⃗ = (1, 2, 5)\n",
        "\n",
        "Perform the following operations:\n",
        "\n",
        "1. Compute the magnitude of each vector using the Euclidean norm formula.\n",
        "2. Calculate the direction of each vector.\n",
        "3. Find the vector v⃗ - u⃗ and u⃗ - v⃗.\n",
        "4. Compute the sum, u⃗ + v⃗.\n",
        "5. Draw the vectors v⃗ and u⃗ as arrows in a 3-dimensional space using Matplotlib.\n",
        "6. Draw the resulting vectors v⃗ - u⃗, u⃗ - v⃗, and u⃗ + v⃗ in the same 3-dimensional space using Matplotlib.\n",
        "\n",
        "Requirements:\n",
        "\n",
        "1. Utilize the NumPy library for vector calculations and operations.\n",
        "2. Use Matplotlib for creating visual representations of the vectors in a 3-dimensional space.\n",
        "3. Clearly present each step of the calculations and operations.\n",
        "4. Explain the significance of the results in the context of vector operations and their applications in real-world scenarios.\n",
        "\n",
        "\n",
        "\n",
        "\n"
      ],
      "metadata": {
        "id": "PM6VrdZW4hZj"
      }
    },
    {
      "cell_type": "code",
      "execution_count": null,
      "metadata": {
        "id": "oF9uEihT2giD"
      },
      "outputs": [],
      "source": []
    },
    {
      "cell_type": "markdown",
      "source": [
        "# Exercise: Exploring Dot Product\n",
        "Instructions:\n",
        "\n",
        "Consider the following two 3-dimensional vectors:\n",
        "\n",
        "1. Vector v⃗:\n",
        "   v⃗ = [3, 4, 2]\n",
        "\n",
        "2. Vector w⃗:\n",
        "   w⃗ = [1, 2, 5]\n",
        "\n",
        "Perform the following steps:\n",
        "\n",
        "1. Utilize the NumPy library to calculate the dot product of vectors v⃗ and w⃗.\n",
        "2. Compute the magnitudes of vectors v⃗ and w⃗ using appropriate NumPy functions.\n",
        "3. Determine the angle θ between the two vectors using the inverse cosine function in NumPy.\n",
        "4. Verify that the dot product v⃗ ⋅ w⃗ is equal to the product of the magnitudes of v⃗ and w⃗ multiplied by cos θ, using NumPy calculations.\n",
        "5. Create a 3D plot using Matplotlib to visualize the vectors v⃗ and w⃗ as arrows in a 3-dimensional space.\n",
        "6. Label the plot to represent the vectors and the angle θ between them.\n",
        "\n",
        "Requirements:\n",
        "\n",
        "1. Use the NumPy library for vector calculations, including the dot product, magnitude calculation, and angle determination.\n",
        "2. Utilize Matplotlib to create a 3D plot representing the vectors and the angle between them.\n",
        "3. Provide a step-by-step explanation of the calculations and the code used for visualization.\n",
        "4. Discuss the significance of the dot product, the computed angle, and the visualization in understanding the relationship between vectors.\n",
        "\n"
      ],
      "metadata": {
        "id": "yR1-bf4_5-np"
      }
    },
    {
      "cell_type": "code",
      "source": [],
      "metadata": {
        "id": "kNRQtgJDDxmj"
      },
      "execution_count": null,
      "outputs": []
    },
    {
      "cell_type": "markdown",
      "source": [
        "# Exercise Title: Exploring Cross Product\n",
        "\n",
        "Instructions:\n",
        "\n",
        "Consider the following two 3-dimensional vectors:\n",
        "\n",
        "1. Vector v⃗:\n",
        "   v⃗ = [3, 4, 2]\n",
        "\n",
        "2. Vector w⃗:\n",
        "   w⃗ = [1, 2, 5]\n",
        "\n",
        "Perform the following steps:\n",
        "\n",
        "1. Use the NumPy library to compute the cross product of vectors v⃗ and w⃗.\n",
        "2. Interpret the geometric meaning of the cross product in terms of vector perpendicularity and the area of the parallelogram formed by the two vectors.\n",
        "3. Calculate the magnitude of the cross product and explain how it relates to the area of the parallelogram.\n",
        "4. Visualize the vectors v⃗ and w⃗ along with their cross product using Matplotlib in a 3-dimensional space.\n",
        "5. Discuss the implications of the right-hand rule in determining the direction of the resulting vector in the cross product.\n",
        "\n",
        "Requirements:\n",
        "\n",
        "1. Utilize the NumPy library for vector calculations, especially for the cross product and magnitude computation.\n",
        "2. Use Matplotlib to create a 3D plot representing the vectors and the resulting cross product.\n",
        "3. Provide a step-by-step explanation of the calculations and the code used for visualization.\n",
        "4. Discuss the significance of the cross product, its geometric interpretation, and its practical applications in diverse fields.\n"
      ],
      "metadata": {
        "id": "tKxRNZ9T9d9x"
      }
    },
    {
      "cell_type": "code",
      "source": [],
      "metadata": {
        "id": "OVe4HUot_2a5"
      },
      "execution_count": null,
      "outputs": []
    },
    {
      "cell_type": "markdown",
      "source": [
        "# Exercise: Calculating the Area of a 3D Triangle Using Cross Product\n",
        "\n",
        "Instructions:\n",
        "\n",
        "Consider a triangle formed by three points in 3D space: A(2, 3, 1), B(4, 1, 2), and C(5, 3, 6). Perform the following steps:\n",
        "\n",
        "1. Compute the vectors $\\vec {AB}$ and $\\vec {AC}$ using the given coordinates.\n",
        "2. Calculate the cross product of vectors $\\vec {AB}$ and $\\vec {AC}$ using the cross product formula.\n",
        "3. Determine the magnitude of the resulting cross product vector $\\vec {n}$ using the magnitude formula provided.\n",
        "4. Divide the magnitude of $\\vec {n}$ by 2 to obtain the area of the triangle.\n",
        "5. Discuss the significance of the computed area and how it relates to the orientation of the triangle in 3D space.\n",
        "6. Illustrate the triangle and the vectors $\\vec {AB}$ and $\\vec {AC}$ in a 3D coordinate system using Matplotlib to provide a visual representation.\n",
        "\n"
      ],
      "metadata": {
        "id": "kbGJGP5a_3Kr"
      }
    },
    {
      "cell_type": "code",
      "source": [],
      "metadata": {
        "id": "4870TUCOFLHX"
      },
      "execution_count": null,
      "outputs": []
    },
    {
      "cell_type": "markdown",
      "source": [
        "# Exercise: Computing the Volume of a Parallelepiped\n",
        "\n",
        "Instructions:\n",
        "\n",
        "Consider a parallelepiped formed by three non-coplanar vectors in 3D space: **u** = [1, 2, 3], **v** = [4, 1, 2], and **w** = [2, 3, 5]. Perform the following steps:\n",
        "\n",
        "1. Create a 3x3 matrix using the components of vectors **u**, **v**, and **w** as the rows or columns of the matrix.\n",
        "2. Compute the determinant of the 3x3 matrix using the provided determinant formula.\n",
        "3. Determine the absolute value of the determinant, which represents the volume of the parallelepiped spanned by vectors **u**, **v**, and **w**.\n",
        "4. Discuss the significance of the computed volume and its relation to the orientation and shape of the parallelepiped in 3D space.\n",
        "5. Illustrate the parallelepiped defined by vectors **u**, **v**, and **w** in a 3D coordinate system using Matplotlib for visual representation.\n",
        "\n",
        "Requirements:\n",
        "\n",
        "1. Apply the determinant formula accurately using the components of vectors **u**, **v**, and **w** to compute the volume of the parallelepiped.\n",
        "2. Provide a clear explanation of the process involved in calculating the determinant and its interpretation as the volume of the parallelepiped.\n",
        "3. Create a 3x3 matrix and compute the determinant using the provided components of vectors **u**, **v**, and **w**.\n",
        "4. Explain the relevance of determinants in linear algebra and their applications in calculating the volume of parallelepipeds in 3D space."
      ],
      "metadata": {
        "id": "zS6rJLMhDkTC"
      }
    },
    {
      "cell_type": "code",
      "source": [],
      "metadata": {
        "id": "P43_-Bq_FOT5"
      },
      "execution_count": null,
      "outputs": []
    },
    {
      "cell_type": "markdown",
      "source": [
        "# Exercise: Prove the formula for the projection of a vector\n",
        "\n",
        "Prove the formula for the projection of a vector $u$ onto another vector $w$, i.e., $\\text{proj}_w (u) = \\frac{u \\cdot w}{w \\cdot w} \\cdot w$.\n",
        "\n",
        "\n",
        "**Hint:**\n",
        "Use the definition of the dot product to express $u \\cdot w$ in terms of the magnitudes of vectors $u$ and $w$ and the cosine of the angle between them, $u \\cdot w = \\|u\\| \\|w\\| \\cos(\\theta)$.\n",
        "\n",
        "\n",
        "### Common MathJax/LaTeX Commands\n",
        "\n",
        "**Basic Formatting Commands:**\n",
        "1. *Italic Text*: \\textit{your text}.\n",
        "2. **Bold Text**: \\textbf{your text}.\n",
        "3. Underline Text: \\underline{your text}.\n",
        "4. Subscript: x\\_{sub} for subscript.\n",
        "5. Superscript: x^{sup} for superscript.\n",
        "6. Space: \\quad for space.\n",
        "\n",
        "\n",
        "**Vectors and Matrices:**\n",
        "1. Vector: \\mathbf{v} for boldface vectors.\n",
        "2. Matrix: \\mathbf{A} for boldface matrices.\n",
        "3. Transpose: \\mathbf{A}^\\text{T} for transpose of matrix A.\n",
        "4. Determinant: \\text{det}(A) for the determinant of matrix A.\n",
        "5. Inverse: A^{-1} for the inverse of matrix A.\n",
        "\n",
        "**Operators and Symbols:**\n",
        "1. Dot Product: \\cdot for dot product of vectors.\n",
        "2. Hadamard product (element-wise multiplication of two matrices with the same dimensions): \\odot\n",
        "\n",
        "if you have two matrices $A$ and $B$ of the same size, the element-wise multiplication is denoted as $C = A \\odot B$, where each element $C_{ij}$ is the product of the corresponding elements $A_{ij}4 and $B_{ij}$.\n",
        "\n",
        "3. Cross Product: \\times for cross product of vectors.\n",
        "4. Scalar Multiplication: k\\mathbf{v} for scalar multiplication.\n",
        "5. Summation: \\sum_{i=1}^{n} for summation.\n",
        "6. Product: \\prod_{i=1}^{n} for product.\n",
        "\n",
        "**Equations and Formulas:**\n",
        "1. Inline Equation: *dollar sign* your equation  *dollar sign* for inline equations.\n",
        "2. Display Equation: *dollar sign* *dollar sign* your equation *dollar sign* *dollar sign* for displayed equations.\n",
        "3. Fractions: \\frac{numerator}{denominator} for fractions.\n",
        "4. Square Root: \\sqrt{x} for square root.\n",
        "5. Parentheses and Brackets: (, ), [, ], \\{, \\}, \\left(, \\right), \\left[, \\right], \\left\\{, \\right\\} for different types of parentheses and brackets.\n",
        "\n",
        "**Trigonometric Functions:**\n",
        "1. Sine: \\sin(x) for sine of x.\n",
        "2. Cosine: \\cos(x) for cosine of x.\n",
        "3. Tangent: \\tan(x) for tangent of x.\n",
        "\n",
        "**Calculus:**\n",
        "1. Derivative: \\frac{d}{dx} for derivative with respect to x.\n",
        "2. Integral: \\int_{a}^{b} for definite integral from a to b.\n"
      ],
      "metadata": {
        "id": "hmHfGW73EgLf"
      }
    },
    {
      "cell_type": "code",
      "source": [],
      "metadata": {
        "id": "nyz7Aw6YSthr"
      },
      "execution_count": null,
      "outputs": []
    },
    {
      "cell_type": "markdown",
      "source": [
        "# Exercise: Vector Decomposition and Visualization (1)\n",
        "\n",
        "Consider two 2-dimensional vectors: $ u = [3, 4] $ and $ w = [1, 2] $.\n",
        "\n",
        "1. Calculate the dot product of the two vectors $u$ and $w$ using the provided formula. Find the magnitude of $u$, the magnitude of $w$, and the angle $\\theta$ between the two vectors.\n",
        "\n",
        "2. Compute the projection of vector $u$ onto vector $w$ using the formula $||u|| \\cos(\\theta)$.\n",
        "\n",
        "3. Decompose vector $u$ into components along vector $w$ using the formula for projection $\\text{proj}_w(u) = \\frac{u \\cdot w}{w \\cdot w} \\cdot w$.\n",
        "\n",
        "4. Find the component of vector $u$ orthogonal to $w$ using the formula $u_{\\perp} = u - \\text{proj}_w(u)$.\n",
        "\n",
        "5. Use NumPy to perform the calculations and visualize the results with Matplotlib. Plot the original vectors, the projection of $u$ onto $w$, and the component of $u$ orthogonal to $w$ on a 2D plane.\n"
      ],
      "metadata": {
        "id": "bVLOfc_VSuNY"
      }
    },
    {
      "cell_type": "code",
      "source": [],
      "metadata": {
        "id": "HHiLNPXMTumZ"
      },
      "execution_count": null,
      "outputs": []
    },
    {
      "cell_type": "markdown",
      "source": [
        "# Exercise: Vector Decomposition and Visualization (2)\n",
        "\n",
        "Consider two 2-dimensional vectors: $ u = [3, 4] $ and $ w = [1, 0] $.\n",
        "\n",
        "1. Compute the projection of vector $u$ onto vector $w$.\n",
        "\n",
        "2. Find the component of vector $u$ orthogonal to $w$.\n",
        "\n",
        "3. Use NumPy to perform the calculations and visualize the results with Matplotlib. Plot the original vectors, the projection of $u$ onto $w$, and the component of $u$ orthogonal to $w$ on a 2D plane."
      ],
      "metadata": {
        "id": "3nEEcm5BTvBX"
      }
    },
    {
      "cell_type": "code",
      "source": [],
      "metadata": {
        "id": "5Zi9NlWHULfK"
      },
      "execution_count": null,
      "outputs": []
    },
    {
      "cell_type": "markdown",
      "source": [
        "# Exercise: Vector Decomposition and Visualization (3)\n",
        "\n",
        "Consider two 2-dimensional vectors: $ u = [3, 4] $ and $ w = [0, 6] $.\n",
        "\n",
        "1. Compute the projection of vector $u$ onto vector $w$.\n",
        "\n",
        "2. Find the component of vector $u$ orthogonal to $w$.\n",
        "\n",
        "3. Use NumPy to perform the calculations and visualize the results with Matplotlib. Plot the original vectors, the projection of $u$ onto $w$, and the component of $u$ orthogonal to $w$ on a 2D plane."
      ],
      "metadata": {
        "id": "X043FI_FUMBo"
      }
    },
    {
      "cell_type": "code",
      "source": [],
      "metadata": {
        "id": "LMU47jx1USaJ"
      },
      "execution_count": null,
      "outputs": []
    },
    {
      "cell_type": "markdown",
      "source": [
        "# Excercise: Equation of a Line (1)\n",
        "\n",
        "Consider the point P(7, 4, -1) and a vector v = (1, 3, 4).\n",
        "\n",
        "1. Find the parametric equations for the line passing through the point P and parallel to the vector v.\n",
        "\n",
        "2. Visualize the line using NumPy and Matplotlib. You can use the `matplotlib.pyplot` and `mpl_toolkits.mplot3d` modules for 3D plotting.\n",
        "\n",
        "\n",
        "**Hint:**\n",
        "Remember that the parametric equation for a line in 3D space is of the form:\n",
        "\n",
        "$$x = x_0 + at$$\n",
        "$$y = y_0 + bt$$\n",
        "$$z = z_0 + ct$$\n",
        "\n",
        "where (x0, y0, z0) is a point on the line, and (a, b, c) are the direction ratios of the line.\n",
        "\n",
        "\n"
      ],
      "metadata": {
        "id": "wl485MF4dJQ-"
      }
    },
    {
      "cell_type": "code",
      "source": [],
      "metadata": {
        "id": "U6qlXDnQdI0v"
      },
      "execution_count": null,
      "outputs": []
    },
    {
      "cell_type": "markdown",
      "source": [
        "# Exercise: Equation of a Line (2)\n",
        "Consider the following two lines in 3D space:\n",
        "\n",
        "Line 1:\n",
        "$$\\frac{x - 2}{2} = \\frac{y - 3}{1} = \\frac{z - 1}{4}$$\n",
        "\n",
        "Line 2:\n",
        "$$\\frac{x - 4}{3} = \\frac{y - 2}{2} = \\frac{z - 3}{5}$$\n",
        "\n",
        "1. Find the point of intersection, $P$, of these two lines.\n",
        "2. Use NumPy and Matplotlib to plot the two lines and the point of intersection in 3D space. You can use the `matplotlib.pyplot` and `mpl_toolkits.mplot3d` modules for 3D plotting."
      ],
      "metadata": {
        "id": "z0Kpbg5veVxJ"
      }
    },
    {
      "cell_type": "code",
      "source": [],
      "metadata": {
        "id": "sJ_ADHbWjDwL"
      },
      "execution_count": null,
      "outputs": []
    },
    {
      "cell_type": "markdown",
      "source": [
        "# Exercise: Equation of a Line (3)\n",
        "\n",
        "Consider the following two lines in 3D space:\n",
        "\n",
        "Line 1:\n",
        "$$\\frac{x - 6}{3} = \\frac{y - 5}{4} = \\frac{z - 7}{2}$$\n",
        "\n",
        "Line 2:\n",
        "$$\\frac{x - 11}{4} = \\frac{y - 3}{3} = \\frac{z - 1}{5}$$\n",
        "\n",
        "1. Find the point of intersection, \\(P\\), of these two lines.\n",
        "2. Use NumPy and Matplotlib to plot the two lines and the point of intersection in 3D space. You can use the `matplotlib.pyplot` and `mpl_toolkits.mplot3d` modules for 3D plotting."
      ],
      "metadata": {
        "id": "9Z8pcBCljEZF"
      }
    },
    {
      "cell_type": "code",
      "source": [],
      "metadata": {
        "id": "jUuEsjQ8p5cG"
      },
      "execution_count": null,
      "outputs": []
    },
    {
      "cell_type": "markdown",
      "source": [
        "# Exercise: Equation of a Line (4)\n",
        "\n",
        "Consider the following parametric equation for a line in 5-d space:\n",
        "\n",
        "$$x_1 = a_1 + t \\cdot d_1,$$\n",
        "$$x_2 = a_2 + t \\cdot d_2,$$\n",
        "$$x_3 = a_3 + t \\cdot d_3,$$\n",
        "$$x_4 = a_4 + t \\cdot d_4,$$\n",
        "$$x_5 = a_5 + t \\cdot d_5,$$\n",
        "\n",
        "where:\n",
        "- $a_1, a_2, a_3, a_4, a_5$ are constants representing the starting points along each dimension,\n",
        "- $d_1, d_2, d_3, d_4, d_5$ are the direction vectors along each dimension,\n",
        "- $t$ is the parameter that determines the position of points along the line.\n",
        "\n",
        "Line 1 is:\n",
        "$$a = (1, 2, 3, 4, 5),$$\n",
        "$$d = (2, 3, 1, 4, 2),$$\n",
        "\n",
        "Line 2 is:\n",
        "$$a = (7, -4, 9, 14, 1),$$\n",
        "$$d = (2, 3, 1, 4, 2),$$\n",
        "\n",
        "1. Find the shortest distance between these two parallel lines.\n",
        "2. Use numpy code to calculate and print out the shortest distance between the two lines.\n"
      ],
      "metadata": {
        "id": "rIP1xng676wJ"
      }
    },
    {
      "cell_type": "code",
      "source": [],
      "metadata": {
        "id": "NmV6quQo-DWs"
      },
      "execution_count": null,
      "outputs": []
    },
    {
      "cell_type": "markdown",
      "source": [
        "# Exercise: Equation of a Line (5)\n",
        "\n",
        "Consider the following parametric equation for a line in 5-d space:\n",
        "\n",
        "$$x_1 = a_1 + t \\cdot d_1,$$\n",
        "$$x_2 = a_2 + t \\cdot d_2,$$\n",
        "$$x_3 = a_3 + t \\cdot d_3,$$\n",
        "$$x_4 = a_4 + t \\cdot d_4,$$\n",
        "$$x_5 = a_5 + t \\cdot d_5,$$\n",
        "\n",
        "where:\n",
        "- $a_1, a_2, a_3, a_4, a_5$ are constants representing the starting points along each dimension,\n",
        "- $d_1, d_2, d_3, d_4, d_5$ are the direction vectors along each dimension,\n",
        "- $t$ is the parameter that determines the position of points along the line.\n",
        "\n",
        "Line 1 is:\n",
        "$$a = (1, 2, 3, 4, 5),$$\n",
        "$$d = (2, 3, 1, 4, 2),$$\n",
        "\n",
        "Point P is:\n",
        "$$ P = (18, -6, 3, 14, 1)$$\n",
        "\n",
        "1. Find the shortest distance between the point P and Line 1.\n",
        "2. Use numpy code to calculate and print out the shortest distance.\n"
      ],
      "metadata": {
        "id": "zm0GXFVqLnSW"
      }
    },
    {
      "cell_type": "code",
      "source": [],
      "metadata": {
        "id": "9fLj2fA6MYvR"
      },
      "execution_count": null,
      "outputs": []
    },
    {
      "cell_type": "markdown",
      "source": [
        "# Exercise: Equation of a Line (6)\n",
        "\n",
        "Consider the following parametric equation for a line in 3-d space:\n",
        "\n",
        "$$x_1 = a_1 + t \\cdot d_1,$$\n",
        "$$x_2 = a_2 + t \\cdot d_2,$$\n",
        "$$x_3 = a_3 + t \\cdot d_3,$$\n",
        "\n",
        "where:\n",
        "- $a_1, a_2, a_3 are constants representing the starting points along each dimension,\n",
        "- $d_1, d_2, d_35$ are the direction vectors along each dimension,\n",
        "- $t$ is the parameter that determines the position of points along the line.\n",
        "\n",
        "Line 1 is:\n",
        "$$a = (4, 2, 3),$$\n",
        "$$d = (6, 3, 1),$$\n",
        "\n",
        "Point P is:\n",
        "$$ P = ( 5, 1, 7)$$\n",
        "\n",
        "1. Find the shortest distance between the point P and Line 1 using two methods.\n",
        "2. Use numpy code to  and print out the shortest distance.\n"
      ],
      "metadata": {
        "id": "3iRT_foyw8Kj"
      }
    },
    {
      "cell_type": "code",
      "source": [],
      "metadata": {
        "id": "piuXg8kkw_JA"
      },
      "execution_count": null,
      "outputs": []
    },
    {
      "cell_type": "markdown",
      "source": [
        "# Exercise: Standard Form of Plane Equation (1)\n",
        "\n",
        "Consider a plane parallel to $2x - 4y + 3z = 10$ and passing through the point $Q(1, -2, 4)$.\n",
        "\n",
        "1. Find the standard form of the plane equation.\n",
        "2. Use NumPy and Matplotlib to plot the plane.\n",
        "\n",
        "\n"
      ],
      "metadata": {
        "id": "mDHf_RW285IP"
      }
    },
    {
      "cell_type": "code",
      "source": [],
      "metadata": {
        "id": "cSJFrmB99stG"
      },
      "execution_count": null,
      "outputs": []
    },
    {
      "cell_type": "markdown",
      "source": [
        "# Exercise: Standard Form of a Plane Equation (2)\n",
        "\n",
        "Consider a plane parallel to $5x - 3y + 2z = 12$ and passing through the point $Q(2, -1, 3)$.\n",
        "\n",
        "1. Find the standard form of the plane equation.\n",
        "2. Use NumPy and Matplotlib to plot the plane.\n"
      ],
      "metadata": {
        "id": "-j0A6JQV9tAX"
      }
    },
    {
      "cell_type": "code",
      "source": [],
      "metadata": {
        "id": "u9ULXeVI-a8i"
      },
      "execution_count": null,
      "outputs": []
    },
    {
      "cell_type": "markdown",
      "source": [
        "# Exercise: Standard Form of Plane Equation (3)\n",
        "\n",
        "1. What do the coefficients A, B, and C represent in the standard form of a plane equation, and how are they related to the geometry of the plane?\n",
        "\n",
        "2. Explain the significance of the constant term D in the standard form of the plane equation, and how does it relate to the distance of the plane from the origin along the direction of the normal vector?\n",
        "\n",
        "3. Discuss the role of the Euclidean norm of the normal vector in the formula for calculating the distance of the plane from the origin. How does it ensure that the distance is independent of the magnitudes of the coefficients A, B, and C?\n",
        "\n",
        "4. What does the special case of the plane equation in the form Ax + By + Cz = 0 signify? How does the value of the constant term D influence the position of the plane in this case?\n",
        "\n",
        "5. Consider two planes with the same normal vector $\\langle A, B, C \\rangle$ but different constants $D_1$ and $D_2$. Discuss the parallelism and orientation of these planes in space. Calculate the distance between the two parallel planes and explain its significance in the context of the plane geometry.\n"
      ],
      "metadata": {
        "id": "-Yp0aR4l-bSe"
      }
    },
    {
      "cell_type": "code",
      "source": [],
      "metadata": {
        "id": "-tBHXw1y-wwA"
      },
      "execution_count": null,
      "outputs": []
    },
    {
      "cell_type": "markdown",
      "source": [
        "# Exercise: Standard Form of Plane Equation (4)\n",
        "\n",
        "1. For the plane defined by the equation $4x - 2y + 3z = 8$, determine the components of the normal vector and the distance of the plane from the origin along the direction of the normal vector.\n",
        "\n",
        "2. Consider a plane with the equation $2x + 3y - 5z = 12$. Calculate the Euclidean norm of the normal vector and explain its significance in terms of the distance of the plane from the origin.\n",
        "\n",
        "3. Find the equation of the plane passing through the origin and having a normal vector $\\langle 1, -3, 2 \\rangle$.\n",
        "\n",
        "4. Given two parallel planes with the equations $3x + 2y - 4z = 10$ and $3x + 2y - 4z = 5$ respectively, calculate the distance between these two planes along the direction of their common normal vector. Plot the two planes using Numpy and Matplotlib.\n",
        "\n"
      ],
      "metadata": {
        "id": "bq5IdhHs-xEr"
      }
    },
    {
      "cell_type": "code",
      "source": [],
      "metadata": {
        "id": "kZgsescnxkdc"
      },
      "execution_count": null,
      "outputs": []
    },
    {
      "cell_type": "markdown",
      "source": [
        "# Exercise: Standard Form of Plane Equation (5)\n",
        "\n",
        "1. For the plane defined by the equation $3x - y + 5z = 18$, determine the components of the normal vector and the distance of the plane from the origin along the direction of the normal vector.\n",
        "\n",
        "2. Consider a plane with the equation $7x + 2y - 3z = 12$. Calculate the Euclidean norm of the normal vector and explain its significance in terms of the distance of the plane from the origin.\n",
        "\n",
        "3. Find the equation of the plane passing through the origin and having a normal vector $\\langle 3, -4, 2 \\rangle$.\n",
        "\n",
        "4. Given two parallel planes with the equations $4x + 3y - 2z = 15$ and $4x + 3y - 2z = -25$ respectively, calculate the distance between these two planes along the direction of their common normal vector. Plot the two planes using Numpy and Matplotlib."
      ],
      "metadata": {
        "id": "7YQ91MgyxkxS"
      }
    },
    {
      "cell_type": "code",
      "source": [],
      "metadata": {
        "id": "dkShbOWQyavf"
      },
      "execution_count": null,
      "outputs": []
    },
    {
      "cell_type": "markdown",
      "source": [
        "# Exercise: Converting a Plane Equation from Standard Form to Parametric Form (1)\n",
        "\n",
        "Consider the plane with the equation $3x - 4y + 2z = 5$.\n",
        "\n",
        "1. Find the parametric form of this plane equation.\n",
        "\n",
        "2. Plot the plane using numpy and matplotlib.\n",
        "\n",
        "\n"
      ],
      "metadata": {
        "id": "3s7oYCbYybIP"
      }
    },
    {
      "cell_type": "code",
      "source": [],
      "metadata": {
        "id": "vm0rZsyByb25"
      },
      "execution_count": null,
      "outputs": []
    },
    {
      "cell_type": "markdown",
      "source": [
        "# Exercise: Converting a Plane Equation from Standard Form to Parametric Form (2)\n",
        "\n",
        "Consider the plane with the equation $7x + 2y + z = -5$.\n",
        "\n",
        "1. Find the parametric form of this plane equation.\n",
        "\n",
        "2. Plot the plane using numpy and matplotlib."
      ],
      "metadata": {
        "id": "sq5JOiA6zuKU"
      }
    },
    {
      "cell_type": "code",
      "source": [],
      "metadata": {
        "id": "gOUyIj_pzubr"
      },
      "execution_count": null,
      "outputs": []
    },
    {
      "cell_type": "markdown",
      "source": [
        "# Exercise: Converting a Plane Equation from Standard Form to Parametric Form (3)\n",
        "\n",
        "Consider the plane with the equation $ -6x + y + 7z = -12$.\n",
        "\n",
        "1. Find the parametric form of this plane equation.\n",
        "\n",
        "2. Plot the plane using numpy and matplotlib."
      ],
      "metadata": {
        "id": "LbqSdOauz37W"
      }
    },
    {
      "cell_type": "code",
      "source": [],
      "metadata": {
        "id": "W2NnQglyz4Kt"
      },
      "execution_count": null,
      "outputs": []
    },
    {
      "cell_type": "markdown",
      "source": [
        "# Exercise: Converting a Plane Equation from Parametric Form to Standard Form (1)\n",
        "\n",
        "Consider the  plane equation:\n",
        "\n",
        "$$P(s, t) = P_0 + s\\mathbf{v} + t\\mathbf{w}$$\n",
        "\n",
        "\n",
        "where $P_0 = (1,0-2)$ is a point on the plane, $\\mathbf{v} = (1,3,6)$ and $\\mathbf{w} = (4,-7,2)$ vectors on the plane, and $s$ and $t$ are parameters.\n",
        "\n",
        "\n",
        "1. Find the standard form of this plane equation.\n",
        "\n",
        "2. Plot the plane using numpy and matplotlib."
      ],
      "metadata": {
        "id": "M6AAdLFF0BvK"
      }
    },
    {
      "cell_type": "code",
      "source": [],
      "metadata": {
        "id": "c--FxXFB1MOr"
      },
      "execution_count": null,
      "outputs": []
    },
    {
      "cell_type": "markdown",
      "source": [
        "# Exercise: Converting a Plane Equation from Parametric Form to Standard Form (2)\n",
        "\n",
        "Consider the  plane equation:\n",
        "\n",
        "$$P(s, t) = P_0 + s\\mathbf{v} + t\\mathbf{w}$$\n",
        "\n",
        "\n",
        "where $P_0 = (11,2,7)$ is a point on the plane, $\\mathbf{v} = (3,-2,4)$ and $\\mathbf{w} = (7,-6,3)$ vectors on the plane, and $s$ and $t$ are parameters.\n",
        "\n",
        "\n",
        "1. Find the standard form of this plane equation.\n",
        "\n",
        "2. Plot the plane using numpy and matplotlib."
      ],
      "metadata": {
        "id": "JzaGmGm21MzZ"
      }
    },
    {
      "cell_type": "code",
      "source": [],
      "metadata": {
        "id": "4f0t2mWl1dOl"
      },
      "execution_count": null,
      "outputs": []
    },
    {
      "cell_type": "markdown",
      "source": [
        "# Exercise: Converting a Plane Equation from Parametric Form to Standard Form (3)\n",
        "\n",
        "Consider the  plane equation:\n",
        "\n",
        "$$P(s, t) = P_0 + s\\mathbf{v} + t\\mathbf{w}$$\n",
        "\n",
        "where $P_0 = (-8,12,7)$ is a point on the plane, $\\mathbf{v} = (4,-5,3)$ and $\\mathbf{w} = (1,3,2)$ vectors on the plane, and $s$ and $t$ are parameters.\n",
        "\n",
        "\n",
        "1. Find the standard form of this plane equation.\n",
        "\n",
        "2. Plot the plane using numpy and matplotlib."
      ],
      "metadata": {
        "id": "SegcF1in1dpr"
      }
    },
    {
      "cell_type": "code",
      "source": [],
      "metadata": {
        "id": "IyYM8KdN1wwa"
      },
      "execution_count": null,
      "outputs": []
    },
    {
      "cell_type": "markdown",
      "source": [
        "# Exercise: Finding the Plane Equation from 3 Points (1)\n",
        "\n",
        "Consider the points $Q(1, 2, 3)$, $R(5,6,2)$, and $S(7, 11, 4)$.\n",
        "\n",
        "1. Find the standard form of the plane that goes through the three points.\n",
        "2. Use numpy and matplotlib to draw the plane and the points.\n"
      ],
      "metadata": {
        "id": "UqUAdSvJ1xGz"
      }
    },
    {
      "cell_type": "code",
      "source": [],
      "metadata": {
        "id": "YalJtAaM27lY"
      },
      "execution_count": null,
      "outputs": []
    },
    {
      "cell_type": "markdown",
      "source": [
        "# Exercise: Finding the Plane Equation from 3 Points (2)\n",
        "\n",
        "Consider the points $Q(11, 4, 5)$, $R(3,1,2)$, and $S(5, 3, 4)$.\n",
        "\n",
        "1. Find the standard form of the plane that goes through the three points.\n",
        "2. Use numpy and matplotlib to draw the plane and the points."
      ],
      "metadata": {
        "id": "EXPb_UgB27_1"
      }
    },
    {
      "cell_type": "code",
      "source": [],
      "metadata": {
        "id": "i1T-VfLP3HO9"
      },
      "execution_count": null,
      "outputs": []
    },
    {
      "cell_type": "markdown",
      "source": [
        "# Exercise: Finding the Plane Equation from 3 Points (3)\n",
        "\n",
        "Consider the points $Q(-6, 14, 7)$, $R(2,1,7)$, and $S(-5, 1, 6)$.\n",
        "\n",
        "1. Find the standard form of the plane that goes through the three points.\n",
        "2. Use numpy and matplotlib to draw the plane and the points."
      ],
      "metadata": {
        "id": "nH7sCKer3H91"
      }
    },
    {
      "cell_type": "code",
      "source": [],
      "metadata": {
        "id": "-YKYMCL_3S3-"
      },
      "execution_count": null,
      "outputs": []
    },
    {
      "cell_type": "markdown",
      "source": [
        "#Exercise: Distance between a Point and a Plane in 3D Space (1)\n",
        "\n",
        "Let $ \\mathbf{P} $ and $ \\mathbf{Q} $ be two points in 3D space, and let $ \\vec{\\mathbf{n}} $ be the normal vector of the plane passing through the point $ \\mathbf{Q} $.\n",
        "\n",
        "Prove that the distance from the point $ \\mathbf{P} $ to this plane is:\n",
        "\n",
        "$\n",
        "\\text{distance} = \\frac{|(\\mathbf{P} - \\mathbf{Q})| \\cdot \\vec{\\mathbf{n}}}{\\|\\vec{\\mathbf{n}}\\|}\n",
        "$\n",
        "\n",
        "where $ \\cdot $ denotes the dot product and $ \\|\\mathbf{n}\\| $ denotes the magnitude of the vector $ \\vec{\\mathbf{n}} $. This formula represents the magnitude of the projection of the vector $ \\mathbf{QP} $ onto the direction of the normal vector $ \\mathbf{n} $."
      ],
      "metadata": {
        "id": "Bhh6wxcj3TLA"
      }
    },
    {
      "cell_type": "code",
      "source": [],
      "metadata": {
        "id": "xPwiwFlv4Cq9"
      },
      "execution_count": null,
      "outputs": []
    },
    {
      "cell_type": "markdown",
      "source": [
        "#Exercise: Distance between a Point and a Plane in 3D Space (2)\n",
        "\n",
        "Consider the following points in 3D space:\n",
        "\n",
        "- $\\mathbf{P} (3, 4, 5)$\n",
        "- $\\mathbf{Q} (1, 2, 3)$\n",
        "\n",
        "Let $\\vec{\\mathbf{n}} = \\langle 2, -1, 4 \\rangle$ be the normal vector of the plane passing through the point $\\mathbf{Q}$.\n",
        "\n",
        "1. Calculate the distance from the point $\\mathbf{P}$ to the plane passing through $\\mathbf{Q}$.\n",
        "\n",
        "2. Plot the points $\\mathbf{P}$ and $\\mathbf{Q}$ in 3D space along with the plane passing through $\\mathbf{Q}$ using NumPy and Matplotlib.\n"
      ],
      "metadata": {
        "id": "s9nru1At4C8j"
      }
    },
    {
      "cell_type": "code",
      "source": [],
      "metadata": {
        "id": "I7kDmYIc4b4m"
      },
      "execution_count": null,
      "outputs": []
    },
    {
      "cell_type": "markdown",
      "source": [
        "#Exercise: Distance between a Point and a Plane in 3D Space (3)\n",
        "\n",
        "Consider the following points in 3D space:\n",
        "\n",
        "- $\\mathbf{P} (-7, 2, 3)$\n",
        "- $\\mathbf{Q} (5, 7, -3)$\n",
        "\n",
        "Let $\\vec{\\mathbf{n}} = \\langle 3, 1, 2 \\rangle$ be the normal vector of the plane passing through the point $\\mathbf{Q}$.\n",
        "\n",
        "1. Calculate the distance from the point $\\mathbf{P}$ to the plane passing through $\\mathbf{Q}$.\n",
        "\n",
        "2. Plot the points $\\mathbf{P}$ and $\\mathbf{Q}$ in 3D space along with the plane passing through $\\mathbf{Q}$ using NumPy and Matplotlib.\n"
      ],
      "metadata": {
        "id": "wdQ_NJly4cZ7"
      }
    },
    {
      "cell_type": "code",
      "source": [],
      "metadata": {
        "id": "k61tFVKm4tm8"
      },
      "execution_count": null,
      "outputs": []
    },
    {
      "cell_type": "markdown",
      "source": [
        "#Exercise: Distance between a Point and a Plane in 3D Space (4)\n",
        "\n",
        "Consider the following points in 3D space:\n",
        "\n",
        "- $\\mathbf{P} (11, 2, 7)$\n",
        "- $\\mathbf{Q} (-4, 3, 2)$\n",
        "\n",
        "Let $\\vec{\\mathbf{n}} = \\langle 5, -2, 3 \\rangle$ be the normal vector of the plane passing through the point $\\mathbf{Q}$.\n",
        "\n",
        "1. Calculate the distance from the point $\\mathbf{P}$ to the plane passing through $\\mathbf{Q}$.\n",
        "\n",
        "2. Plot the points $\\mathbf{P}$ and $\\mathbf{Q}$ in 3D space along with the plane passing through $\\mathbf{Q}$ using NumPy and Matplotlib."
      ],
      "metadata": {
        "id": "RaX1oA614t2c"
      }
    },
    {
      "cell_type": "code",
      "source": [],
      "metadata": {
        "id": "b7Tp-Sds5aHY"
      },
      "execution_count": null,
      "outputs": []
    },
    {
      "cell_type": "markdown",
      "source": [
        "# Exercise: Distance between two Parallel Planes (1)\n",
        "\n",
        "Consider the two planes are defined by the equation $Ax+By+Cz=D_1$ and $Ax+By+Cz=D_2$, where $A=3$, $B=-4$, and $C=2$ are the coefficients of the normal vector to the plane, and $D_1 = -7$ and $D_2 =8$ are the distances of the planes from the origin along the normal vector.\n",
        "\n",
        "1. Find the Euclidean distance between the two planes.\n",
        "2. Plot the two plane using numpy and matplotlib.\n"
      ],
      "metadata": {
        "id": "UQH9CwdZ5aZV"
      }
    },
    {
      "cell_type": "code",
      "source": [],
      "metadata": {
        "id": "3DrB-F-56aCV"
      },
      "execution_count": null,
      "outputs": []
    },
    {
      "cell_type": "markdown",
      "source": [
        "# Exercise: Distance between two Parallel Planes (2)\n",
        "\n",
        "Consider the two planes are defined by the equation $Ax+By+Cz=D_1$ and $Ax+By+Cz=D_2$, where $A=-5$, $B=7$, and $C=1$ are the coefficients of the normal vector to the plane, and $D_1 = 15$ and $D_2 = -34$ are the distances of the planes from the origin along the normal vector.\n",
        "\n",
        "1. Find the Euclidean distance between the two planes.\n",
        "2. Plot the two plane using numpy and matplotlib."
      ],
      "metadata": {
        "id": "q4PoR5_S6aUc"
      }
    },
    {
      "cell_type": "code",
      "source": [],
      "metadata": {
        "id": "DN9x1z_e64Zr"
      },
      "execution_count": null,
      "outputs": []
    },
    {
      "cell_type": "markdown",
      "source": [
        "# Exercise: Distance between two Parallel Planes (3)\n",
        "\n",
        "Consider the two planes are defined by the equation $Ax+By+Cz=D_1$ and $Ax+By+Cz=D_2$, where $A=8$, $B=-9$, and $C=4$ are the coefficients of the normal vector to the plane, and $D_1 = 0$ and $D_2 = -12$ are the distances of the planes from the origin along the normal vector.\n",
        "\n",
        "1. Find the Euclidean distance between the two planes.\n",
        "2. Plot the two plane using numpy and matplotlib."
      ],
      "metadata": {
        "id": "NgNqw88364tg"
      }
    },
    {
      "cell_type": "code",
      "source": [],
      "metadata": {
        "id": "flpfXdyt7Ekr"
      },
      "execution_count": null,
      "outputs": []
    },
    {
      "cell_type": "markdown",
      "source": [
        "# Exercise: Distance from a Plane to a Point when the Plane Equatinon is given (1)\n",
        "\n",
        "A plane is defined by the equation $Ax+By+Cz=D$, where $A$, $B$, and $C$ are the coefficients of the plane's normal vector, and $D$ is the distance of the plane from the origin along the normal vector.\n",
        "\n",
        "Now, suppose we have a point $P(x_1, y_1, z_1)$ in the 3D space.\n",
        "\n",
        "Prove that the distance between this point and the plane is:\n",
        "\n",
        "$$ \\text{Distance} = \\frac{|Ax_1+By_1+Cz_1-D|}{\\sqrt{A^2+B^2+C^2}} $$"
      ],
      "metadata": {
        "id": "hJfLlVNf7E8o"
      }
    },
    {
      "cell_type": "code",
      "source": [],
      "metadata": {
        "id": "9kA2DJ_l74D9"
      },
      "execution_count": null,
      "outputs": []
    },
    {
      "cell_type": "markdown",
      "source": [
        "# Exercise: Distance from a Plane to a Point when the Plane Equatinon is given (2)\n",
        "\n",
        "A plane is defined by the equation $Ax+By+Cz=D$, where $A=1$, $B=2$, and $C=3$ are the coefficients of the plane's normal vector, and $D=12$ is the distance of the plane from the origin along the normal vector.\n",
        "\n",
        "Consider a point $P(-5, 1, 2)$ in the 3D space.\n",
        "1. Find the distance between the point P and the plane.\n",
        "2. Plot the point P and plane using numpy and matplotlib."
      ],
      "metadata": {
        "id": "q9o-1vV07420"
      }
    },
    {
      "cell_type": "code",
      "source": [],
      "metadata": {
        "id": "xTtK5p_h8orD"
      },
      "execution_count": null,
      "outputs": []
    },
    {
      "cell_type": "markdown",
      "source": [
        "# Exercise: Distance from a Plane to a Point when the Plane Equatinon is given (3)\n",
        "\n",
        "A plane is defined by the equation $Ax+By+Cz=D$, where $A=1$, $B=2$, and $C=3$ are the coefficients of the plane's normal vector, and $D=12$ is the distance of the plane from the origin along the normal vector.\n",
        "\n",
        "Consider a point $P(-3, 0, 2)$ in the 3D space.\n",
        "1. Find the distance between the point P and the plane.\n",
        "2. Plot the point P and plane using numpy and matplotlib."
      ],
      "metadata": {
        "id": "d03kqnEI8o-e"
      }
    },
    {
      "cell_type": "code",
      "source": [],
      "metadata": {
        "id": "0dyGHIlF87bp"
      },
      "execution_count": null,
      "outputs": []
    },
    {
      "cell_type": "markdown",
      "source": [
        "# Exercise: Distance from a Plane to a Point when the Plane Equatinon is given (4)\n",
        "\n",
        "A plane is defined by the equation $Ax+By+Cz=D$, where $A=1$, $B=2$, and $C=3$ are the coefficients of the plane's normal vector, and $D=12$ is the distance of the plane from the origin along the normal vector.\n",
        "\n",
        "Consider a point $P(-4, 2, 4)$ in the 3D space.\n",
        "1. Find the distance between the point P and the plane.\n",
        "2. Plot the point P and plane using numpy and matplotlib."
      ],
      "metadata": {
        "id": "tZtGiVDX87td"
      }
    },
    {
      "cell_type": "code",
      "source": [],
      "metadata": {
        "id": "KGuV-6ox9Kaf"
      },
      "execution_count": null,
      "outputs": []
    },
    {
      "cell_type": "markdown",
      "source": [
        "# Exercise: Angle between Planes (1)\n",
        "\n",
        "Consider two planes, each defined by the equations $A1x + B1y + C1z = D1$ and $A2x + B2y + C2z = D2$.\n",
        "\n",
        "Prove that the cosine of the angle $(\\theta)$ between the two planes is:\n",
        "\n",
        "   $$ \\cos(\\theta) = \\frac{|n1 \\cdot n2|}{\\|n1\\| \\|n2\\|} $$\n",
        "\n",
        "where, $n1 = \\langle A1, B1, C1 \\rangle$ and $n2= \\langle A2, B2, C2 \\rangle$ represent the corresponding normal vectors to the planes, $|n1 \\cdot n2|$ represents the absolute value of the dot product of the normal vectors, and $||n1||$ and $||n2||$ represent the magnitudes of the respective normal vectors.\n",
        "\n",
        "Hint: Draw the two planes and the corresponding normal vectors to visualize $\\theta$."
      ],
      "metadata": {
        "id": "Jl-tfy3M9KyF"
      }
    },
    {
      "cell_type": "code",
      "source": [],
      "metadata": {
        "id": "DJb8pQdc_Jt5"
      },
      "execution_count": null,
      "outputs": []
    },
    {
      "cell_type": "markdown",
      "source": [
        "# Exercise: Angle between Planes (2)\n",
        "\n",
        "Consider two planes, each defined by the equations $3x + 4y - 5z = 11$ and $3x + 4y - 5z = -16$.\n",
        "\n",
        "1. Find the angle between two planes.\n",
        "2. Draw the two planes using numpy and matplotlib."
      ],
      "metadata": {
        "id": "KvVZ5Ojy_KBr"
      }
    },
    {
      "cell_type": "markdown",
      "source": [
        "# Exercise: Angle between Planes (3)\n",
        "\n",
        "Consider two planes, each defined by the equations $3x + 4y - 5z = 11$ and $5x + 9y - 4z = 6$.\n",
        "\n",
        "1. Find the angle between two planes.\n",
        "2. Draw the two planes using numpy and matplotlib."
      ],
      "metadata": {
        "id": "ZcrTw-Zd_tI4"
      }
    },
    {
      "cell_type": "code",
      "source": [],
      "metadata": {
        "id": "7cvE7l7Y_1G_"
      },
      "execution_count": null,
      "outputs": []
    },
    {
      "cell_type": "markdown",
      "source": [
        "# Exercise: Angle between Planes (2)\n",
        "\n",
        "Consider two planes, each defined by the equations $7x + y -35z = 0$ and $x + 5y - 3z = 6$.\n",
        "\n",
        "1. Find the angle between two planes.\n",
        "2. Draw the two planes using numpy and matplotlib."
      ],
      "metadata": {
        "id": "Vgtnl3bz_1Zb"
      }
    },
    {
      "cell_type": "code",
      "source": [],
      "metadata": {
        "id": "qhFkYrdyAAqd"
      },
      "execution_count": null,
      "outputs": []
    },
    {
      "cell_type": "code",
      "source": [],
      "metadata": {
        "id": "AKo4Q_7v_szK"
      },
      "execution_count": null,
      "outputs": []
    }
  ]
}