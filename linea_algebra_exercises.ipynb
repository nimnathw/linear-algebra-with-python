{
  "nbformat": 4,
  "nbformat_minor": 0,
  "metadata": {
    "colab": {
      "provenance": [],
      "authorship_tag": "ABX9TyNyEfUYg0MGsSjgRWUXFoY3",
      "include_colab_link": true
    },
    "kernelspec": {
      "name": "python3",
      "display_name": "Python 3"
    },
    "language_info": {
      "name": "python"
    }
  },
  "cells": [
    {
      "cell_type": "markdown",
      "metadata": {
        "id": "view-in-github",
        "colab_type": "text"
      },
      "source": [
        "<a href=\"https://colab.research.google.com/github/nimnathw/linear-algebra-with-python/blob/main/linea_algebra_exercises.ipynb\" target=\"_parent\"><img src=\"https://colab.research.google.com/assets/colab-badge.svg\" alt=\"Open In Colab\"/></a>"
      ]
    },
    {
      "cell_type": "markdown",
      "source": [
        "#Exercise: Exploring Vector Direction and Magnitude\n",
        "\n",
        "Instructions:\n",
        "\n",
        "Consider the following two 3-dimensional vectors:\n",
        "\n",
        "1. Vector v⃗:\n",
        "   v⃗ = (3, 4, 2)\n",
        "\n",
        "2. Vector u⃗:\n",
        "   u⃗ = (1, 2, 5)\n",
        "\n",
        "Perform the following operations:\n",
        "\n",
        "1. Compute the magnitude of each vector using the Euclidean norm formula.\n",
        "2. Calculate the direction of each vector.\n",
        "3. Find the vector v⃗ - u⃗ and u⃗ - v⃗.\n",
        "4. Compute the sum, u⃗ + v⃗.\n",
        "5. Draw the vectors v⃗ and u⃗ as arrows in a 3-dimensional space using Matplotlib.\n",
        "6. Draw the resulting vectors v⃗ - u⃗, u⃗ - v⃗, and u⃗ + v⃗ in the same 3-dimensional space using Matplotlib.\n",
        "\n",
        "Requirements:\n",
        "\n",
        "1. Utilize the NumPy library for vector calculations and operations.\n",
        "2. Use Matplotlib for creating visual representations of the vectors in a 3-dimensional space.\n",
        "3. Clearly present each step of the calculations and operations.\n",
        "4. Explain the significance of the results in the context of vector operations and their applications in real-world scenarios.\n",
        "\n",
        "\n",
        "\n",
        "\n"
      ],
      "metadata": {
        "id": "PM6VrdZW4hZj"
      }
    },
    {
      "cell_type": "code",
      "execution_count": null,
      "metadata": {
        "id": "oF9uEihT2giD"
      },
      "outputs": [],
      "source": []
    },
    {
      "cell_type": "markdown",
      "source": [
        "# Exercise: Exploring Dot Product\n",
        "Instructions:\n",
        "\n",
        "Consider the following two 3-dimensional vectors:\n",
        "\n",
        "1. Vector v⃗:\n",
        "   v⃗ = [3, 4, 2]\n",
        "\n",
        "2. Vector w⃗:\n",
        "   w⃗ = [1, 2, 5]\n",
        "\n",
        "Perform the following steps:\n",
        "\n",
        "1. Utilize the NumPy library to calculate the dot product of vectors v⃗ and w⃗.\n",
        "2. Compute the magnitudes of vectors v⃗ and w⃗ using appropriate NumPy functions.\n",
        "3. Determine the angle θ between the two vectors using the inverse cosine function in NumPy.\n",
        "4. Verify that the dot product v⃗ ⋅ w⃗ is equal to the product of the magnitudes of v⃗ and w⃗ multiplied by cos θ, using NumPy calculations.\n",
        "5. Create a 3D plot using Matplotlib to visualize the vectors v⃗ and w⃗ as arrows in a 3-dimensional space.\n",
        "6. Label the plot to represent the vectors and the angle θ between them.\n",
        "\n",
        "Requirements:\n",
        "\n",
        "1. Use the NumPy library for vector calculations, including the dot product, magnitude calculation, and angle determination.\n",
        "2. Utilize Matplotlib to create a 3D plot representing the vectors and the angle between them.\n",
        "3. Provide a step-by-step explanation of the calculations and the code used for visualization.\n",
        "4. Discuss the significance of the dot product, the computed angle, and the visualization in understanding the relationship between vectors.\n",
        "\n"
      ],
      "metadata": {
        "id": "yR1-bf4_5-np"
      }
    },
    {
      "cell_type": "code",
      "source": [],
      "metadata": {
        "id": "a0nRWCDs9doI"
      },
      "execution_count": null,
      "outputs": []
    },
    {
      "cell_type": "markdown",
      "source": [
        "Exercise: Computing the Volume of a Parallelepiped\n",
        "\n",
        "Instructions:\n",
        "\n",
        "Consider a parallelepiped formed by three non-coplanar vectors in 3D space: **u** = [1, 2, 3], **v** = [4, 1, 2], and **w** = [2, 3, 5]. Perform the following steps:\n",
        "\n",
        "1. Create a 3x3 matrix using the components of vectors **u**, **v**, and **w** as the rows or columns of the matrix.\n",
        "2. Compute the determinant of the 3x3 matrix using the provided determinant formula.\n",
        "3. Determine the absolute value of the determinant, which represents the volume of the parallelepiped spanned by vectors **u**, **v**, and **w**.\n",
        "4. Discuss the significance of the computed volume and its relation to the orientation and shape of the parallelepiped in 3D space.\n",
        "5. Illustrate the parallelepiped defined by vectors **u**, **v**, and **w** in a 3D coordinate system using Matplotlib for visual representation.\n",
        "\n",
        "Requirements:\n",
        "\n",
        "1. Apply the determinant formula accurately using the components of vectors **u**, **v**, and **w** to compute the volume of the parallelepiped.\n",
        "2. Provide a clear explanation of the process involved in calculating the determinant and its interpretation as the volume of the parallelepiped.\n",
        "3. Create a 3x3 matrix and compute the determinant using the provided components of vectors **u**, **v**, and **w**.\n",
        "4. Explain the relevance of determinants in linear algebra and their applications in calculating the volume of parallelepipeds in 3D space."
      ],
      "metadata": {
        "id": "zS6rJLMhDkTC"
      }
    },
    {
      "cell_type": "code",
      "source": [],
      "metadata": {
        "id": "kNRQtgJDDxmj"
      },
      "execution_count": null,
      "outputs": []
    },
    {
      "cell_type": "markdown",
      "source": [
        "# Exercise Title: Exploring Cross Product\n",
        "\n",
        "Instructions:\n",
        "\n",
        "Consider the following two 3-dimensional vectors:\n",
        "\n",
        "1. Vector v⃗:\n",
        "   v⃗ = [3, 4, 2]\n",
        "\n",
        "2. Vector w⃗:\n",
        "   w⃗ = [1, 2, 5]\n",
        "\n",
        "Perform the following steps:\n",
        "\n",
        "1. Use the NumPy library to compute the cross product of vectors v⃗ and w⃗.\n",
        "2. Interpret the geometric meaning of the cross product in terms of vector perpendicularity and the area of the parallelogram formed by the two vectors.\n",
        "3. Calculate the magnitude of the cross product and explain how it relates to the area of the parallelogram.\n",
        "4. Visualize the vectors v⃗ and w⃗ along with their cross product using Matplotlib in a 3-dimensional space.\n",
        "5. Discuss the implications of the right-hand rule in determining the direction of the resulting vector in the cross product.\n",
        "\n",
        "Requirements:\n",
        "\n",
        "1. Utilize the NumPy library for vector calculations, especially for the cross product and magnitude computation.\n",
        "2. Use Matplotlib to create a 3D plot representing the vectors and the resulting cross product.\n",
        "3. Provide a step-by-step explanation of the calculations and the code used for visualization.\n",
        "4. Discuss the significance of the cross product, its geometric interpretation, and its practical applications in diverse fields.\n"
      ],
      "metadata": {
        "id": "tKxRNZ9T9d9x"
      }
    },
    {
      "cell_type": "code",
      "source": [],
      "metadata": {
        "id": "OVe4HUot_2a5"
      },
      "execution_count": null,
      "outputs": []
    },
    {
      "cell_type": "markdown",
      "source": [
        "# Exercise: Calculating the Area of a 3D Triangle Using Cross Product\n",
        "\n",
        "Instructions:\n",
        "\n",
        "Consider a triangle formed by three points in 3D space: A(2, 3, 1), B(4, 1, 2), and C(5, 3, 6). Perform the following steps:\n",
        "\n",
        "1. Compute the vectors **AB** and **AC** using the given coordinates.\n",
        "2. Calculate the cross product of vectors **AB** and **AC** using the cross product formula.\n",
        "3. Determine the magnitude of the resulting cross product vector **N** using the magnitude formula provided.\n",
        "4. Divide the magnitude of **N** by 2 to obtain the area of the triangle.\n",
        "5. Discuss the significance of the computed area and how it relates to the orientation of the triangle in 3D space.\n",
        "6. Illustrate the triangle and the vectors **AB** and **AC** in a 3D coordinate system using Matplotlib to provide a visual representation.\n",
        "\n",
        "Requirements:\n",
        "\n",
        "1. Utilize the provided coordinates to calculate the vectors **AB** and **AC** and the resulting cross product vector **N**.\n",
        "2. Apply the cross product formula and the magnitude formula accurately using the coordinates.\n",
        "3. Explain the relevance of the cross product method in determining the area of the triangle and its relation to the orientation of the triangle in 3D space.\n",
        "4. Create a 3D plot using Matplotlib to visually represent the triangle and the vectors **AB** and **AC**."
      ],
      "metadata": {
        "id": "kbGJGP5a_3Kr"
      }
    }
  ]
}