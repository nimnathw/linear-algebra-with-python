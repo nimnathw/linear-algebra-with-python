{
  "nbformat": 4,
  "nbformat_minor": 0,
  "metadata": {
    "colab": {
      "provenance": [],
      "authorship_tag": "ABX9TyM6tXIW7Vv/ZqfpjnXi13wx",
      "include_colab_link": true
    },
    "kernelspec": {
      "name": "python3",
      "display_name": "Python 3"
    },
    "language_info": {
      "name": "python"
    }
  },
  "cells": [
    {
      "cell_type": "markdown",
      "metadata": {
        "id": "view-in-github",
        "colab_type": "text"
      },
      "source": [
        "<a href=\"https://colab.research.google.com/github/nimnathw/linear-algebra-with-python/blob/main/linea_algebra_exercises.ipynb\" target=\"_parent\"><img src=\"https://colab.research.google.com/assets/colab-badge.svg\" alt=\"Open In Colab\"/></a>"
      ]
    },
    {
      "cell_type": "markdown",
      "source": [
        "#Exercise: Exploring Vector Direction and Magnitude\n",
        "\n",
        "Instructions:\n",
        "\n",
        "Consider the following two 3-dimensional vectors:\n",
        "\n",
        "1. Vector v⃗:\n",
        "   v⃗ = (3, 4, 2)\n",
        "\n",
        "2. Vector u⃗:\n",
        "   u⃗ = (1, 2, 5)\n",
        "\n",
        "Perform the following operations:\n",
        "\n",
        "1. Compute the magnitude of each vector using the Euclidean norm formula.\n",
        "2. Calculate the direction of each vector.\n",
        "3. Find the vector v⃗ - u⃗ and u⃗ - v⃗.\n",
        "4. Compute the sum, u⃗ + v⃗.\n",
        "5. Draw the vectors v⃗ and u⃗ as arrows in a 3-dimensional space using Matplotlib.\n",
        "6. Draw the resulting vectors v⃗ - u⃗, u⃗ - v⃗, and u⃗ + v⃗ in the same 3-dimensional space using Matplotlib.\n",
        "\n",
        "Requirements:\n",
        "\n",
        "1. Utilize the NumPy library for vector calculations and operations.\n",
        "2. Use Matplotlib for creating visual representations of the vectors in a 3-dimensional space.\n",
        "3. Clearly present each step of the calculations and operations.\n",
        "4. Explain the significance of the results in the context of vector operations and their applications in real-world scenarios.\n",
        "\n",
        "\n",
        "\n",
        "\n"
      ],
      "metadata": {
        "id": "PM6VrdZW4hZj"
      }
    },
    {
      "cell_type": "code",
      "execution_count": null,
      "metadata": {
        "id": "oF9uEihT2giD"
      },
      "outputs": [],
      "source": []
    },
    {
      "cell_type": "markdown",
      "source": [
        "# Exercise: Exploring Dot Product\n",
        "Instructions:\n",
        "\n",
        "Consider the following two 3-dimensional vectors:\n",
        "\n",
        "1. Vector v⃗:\n",
        "   v⃗ = [3, 4, 2]\n",
        "\n",
        "2. Vector w⃗:\n",
        "   w⃗ = [1, 2, 5]\n",
        "\n",
        "Perform the following steps:\n",
        "\n",
        "1. Utilize the NumPy library to calculate the dot product of vectors v⃗ and w⃗.\n",
        "2. Compute the magnitudes of vectors v⃗ and w⃗ using appropriate NumPy functions.\n",
        "3. Determine the angle θ between the two vectors using the inverse cosine function in NumPy.\n",
        "4. Verify that the dot product v⃗ ⋅ w⃗ is equal to the product of the magnitudes of v⃗ and w⃗ multiplied by cos θ, using NumPy calculations.\n",
        "5. Create a 3D plot using Matplotlib to visualize the vectors v⃗ and w⃗ as arrows in a 3-dimensional space.\n",
        "6. Label the plot to represent the vectors and the angle θ between them.\n",
        "\n",
        "Requirements:\n",
        "\n",
        "1. Use the NumPy library for vector calculations, including the dot product, magnitude calculation, and angle determination.\n",
        "2. Utilize Matplotlib to create a 3D plot representing the vectors and the angle between them.\n",
        "3. Provide a step-by-step explanation of the calculations and the code used for visualization.\n",
        "4. Discuss the significance of the dot product, the computed angle, and the visualization in understanding the relationship between vectors.\n",
        "\n"
      ],
      "metadata": {
        "id": "yR1-bf4_5-np"
      }
    },
    {
      "cell_type": "code",
      "source": [],
      "metadata": {
        "id": "kNRQtgJDDxmj"
      },
      "execution_count": null,
      "outputs": []
    },
    {
      "cell_type": "markdown",
      "source": [
        "# Exercise Title: Exploring Cross Product\n",
        "\n",
        "Instructions:\n",
        "\n",
        "Consider the following two 3-dimensional vectors:\n",
        "\n",
        "1. Vector v⃗:\n",
        "   v⃗ = [3, 4, 2]\n",
        "\n",
        "2. Vector w⃗:\n",
        "   w⃗ = [1, 2, 5]\n",
        "\n",
        "Perform the following steps:\n",
        "\n",
        "1. Use the NumPy library to compute the cross product of vectors v⃗ and w⃗.\n",
        "2. Interpret the geometric meaning of the cross product in terms of vector perpendicularity and the area of the parallelogram formed by the two vectors.\n",
        "3. Calculate the magnitude of the cross product and explain how it relates to the area of the parallelogram.\n",
        "4. Visualize the vectors v⃗ and w⃗ along with their cross product using Matplotlib in a 3-dimensional space.\n",
        "5. Discuss the implications of the right-hand rule in determining the direction of the resulting vector in the cross product.\n",
        "\n",
        "Requirements:\n",
        "\n",
        "1. Utilize the NumPy library for vector calculations, especially for the cross product and magnitude computation.\n",
        "2. Use Matplotlib to create a 3D plot representing the vectors and the resulting cross product.\n",
        "3. Provide a step-by-step explanation of the calculations and the code used for visualization.\n",
        "4. Discuss the significance of the cross product, its geometric interpretation, and its practical applications in diverse fields.\n"
      ],
      "metadata": {
        "id": "tKxRNZ9T9d9x"
      }
    },
    {
      "cell_type": "code",
      "source": [],
      "metadata": {
        "id": "OVe4HUot_2a5"
      },
      "execution_count": null,
      "outputs": []
    },
    {
      "cell_type": "markdown",
      "source": [
        "# Exercise: Calculating the Area of a 3D Triangle Using Cross Product\n",
        "\n",
        "Instructions:\n",
        "\n",
        "Consider a triangle formed by three points in 3D space: A(2, 3, 1), B(4, 1, 2), and C(5, 3, 6). Perform the following steps:\n",
        "\n",
        "1. Compute the vectors $\\vec {AB}$ and $\\vec {AC}$ using the given coordinates.\n",
        "2. Calculate the cross product of vectors $\\vec {AB}$ and $\\vec {AC}$ using the cross product formula.\n",
        "3. Determine the magnitude of the resulting cross product vector $\\vec {n}$ using the magnitude formula provided.\n",
        "4. Divide the magnitude of $\\vec {n}$ by 2 to obtain the area of the triangle.\n",
        "5. Discuss the significance of the computed area and how it relates to the orientation of the triangle in 3D space.\n",
        "6. Illustrate the triangle and the vectors $\\vec {AB}$ and $\\vec {AC}$ in a 3D coordinate system using Matplotlib to provide a visual representation.\n",
        "\n"
      ],
      "metadata": {
        "id": "kbGJGP5a_3Kr"
      }
    },
    {
      "cell_type": "code",
      "source": [],
      "metadata": {
        "id": "4870TUCOFLHX"
      },
      "execution_count": null,
      "outputs": []
    },
    {
      "cell_type": "markdown",
      "source": [
        "# Exercise: Computing the Volume of a Parallelepiped\n",
        "\n",
        "Instructions:\n",
        "\n",
        "Consider a parallelepiped formed by three non-coplanar vectors in 3D space: **u** = [1, 2, 3], **v** = [4, 1, 2], and **w** = [2, 3, 5]. Perform the following steps:\n",
        "\n",
        "1. Create a 3x3 matrix using the components of vectors **u**, **v**, and **w** as the rows or columns of the matrix.\n",
        "2. Compute the determinant of the 3x3 matrix using the provided determinant formula.\n",
        "3. Determine the absolute value of the determinant, which represents the volume of the parallelepiped spanned by vectors **u**, **v**, and **w**.\n",
        "4. Discuss the significance of the computed volume and its relation to the orientation and shape of the parallelepiped in 3D space.\n",
        "5. Illustrate the parallelepiped defined by vectors **u**, **v**, and **w** in a 3D coordinate system using Matplotlib for visual representation.\n",
        "\n",
        "Requirements:\n",
        "\n",
        "1. Apply the determinant formula accurately using the components of vectors **u**, **v**, and **w** to compute the volume of the parallelepiped.\n",
        "2. Provide a clear explanation of the process involved in calculating the determinant and its interpretation as the volume of the parallelepiped.\n",
        "3. Create a 3x3 matrix and compute the determinant using the provided components of vectors **u**, **v**, and **w**.\n",
        "4. Explain the relevance of determinants in linear algebra and their applications in calculating the volume of parallelepipeds in 3D space."
      ],
      "metadata": {
        "id": "zS6rJLMhDkTC"
      }
    },
    {
      "cell_type": "code",
      "source": [],
      "metadata": {
        "id": "P43_-Bq_FOT5"
      },
      "execution_count": null,
      "outputs": []
    },
    {
      "cell_type": "markdown",
      "source": [
        "# Exercise: Prove the formula for the projection of a vector\n",
        "\n",
        "Prove the formula for the projection of a vector $u$ onto another vector $w$, i.e., $\\text{proj}_w (u) = \\frac{u \\cdot w}{w \\cdot w} \\cdot w$.\n",
        "\n",
        "\n",
        "**Hint:**\n",
        "Use the definition of the dot product to express $u \\cdot w$ in terms of the magnitudes of vectors $u$ and $w$ and the cosine of the angle between them, $u \\cdot w = \\|u\\| \\|w\\| \\cos(\\theta)$.\n",
        "\n",
        "\n",
        "### Common MathJax/LaTeX Commands\n",
        "\n",
        "**Basic Formatting Commands:**\n",
        "1. *Italic Text*: \\textit{your text}.\n",
        "2. **Bold Text**: \\textbf{your text}.\n",
        "3. Underline Text: \\underline{your text}.\n",
        "4. Subscript: x\\_{sub} for subscript.\n",
        "5. Superscript: x^{sup} for superscript.\n",
        "6. Space: \\quad for space.\n",
        "\n",
        "\n",
        "**Vectors and Matrices:**\n",
        "1. Vector: \\mathbf{v} for boldface vectors.\n",
        "2. Matrix: \\mathbf{A} for boldface matrices.\n",
        "3. Transpose: \\mathbf{A}^\\text{T} for transpose of matrix A.\n",
        "4. Determinant: \\text{det}(A) for the determinant of matrix A.\n",
        "5. Inverse: A^{-1} for the inverse of matrix A.\n",
        "\n",
        "**Operators and Symbols:**\n",
        "1. Dot Product: \\cdot for dot product of vectors.\n",
        "2. Hadamard product (element-wise multiplication of two matrices with the same dimensions): \\odot\n",
        "\n",
        "if you have two matrices $A$ and $B$ of the same size, the element-wise multiplication is denoted as $C = A \\odot B$, where each element $C_{ij}$ is the product of the corresponding elements $A_{ij}4 and $B_{ij}$.\n",
        "\n",
        "3. Cross Product: \\times for cross product of vectors.\n",
        "4. Scalar Multiplication: k\\mathbf{v} for scalar multiplication.\n",
        "5. Summation: \\sum_{i=1}^{n} for summation.\n",
        "6. Product: \\prod_{i=1}^{n} for product.\n",
        "\n",
        "**Equations and Formulas:**\n",
        "1. Inline Equation: *dollar sign* your equation  *dollar sign* for inline equations.\n",
        "2. Display Equation: *dollar sign* *dollar sign* your equation *dollar sign* *dollar sign* for displayed equations.\n",
        "3. Fractions: \\frac{numerator}{denominator} for fractions.\n",
        "4. Square Root: \\sqrt{x} for square root.\n",
        "5. Parentheses and Brackets: (, ), [, ], \\{, \\}, \\left(, \\right), \\left[, \\right], \\left\\{, \\right\\} for different types of parentheses and brackets.\n",
        "\n",
        "**Trigonometric Functions:**\n",
        "1. Sine: \\sin(x) for sine of x.\n",
        "2. Cosine: \\cos(x) for cosine of x.\n",
        "3. Tangent: \\tan(x) for tangent of x.\n",
        "\n",
        "**Calculus:**\n",
        "1. Derivative: \\frac{d}{dx} for derivative with respect to x.\n",
        "2. Integral: \\int_{a}^{b} for definite integral from a to b.\n"
      ],
      "metadata": {
        "id": "hmHfGW73EgLf"
      }
    },
    {
      "cell_type": "code",
      "source": [],
      "metadata": {
        "id": "nyz7Aw6YSthr"
      },
      "execution_count": null,
      "outputs": []
    },
    {
      "cell_type": "markdown",
      "source": [
        "# Exercise: Vector Decomposition and Visualization (1)\n",
        "\n",
        "Consider two 2-dimensional vectors: $ u = [3, 4] $ and $ w = [1, 2] $.\n",
        "\n",
        "1. Calculate the dot product of the two vectors $u$ and $w$ using the provided formula. Find the magnitude of $u$, the magnitude of $w$, and the angle $\\theta$ between the two vectors.\n",
        "\n",
        "2. Compute the projection of vector $u$ onto vector $w$ using the formula $||u|| \\cos(\\theta)$.\n",
        "\n",
        "3. Decompose vector $u$ into components along vector $w$ using the formula for projection $\\text{proj}_w(u) = \\frac{u \\cdot w}{w \\cdot w} \\cdot w$.\n",
        "\n",
        "4. Find the component of vector $u$ orthogonal to $w$ using the formula $u_{\\perp} = u - \\text{proj}_w(u)$.\n",
        "\n",
        "5. Use NumPy to perform the calculations and visualize the results with Matplotlib. Plot the original vectors, the projection of $u$ onto $w$, and the component of $u$ orthogonal to $w$ on a 2D plane.\n"
      ],
      "metadata": {
        "id": "bVLOfc_VSuNY"
      }
    },
    {
      "cell_type": "code",
      "source": [],
      "metadata": {
        "id": "HHiLNPXMTumZ"
      },
      "execution_count": null,
      "outputs": []
    },
    {
      "cell_type": "markdown",
      "source": [
        "# Exercise: Vector Decomposition and Visualization (2)\n",
        "\n",
        "Consider two 2-dimensional vectors: $ u = [3, 4] $ and $ w = [1, 0] $.\n",
        "\n",
        "1. Compute the projection of vector $u$ onto vector $w$.\n",
        "\n",
        "2. Find the component of vector $u$ orthogonal to $w$.\n",
        "\n",
        "3. Use NumPy to perform the calculations and visualize the results with Matplotlib. Plot the original vectors, the projection of $u$ onto $w$, and the component of $u$ orthogonal to $w$ on a 2D plane."
      ],
      "metadata": {
        "id": "3nEEcm5BTvBX"
      }
    },
    {
      "cell_type": "code",
      "source": [],
      "metadata": {
        "id": "5Zi9NlWHULfK"
      },
      "execution_count": null,
      "outputs": []
    },
    {
      "cell_type": "markdown",
      "source": [
        "# Exercise: Vector Decomposition and Visualization (3)\n",
        "\n",
        "Consider two 2-dimensional vectors: $ u = [3, 4] $ and $ w = [0, 6] $.\n",
        "\n",
        "1. Compute the projection of vector $u$ onto vector $w$.\n",
        "\n",
        "2. Find the component of vector $u$ orthogonal to $w$.\n",
        "\n",
        "3. Use NumPy to perform the calculations and visualize the results with Matplotlib. Plot the original vectors, the projection of $u$ onto $w$, and the component of $u$ orthogonal to $w$ on a 2D plane."
      ],
      "metadata": {
        "id": "X043FI_FUMBo"
      }
    },
    {
      "cell_type": "code",
      "source": [],
      "metadata": {
        "id": "LMU47jx1USaJ"
      },
      "execution_count": null,
      "outputs": []
    },
    {
      "cell_type": "markdown",
      "source": [
        "# Excercise: Equation of a Line (1)\n",
        "\n",
        "Consider the point P(7, 4, -1) and a vector v = (1, 3, 4).\n",
        "\n",
        "1. Find the parametric equations for the line passing through the point P and parallel to the vector v.\n",
        "\n",
        "2. Visualize the line using NumPy and Matplotlib. You can use the `matplotlib.pyplot` and `mpl_toolkits.mplot3d` modules for 3D plotting.\n",
        "\n",
        "\n",
        "**Hint:**\n",
        "Remember that the parametric equation for a line in 3D space is of the form:\n",
        "\n",
        "$$x = x_0 + at$$\n",
        "$$y = y_0 + bt$$\n",
        "$$z = z_0 + ct$$\n",
        "\n",
        "where (x0, y0, z0) is a point on the line, and (a, b, c) are the direction ratios of the line.\n",
        "\n",
        "\n"
      ],
      "metadata": {
        "id": "wl485MF4dJQ-"
      }
    },
    {
      "cell_type": "code",
      "source": [],
      "metadata": {
        "id": "U6qlXDnQdI0v"
      },
      "execution_count": null,
      "outputs": []
    },
    {
      "cell_type": "markdown",
      "source": [
        "# Exercise: Equation of a Line (2)\n",
        "Consider the following two lines in 3D space:\n",
        "\n",
        "Line 1:\n",
        "$$\\frac{x - 2}{2} = \\frac{y - 3}{1} = \\frac{z - 1}{4}$$\n",
        "\n",
        "Line 2:\n",
        "$$\\frac{x - 4}{3} = \\frac{y - 2}{2} = \\frac{z - 3}{5}$$\n",
        "\n",
        "1. Find the point of intersection, $P$, of these two lines.\n",
        "2. Use NumPy and Matplotlib to plot the two lines and the point of intersection in 3D space. You can use the `matplotlib.pyplot` and `mpl_toolkits.mplot3d` modules for 3D plotting."
      ],
      "metadata": {
        "id": "z0Kpbg5veVxJ"
      }
    },
    {
      "cell_type": "code",
      "source": [],
      "metadata": {
        "id": "sJ_ADHbWjDwL"
      },
      "execution_count": null,
      "outputs": []
    },
    {
      "cell_type": "markdown",
      "source": [
        "# Exercise: Equation of a Line (3)\n",
        "\n",
        "Consider the following two lines in 3D space:\n",
        "\n",
        "Line 1:\n",
        "$$\\frac{x - 6}{3} = \\frac{y - 5}{4} = \\frac{z - 7}{2}$$\n",
        "\n",
        "Line 2:\n",
        "$$\\frac{x - 11}{4} = \\frac{y - 3}{3} = \\frac{z - 1}{5}$$\n",
        "\n",
        "1. Find the point of intersection, \\(P\\), of these two lines.\n",
        "2. Use NumPy and Matplotlib to plot the two lines and the point of intersection in 3D space. You can use the `matplotlib.pyplot` and `mpl_toolkits.mplot3d` modules for 3D plotting."
      ],
      "metadata": {
        "id": "9Z8pcBCljEZF"
      }
    },
    {
      "cell_type": "code",
      "source": [],
      "metadata": {
        "id": "jUuEsjQ8p5cG"
      },
      "execution_count": null,
      "outputs": []
    },
    {
      "cell_type": "markdown",
      "source": [
        "# Exercise: Equation of a Line (4)\n",
        "\n",
        "Consider the following parametric equation for a line in 5-d space:\n",
        "\n",
        "$$x_1 = a_1 + t \\cdot d_1,$$\n",
        "$$x_2 = a_2 + t \\cdot d_2,$$\n",
        "$$x_3 = a_3 + t \\cdot d_3,$$\n",
        "$$x_4 = a_4 + t \\cdot d_4,$$\n",
        "$$x_5 = a_5 + t \\cdot d_5,$$\n",
        "\n",
        "where:\n",
        "- $a_1, a_2, a_3, a_4, a_5$ are constants representing the starting points along each dimension,\n",
        "- $d_1, d_2, d_3, d_4, d_5$ are the direction vectors along each dimension,\n",
        "- $t$ is the parameter that determines the position of points along the line.\n",
        "\n",
        "Line 1 is:\n",
        "$$a = (1, 2, 3, 4, 5),$$\n",
        "$$d = (2, 3, 1, 4, 2),$$\n",
        "\n",
        "Line 2 is:\n",
        "$$a = (7, -4, 9, 14, 1),$$\n",
        "$$d = (2, 3, 1, 4, 2),$$\n",
        "\n",
        "1. Find the shortest distance between these two parallel lines.\n",
        "2. Use numpy code to calculate and print out the shortest distance between the two lines.\n"
      ],
      "metadata": {
        "id": "rIP1xng676wJ"
      }
    },
    {
      "cell_type": "code",
      "source": [],
      "metadata": {
        "id": "NmV6quQo-DWs"
      },
      "execution_count": null,
      "outputs": []
    },
    {
      "cell_type": "markdown",
      "source": [
        "# Exercise: Equation of a Line (5)\n",
        "\n",
        "Consider the following parametric equation for a line in 5-d space:\n",
        "\n",
        "$$x_1 = a_1 + t \\cdot d_1,$$\n",
        "$$x_2 = a_2 + t \\cdot d_2,$$\n",
        "$$x_3 = a_3 + t \\cdot d_3,$$\n",
        "$$x_4 = a_4 + t \\cdot d_4,$$\n",
        "$$x_5 = a_5 + t \\cdot d_5,$$\n",
        "\n",
        "where:\n",
        "- $a_1, a_2, a_3, a_4, a_5$ are constants representing the starting points along each dimension,\n",
        "- $d_1, d_2, d_3, d_4, d_5$ are the direction vectors along each dimension,\n",
        "- $t$ is the parameter that determines the position of points along the line.\n",
        "\n",
        "Line 1 is:\n",
        "$$a = (1, 2, 3, 4, 5),$$\n",
        "$$d = (2, 3, 1, 4, 2),$$\n",
        "\n",
        "Point P is:\n",
        "$$ P = (18, -6, 3, 14, 1)$$\n",
        "\n",
        "1. Find the shortest distance between the point P and Line 1.\n",
        "2. Use numpy code to calculate and print out the shortest distance.\n"
      ],
      "metadata": {
        "id": "zm0GXFVqLnSW"
      }
    },
    {
      "cell_type": "code",
      "source": [],
      "metadata": {
        "id": "9fLj2fA6MYvR"
      },
      "execution_count": null,
      "outputs": []
    },
    {
      "cell_type": "markdown",
      "source": [
        "# Exercise: Equation of a Line (6)\n",
        "\n",
        "Consider the following parametric equation for a line in 3-d space:\n",
        "\n",
        "$$x_1 = a_1 + t \\cdot d_1,$$\n",
        "$$x_2 = a_2 + t \\cdot d_2,$$\n",
        "$$x_3 = a_3 + t \\cdot d_3,$$\n",
        "\n",
        "where:\n",
        "- $a_1, a_2, a_3 are constants representing the starting points along each dimension,\n",
        "- $d_1, d_2, d_35$ are the direction vectors along each dimension,\n",
        "- $t$ is the parameter that determines the position of points along the line.\n",
        "\n",
        "Line 1 is:\n",
        "$$a = (4, 2, 3),$$\n",
        "$$d = (6, 3, 1),$$\n",
        "\n",
        "Point P is:\n",
        "$$ P = ( 5, 1, 7)$$\n",
        "\n",
        "1. Find the shortest distance between the point P and Line 1 using two methods.\n",
        "2. Use numpy code to  and print out the shortest distance.\n"
      ],
      "metadata": {
        "id": "3iRT_foyw8Kj"
      }
    },
    {
      "cell_type": "code",
      "source": [],
      "metadata": {
        "id": "piuXg8kkw_JA"
      },
      "execution_count": null,
      "outputs": []
    },
    {
      "cell_type": "markdown",
      "source": [
        "# Exercise: Standard Form of Plane Equation (1)\n",
        "\n",
        "Consider a plane parallel to $2x - 4y + 3z = 10$ and passing through the point $Q(1, -2, 4)$.\n",
        "\n",
        "1. Find the standard form of the plane equation.\n",
        "2. Use NumPy and Matplotlib to plot the plane.\n",
        "\n",
        "\n"
      ],
      "metadata": {
        "id": "mDHf_RW285IP"
      }
    },
    {
      "cell_type": "code",
      "source": [],
      "metadata": {
        "id": "cSJFrmB99stG"
      },
      "execution_count": null,
      "outputs": []
    },
    {
      "cell_type": "markdown",
      "source": [
        "# Exercise: Standard Form of a Plane Equation (2)\n",
        "\n",
        "Consider a plane parallel to $5x - 3y + 2z = 12$ and passing through the point $Q(2, -1, 3)$.\n",
        "\n",
        "1. Find the standard form of the plane equation.\n",
        "2. Use NumPy and Matplotlib to plot the plane.\n"
      ],
      "metadata": {
        "id": "-j0A6JQV9tAX"
      }
    },
    {
      "cell_type": "code",
      "source": [],
      "metadata": {
        "id": "u9ULXeVI-a8i"
      },
      "execution_count": null,
      "outputs": []
    },
    {
      "cell_type": "markdown",
      "source": [
        "# Exercise: Standard Form of Plane Equation (3)\n",
        "\n",
        "1. What do the coefficients A, B, and C represent in the standard form of a plane equation, and how are they related to the geometry of the plane?\n",
        "\n",
        "2. Explain the significance of the constant term D in the standard form of the plane equation, and how does it relate to the distance of the plane from the origin along the direction of the normal vector?\n",
        "\n",
        "3. Discuss the role of the Euclidean norm of the normal vector in the formula for calculating the distance of the plane from the origin. How does it ensure that the distance is independent of the magnitudes of the coefficients A, B, and C?\n",
        "\n",
        "4. What does the special case of the plane equation in the form Ax + By + Cz = 0 signify? How does the value of the constant term D influence the position of the plane in this case?\n",
        "\n",
        "5. Consider two planes with the same normal vector $\\langle A, B, C \\rangle$ but different constants $D_1$ and $D_2$. Discuss the parallelism and orientation of these planes in space. Calculate the distance between the two parallel planes and explain its significance in the context of the plane geometry.\n"
      ],
      "metadata": {
        "id": "-Yp0aR4l-bSe"
      }
    },
    {
      "cell_type": "code",
      "source": [],
      "metadata": {
        "id": "-tBHXw1y-wwA"
      },
      "execution_count": null,
      "outputs": []
    },
    {
      "cell_type": "markdown",
      "source": [
        "# Exercise: Standard Form of Plane Equation (4)\n",
        "\n",
        "1. For the plane defined by the equation $4x - 2y + 3z = 8$, determine the components of the normal vector and the distance of the plane from the origin along the direction of the normal vector.\n",
        "\n",
        "2. Consider a plane with the equation $2x + 3y - 5z = 12$. Calculate the Euclidean norm of the normal vector and explain its significance in terms of the distance of the plane from the origin.\n",
        "\n",
        "3. Find the equation of the plane passing through the origin and having a normal vector $\\langle 1, -3, 2 \\rangle$.\n",
        "\n",
        "4. Given two parallel planes with the equations $3x + 2y - 4z = 10$ and $3x + 2y - 4z = 5$ respectively, calculate the distance between these two planes along the direction of their common normal vector. Plot the two planes using Numpy and Matplotlib.\n",
        "\n"
      ],
      "metadata": {
        "id": "bq5IdhHs-xEr"
      }
    },
    {
      "cell_type": "code",
      "source": [],
      "metadata": {
        "id": "kZgsescnxkdc"
      },
      "execution_count": null,
      "outputs": []
    },
    {
      "cell_type": "markdown",
      "source": [
        "# Exercise: Standard Form of Plane Equation (5)\n",
        "\n",
        "1. For the plane defined by the equation $3x - y + 5z = 18$, determine the components of the normal vector and the distance of the plane from the origin along the direction of the normal vector.\n",
        "\n",
        "2. Consider a plane with the equation $7x + 2y - 3z = 12$. Calculate the Euclidean norm of the normal vector and explain its significance in terms of the distance of the plane from the origin.\n",
        "\n",
        "3. Find the equation of the plane passing through the origin and having a normal vector $\\langle 3, -4, 2 \\rangle$.\n",
        "\n",
        "4. Given two parallel planes with the equations $4x + 3y - 2z = 15$ and $4x + 3y - 2z = -25$ respectively, calculate the distance between these two planes along the direction of their common normal vector. Plot the two planes using Numpy and Matplotlib."
      ],
      "metadata": {
        "id": "7YQ91MgyxkxS"
      }
    },
    {
      "cell_type": "code",
      "source": [],
      "metadata": {
        "id": "dkShbOWQyavf"
      },
      "execution_count": null,
      "outputs": []
    },
    {
      "cell_type": "markdown",
      "source": [
        "# Exercise: Converting a Plane Equation from Standard Form to Parametric Form (1)\n",
        "\n",
        "Consider the plane with the equation $3x - 4y + 2z = 5$.\n",
        "\n",
        "1. Find the parametric form of this plane equation.\n",
        "\n",
        "2. Plot the plane using numpy and matplotlib.\n",
        "\n",
        "\n"
      ],
      "metadata": {
        "id": "3s7oYCbYybIP"
      }
    },
    {
      "cell_type": "code",
      "source": [],
      "metadata": {
        "id": "vm0rZsyByb25"
      },
      "execution_count": null,
      "outputs": []
    },
    {
      "cell_type": "markdown",
      "source": [
        "# Exercise: Converting a Plane Equation from Standard Form to Parametric Form (2)\n",
        "\n",
        "Consider the plane with the equation $7x + 2y + z = -5$.\n",
        "\n",
        "1. Find the parametric form of this plane equation.\n",
        "\n",
        "2. Plot the plane using numpy and matplotlib."
      ],
      "metadata": {
        "id": "sq5JOiA6zuKU"
      }
    },
    {
      "cell_type": "code",
      "source": [],
      "metadata": {
        "id": "gOUyIj_pzubr"
      },
      "execution_count": null,
      "outputs": []
    },
    {
      "cell_type": "markdown",
      "source": [
        "# Exercise: Converting a Plane Equation from Standard Form to Parametric Form (3)\n",
        "\n",
        "Consider the plane with the equation $ -6x + y + 7z = -12$.\n",
        "\n",
        "1. Find the parametric form of this plane equation.\n",
        "\n",
        "2. Plot the plane using numpy and matplotlib."
      ],
      "metadata": {
        "id": "LbqSdOauz37W"
      }
    },
    {
      "cell_type": "code",
      "source": [],
      "metadata": {
        "id": "W2NnQglyz4Kt"
      },
      "execution_count": null,
      "outputs": []
    },
    {
      "cell_type": "markdown",
      "source": [
        "# Exercise: Converting a Plane Equation from Parametric Form to Standard Form (1)\n",
        "\n",
        "Consider the  plane equation:\n",
        "\n",
        "$$P(s, t) = P_0 + s\\mathbf{v} + t\\mathbf{w}$$\n",
        "\n",
        "\n",
        "where $P_0 = (1,0-2)$ is a point on the plane, $\\mathbf{v} = (1,3,6)$ and $\\mathbf{w} = (4,-7,2)$ vectors on the plane, and $s$ and $t$ are parameters.\n",
        "\n",
        "\n",
        "1. Find the standard form of this plane equation.\n",
        "\n",
        "2. Plot the plane using numpy and matplotlib."
      ],
      "metadata": {
        "id": "M6AAdLFF0BvK"
      }
    },
    {
      "cell_type": "code",
      "source": [],
      "metadata": {
        "id": "c--FxXFB1MOr"
      },
      "execution_count": null,
      "outputs": []
    },
    {
      "cell_type": "markdown",
      "source": [
        "# Exercise: Converting a Plane Equation from Parametric Form to Standard Form (2)\n",
        "\n",
        "Consider the  plane equation:\n",
        "\n",
        "$$P(s, t) = P_0 + s\\mathbf{v} + t\\mathbf{w}$$\n",
        "\n",
        "\n",
        "where $P_0 = (11,2,7)$ is a point on the plane, $\\mathbf{v} = (3,-2,4)$ and $\\mathbf{w} = (7,-6,3)$ vectors on the plane, and $s$ and $t$ are parameters.\n",
        "\n",
        "\n",
        "1. Find the standard form of this plane equation.\n",
        "\n",
        "2. Plot the plane using numpy and matplotlib."
      ],
      "metadata": {
        "id": "JzaGmGm21MzZ"
      }
    },
    {
      "cell_type": "code",
      "source": [],
      "metadata": {
        "id": "4f0t2mWl1dOl"
      },
      "execution_count": null,
      "outputs": []
    },
    {
      "cell_type": "markdown",
      "source": [
        "# Exercise: Converting a Plane Equation from Parametric Form to Standard Form (3)\n",
        "\n",
        "Consider the  plane equation:\n",
        "\n",
        "$$P(s, t) = P_0 + s\\mathbf{v} + t\\mathbf{w}$$\n",
        "\n",
        "where $P_0 = (-8,12,7)$ is a point on the plane, $\\mathbf{v} = (4,-5,3)$ and $\\mathbf{w} = (1,3,2)$ vectors on the plane, and $s$ and $t$ are parameters.\n",
        "\n",
        "\n",
        "1. Find the standard form of this plane equation.\n",
        "\n",
        "2. Plot the plane using numpy and matplotlib."
      ],
      "metadata": {
        "id": "SegcF1in1dpr"
      }
    },
    {
      "cell_type": "code",
      "source": [],
      "metadata": {
        "id": "IyYM8KdN1wwa"
      },
      "execution_count": null,
      "outputs": []
    },
    {
      "cell_type": "markdown",
      "source": [
        "# Exercise: Finding the Plane Equation from 3 Points (1)\n",
        "\n",
        "Consider the points $Q(1, 2, 3)$, $R(5,6,2)$, and $S(7, 11, 4)$.\n",
        "\n",
        "1. Find the standard form of the plane that goes through the three points.\n",
        "2. Use numpy and matplotlib to draw the plane and the points.\n"
      ],
      "metadata": {
        "id": "UqUAdSvJ1xGz"
      }
    },
    {
      "cell_type": "code",
      "source": [],
      "metadata": {
        "id": "YalJtAaM27lY"
      },
      "execution_count": null,
      "outputs": []
    },
    {
      "cell_type": "markdown",
      "source": [
        "# Exercise: Finding the Plane Equation from 3 Points (2)\n",
        "\n",
        "Consider the points $Q(11, 4, 5)$, $R(3,1,2)$, and $S(5, 3, 4)$.\n",
        "\n",
        "1. Find the standard form of the plane that goes through the three points.\n",
        "2. Use numpy and matplotlib to draw the plane and the points."
      ],
      "metadata": {
        "id": "EXPb_UgB27_1"
      }
    },
    {
      "cell_type": "code",
      "source": [],
      "metadata": {
        "id": "i1T-VfLP3HO9"
      },
      "execution_count": null,
      "outputs": []
    },
    {
      "cell_type": "markdown",
      "source": [
        "# Exercise: Finding the Plane Equation from 3 Points (3)\n",
        "\n",
        "Consider the points $Q(-6, 14, 7)$, $R(2,1,7)$, and $S(-5, 1, 6)$.\n",
        "\n",
        "1. Find the standard form of the plane that goes through the three points.\n",
        "2. Use numpy and matplotlib to draw the plane and the points."
      ],
      "metadata": {
        "id": "nH7sCKer3H91"
      }
    },
    {
      "cell_type": "code",
      "source": [],
      "metadata": {
        "id": "-YKYMCL_3S3-"
      },
      "execution_count": null,
      "outputs": []
    },
    {
      "cell_type": "markdown",
      "source": [
        "#Exercise: Distance between a Point and a Plane in 3D Space (1)\n",
        "\n",
        "Let $ \\mathbf{P} $ and $ \\mathbf{Q} $ be two points in 3D space, and let $ \\vec{\\mathbf{n}} $ be the normal vector of the plane passing through the point $ \\mathbf{Q} $ on the plane.\n",
        "\n",
        "Prove that the distance from the point $ \\mathbf{P} $ to this plane is:\n",
        "\n",
        "$\n",
        "\\text{distance} = \\frac{| \\vec (\\mathbf{P} - \\mathbf{Q}) \\cdot \\vec{\\mathbf{n}}|}{\\|\\vec{\\mathbf{n}}\\|}\n",
        "$\n",
        "\n",
        "where $ \\cdot $ denotes the dot product and $ \\|\\mathbf{n}\\| $ denotes the magnitude of the vector $ \\vec{\\mathbf{n}} $. This formula represents the magnitude of the projection of the vector $ \\mathbf{QP} $ onto the direction of the normal vector $ \\mathbf{n} $."
      ],
      "metadata": {
        "id": "Bhh6wxcj3TLA"
      }
    },
    {
      "cell_type": "code",
      "source": [],
      "metadata": {
        "id": "xPwiwFlv4Cq9"
      },
      "execution_count": null,
      "outputs": []
    },
    {
      "cell_type": "markdown",
      "source": [
        "#Exercise: Distance between a Point and a Plane in 3D Space (2)\n",
        "\n",
        "Consider the following points in 3D space:\n",
        "\n",
        "- $\\mathbf{P} (3, 4, 5)$\n",
        "- $\\mathbf{Q} (1, 2, 3)$\n",
        "\n",
        "Let $\\vec{\\mathbf{n}} = \\langle 2, -1, 4 \\rangle$ be the normal vector of the plane passing through the point $\\mathbf{Q}$ on the plane..\n",
        "\n",
        "1. Calculate the distance from the point $\\mathbf{P}$ to the plane passing through $\\mathbf{Q}$.\n",
        "\n",
        "2. Plot the points $\\mathbf{P}$ and $\\mathbf{Q}$ in 3D space along with the plane passing through $\\mathbf{Q}$ using NumPy and Matplotlib.\n"
      ],
      "metadata": {
        "id": "s9nru1At4C8j"
      }
    },
    {
      "cell_type": "code",
      "source": [],
      "metadata": {
        "id": "I7kDmYIc4b4m"
      },
      "execution_count": null,
      "outputs": []
    },
    {
      "cell_type": "markdown",
      "source": [
        "#Exercise: Distance between a Point and a Plane in 3D Space (3)\n",
        "\n",
        "Consider the following points in 3D space:\n",
        "\n",
        "- $\\mathbf{P} (-7, 2, 3)$\n",
        "- $\\mathbf{Q} (5, 7, -3)$\n",
        "\n",
        "Let $\\vec{\\mathbf{n}} = \\langle 3, 1, 2 \\rangle$ be the normal vector of the plane passing through the point $\\mathbf{Q}$ on the plane.\n",
        "\n",
        "1. Calculate the distance from the point $\\mathbf{P}$ to the plane passing through $\\mathbf{Q}$.\n",
        "\n",
        "2. Plot the points $\\mathbf{P}$ and $\\mathbf{Q}$ in 3D space along with the plane passing through $\\mathbf{Q}$ using NumPy and Matplotlib.\n"
      ],
      "metadata": {
        "id": "wdQ_NJly4cZ7"
      }
    },
    {
      "cell_type": "code",
      "source": [],
      "metadata": {
        "id": "k61tFVKm4tm8"
      },
      "execution_count": null,
      "outputs": []
    },
    {
      "cell_type": "markdown",
      "source": [
        "#Exercise: Distance between a Point and a Plane in 3D Space (4)\n",
        "\n",
        "Consider the following points in 3D space:\n",
        "\n",
        "- $\\mathbf{P} (11, 2, 7)$\n",
        "- $\\mathbf{Q} (-4, 3, 2)$\n",
        "\n",
        "Let $\\vec{\\mathbf{n}} = \\langle 5, -2, 3 \\rangle$ be the normal vector of the plane passing through the point $\\mathbf{Q}$.\n",
        "\n",
        "1. Calculate the distance from the point $\\mathbf{P}$ to the plane passing through $\\mathbf{Q}$ on the plane.\n",
        "\n",
        "2. Plot the points $\\mathbf{P}$ and $\\mathbf{Q}$ in 3D space along with the plane passing through $\\mathbf{Q}$ using NumPy and Matplotlib."
      ],
      "metadata": {
        "id": "RaX1oA614t2c"
      }
    },
    {
      "cell_type": "code",
      "source": [],
      "metadata": {
        "id": "b7Tp-Sds5aHY"
      },
      "execution_count": null,
      "outputs": []
    },
    {
      "cell_type": "markdown",
      "source": [
        "# Exercise: Distance between two Parallel Planes (1)\n",
        "\n",
        "Consider the two planes are defined by the equation $Ax+By+Cz=D_1$ and $Ax+By+Cz=D_2$, where $A=3$, $B=-4$, and $C=2$ are the coefficients of the normal vector to the plane, and $D_1 = -7$ and $D_2 =8$.\n",
        "\n",
        "1. Find the Euclidean distance between the two planes.\n",
        "2. Plot the two plane using numpy and matplotlib.\n"
      ],
      "metadata": {
        "id": "UQH9CwdZ5aZV"
      }
    },
    {
      "cell_type": "code",
      "source": [],
      "metadata": {
        "id": "3DrB-F-56aCV"
      },
      "execution_count": null,
      "outputs": []
    },
    {
      "cell_type": "markdown",
      "source": [
        "# Exercise: Distance between two Parallel Planes (2)\n",
        "\n",
        "Consider the two planes are defined by the equation $Ax+By+Cz=D_1$ and $Ax+By+Cz=D_2$, where $A=-5$, $B=7$, and $C=1$ are the coefficients of the normal vector to the plane, and $D_1 = 15$ and $D_2 = -34$.\n",
        "\n",
        "1. Find the Euclidean distance between the two planes.\n",
        "2. Plot the two plane using numpy and matplotlib."
      ],
      "metadata": {
        "id": "q4PoR5_S6aUc"
      }
    },
    {
      "cell_type": "code",
      "source": [],
      "metadata": {
        "id": "DN9x1z_e64Zr"
      },
      "execution_count": null,
      "outputs": []
    },
    {
      "cell_type": "markdown",
      "source": [
        "# Exercise: Distance between two Parallel Planes (3)\n",
        "\n",
        "Consider the two planes are defined by the equation $Ax+By+Cz=D_1$ and $Ax+By+Cz=D_2$, where $A=8$, $B=-9$, and $C=4$ are the coefficients of the normal vector to the plane, and $D_1 = 0$ and $D_2 = -12$.\n",
        "\n",
        "1. Find the Euclidean distance between the two planes.\n",
        "2. Plot the two plane using numpy and matplotlib."
      ],
      "metadata": {
        "id": "NgNqw88364tg"
      }
    },
    {
      "cell_type": "code",
      "source": [],
      "metadata": {
        "id": "flpfXdyt7Ekr"
      },
      "execution_count": null,
      "outputs": []
    },
    {
      "cell_type": "markdown",
      "source": [
        "# Exercise: Distance from a Plane to a Point when the Plane Equation is given (1)\n",
        "\n",
        "A plane is defined by the equation $Ax+By+Cz=D$, where $A$, $B$, and $C$ are the coefficients of the plane's normal vector.\n",
        "\n",
        "Now, suppose we have a point $P(x_1, y_1, z_1)$ in the 3D space.\n",
        "\n",
        "Prove that the distance between this point and the plane is:\n",
        "\n",
        "$$ \\text{Distance} = \\frac{|Ax_1+By_1+Cz_1-D|}{\\sqrt{A^2+B^2+C^2}} $$"
      ],
      "metadata": {
        "id": "hJfLlVNf7E8o"
      }
    },
    {
      "cell_type": "code",
      "source": [],
      "metadata": {
        "id": "9kA2DJ_l74D9"
      },
      "execution_count": null,
      "outputs": []
    },
    {
      "cell_type": "markdown",
      "source": [
        "# Exercise: Distance from a Plane to a Point when the Plane Equation is given (2)\n",
        "\n",
        "A plane is defined by the equation $Ax+By+Cz=D$, where $A=1$, $B=2$, and $C=3$ are the coefficients of the plane's normal vector, and $D=12$.\n",
        "\n",
        "Consider a point $P(-5, 1, 2)$ in the 3D space.\n",
        "1. Find the distance between the point P and the plane.\n",
        "2. Plot the point P and plane using numpy and matplotlib."
      ],
      "metadata": {
        "id": "q9o-1vV07420"
      }
    },
    {
      "cell_type": "code",
      "source": [],
      "metadata": {
        "id": "xTtK5p_h8orD"
      },
      "execution_count": null,
      "outputs": []
    },
    {
      "cell_type": "markdown",
      "source": [
        "# Exercise: Distance from a Plane to a Point when the Plane Equation is given (3)\n",
        "\n",
        "A plane is defined by the equation $Ax+By+Cz=D$, where $A=1$, $B=2$, and $C=3$ are the coefficients of the plane's normal vector, and $D=12$.\n",
        "\n",
        "Consider a point $P(-3, 0, 2)$ in the 3D space.\n",
        "1. Find the distance between the point P and the plane.\n",
        "2. Plot the point P and plane using numpy and matplotlib."
      ],
      "metadata": {
        "id": "d03kqnEI8o-e"
      }
    },
    {
      "cell_type": "code",
      "source": [],
      "metadata": {
        "id": "0dyGHIlF87bp"
      },
      "execution_count": null,
      "outputs": []
    },
    {
      "cell_type": "markdown",
      "source": [
        "# Exercise: Distance from a Plane to a Point when the Plane Equation is given (4)\n",
        "\n",
        "A plane is defined by the equation $Ax+By+Cz=D$, where $A=1$, $B=2$, and $C=3$ are the coefficients of the plane's normal vector, and $D=12$.\n",
        "\n",
        "Consider a point $P(-4, 2, 4)$ in the 3D space.\n",
        "1. Find the distance between the point P and the plane.\n",
        "2. Plot the point P and plane using numpy and matplotlib."
      ],
      "metadata": {
        "id": "tZtGiVDX87td"
      }
    },
    {
      "cell_type": "code",
      "source": [],
      "metadata": {
        "id": "KGuV-6ox9Kaf"
      },
      "execution_count": null,
      "outputs": []
    },
    {
      "cell_type": "markdown",
      "source": [
        "# Exercise: Angle between Planes (1)\n",
        "\n",
        "Consider two planes, each defined by the equations $A1x + B1y + C1z = D1$ and $A2x + B2y + C2z = D2$.\n",
        "\n",
        "Prove that the cosine of the angle $(\\theta)$ between the two planes is:\n",
        "\n",
        "   $$ \\cos(\\theta) = \\frac{|n1 \\cdot n2|}{\\|n1\\| \\|n2\\|} $$\n",
        "\n",
        "where, $n1 = \\langle A1, B1, C1 \\rangle$ and $n2= \\langle A2, B2, C2 \\rangle$ represent the corresponding normal vectors to the planes, $|n1 \\cdot n2|$ represents the absolute value of the dot product of the normal vectors, and $||n1||$ and $||n2||$ represent the magnitudes of the respective normal vectors.\n",
        "\n",
        "Hint: Draw the two planes and the corresponding normal vectors to visualize $\\theta$."
      ],
      "metadata": {
        "id": "Jl-tfy3M9KyF"
      }
    },
    {
      "cell_type": "code",
      "source": [],
      "metadata": {
        "id": "DJb8pQdc_Jt5"
      },
      "execution_count": null,
      "outputs": []
    },
    {
      "cell_type": "markdown",
      "source": [
        "# Exercise: Angle between Planes (2)\n",
        "\n",
        "Consider two planes, each defined by the equations $3x + 4y - 5z = 11$ and $3x + 4y - 5z = -16$.\n",
        "\n",
        "1. Find the angle between two planes.\n",
        "2. Draw the two planes using numpy and matplotlib."
      ],
      "metadata": {
        "id": "KvVZ5Ojy_KBr"
      }
    },
    {
      "cell_type": "markdown",
      "source": [
        "# Exercise: Angle between Planes (3)\n",
        "\n",
        "Consider two planes, each defined by the equations $3x + 4y - 5z = 11$ and $5x + 9y - 4z = 6$.\n",
        "\n",
        "1. Find the angle between two planes.\n",
        "2. Draw the two planes using numpy and matplotlib."
      ],
      "metadata": {
        "id": "ZcrTw-Zd_tI4"
      }
    },
    {
      "cell_type": "code",
      "source": [],
      "metadata": {
        "id": "7cvE7l7Y_1G_"
      },
      "execution_count": null,
      "outputs": []
    },
    {
      "cell_type": "markdown",
      "source": [
        "# Exercise: Angle between Planes (4)\n",
        "\n",
        "Consider two planes, each defined by the equations $7x + y -35z = 0$ and $x + 5y - 3z = 6$.\n",
        "\n",
        "1. Find the angle between two planes.\n",
        "2. Draw the two planes using numpy and matplotlib."
      ],
      "metadata": {
        "id": "Vgtnl3bz_1Zb"
      }
    },
    {
      "cell_type": "code",
      "source": [],
      "metadata": {
        "id": "qhFkYrdyAAqd"
      },
      "execution_count": null,
      "outputs": []
    },
    {
      "cell_type": "markdown",
      "source": [
        "# Exercise: Linear Dependence (1)\n",
        "\n",
        "Consider the following three 3D vectors:\n",
        "\n",
        "$v_1 = \\langle 1, 2, 3 \\rangle,$\n",
        "$v_2 = \\langle 2, 1, 4 \\rangle,$\n",
        "$v_3 = \\langle 3, 3, 7 \\rangle$\n",
        "\n",
        "1. Determine whether the vectors $v_1$, $v_2$, and $v_3$ are linearly independent or linearly dependent. If they are linearly dependent, express one of the vectors as a linear combination of the others.\n",
        "2. Use NumPy and Matplotlib to draw the vectors in 3D space."
      ],
      "metadata": {
        "id": "kin65DFmmxg3"
      }
    },
    {
      "cell_type": "code",
      "source": [],
      "metadata": {
        "id": "etSDq2uGm0Sn"
      },
      "execution_count": null,
      "outputs": []
    },
    {
      "cell_type": "markdown",
      "source": [
        "# Exercise: Linear Dependence (2)\n",
        "\n",
        "Consider the following three 2D vectors:\n",
        "\n",
        "$v_1 = \\begin{bmatrix} 1 \\\\ 2 \\end{bmatrix}$\n",
        "$v_2 = \\begin{bmatrix} 2 \\\\ 1 \\end{bmatrix}$\n",
        "$v_3 = \\begin{bmatrix} 3 \\\\ 3 \\end{bmatrix}$\n",
        "\n",
        "1. Determine whether the vectors $v_1$, $v_2$, and $v_3$ are linearly independent or linearly dependent. If they are linearly dependent, express one of the vectors as a linear combination of the others.\n",
        "2. Use NumPy and Matplotlib to draw the vectors in 2D space.\n",
        "3. Is it possible to have three linearly independent vectors in 2D space?\n"
      ],
      "metadata": {
        "id": "9ySsc_Y4n78e"
      }
    },
    {
      "cell_type": "code",
      "source": [],
      "metadata": {
        "id": "ilA7eJlfoTMX"
      },
      "execution_count": null,
      "outputs": []
    },
    {
      "cell_type": "markdown",
      "source": [
        "# Exercise: Linear Dependence (3)\n",
        "\n",
        "Consider the following three 5D vectors:\n",
        "\n",
        "$v_1 = [1, 2, 3, 4, 5],$\n",
        "$v_2 = [2, 1, 4, 3, 6],$\n",
        "$v_3 = [3, 3, 7, 2, 8]$\n",
        "\n",
        "Determine whether the vectors $v_1, v_2, v_3$ are linearly independent or linearly dependent. If they are linearly dependent, find the linear combination of the vectors that represents one of the vectors.\n"
      ],
      "metadata": {
        "id": "dx69XvZCoTe0"
      }
    },
    {
      "cell_type": "code",
      "source": [],
      "metadata": {
        "id": "uleHuyebwwOH"
      },
      "execution_count": null,
      "outputs": []
    },
    {
      "cell_type": "markdown",
      "source": [
        "# Exercise: Gaussian Elimination (1)\n",
        "\n",
        "1. Write the steps of Gausian Elimination in natural language.\n",
        "2. Write a Python function using NumPy that performs the row echelon form (REF) algorithm on a given matrix. Assume that the input matrix is a NumPy array. The function should take the matrix as an argument and return the resulting matrix in row echelon form.\n",
        "3. Test for accuracy of the function by printing out the REF matrix of two matrices.\n",
        "\n",
        "**Hint**: If the pivot is zero, find a non-zero element below in the same column for row swapping."
      ],
      "metadata": {
        "id": "-vjx0ADhwwf0"
      }
    },
    {
      "cell_type": "code",
      "source": [],
      "metadata": {
        "id": "LUQLjWjTw1Ux"
      },
      "execution_count": null,
      "outputs": []
    },
    {
      "cell_type": "markdown",
      "source": [
        "# Exercise: Gaussian Elimination (2)\n",
        "\n",
        "Consider the following augmented matrix:\n",
        "\n",
        "$$\n",
        "\\left[\\begin{array}{ccc|c}\n",
        "1 & 2 & 3 & 10 \\\\\n",
        "2 & 5 & 2 & 14 \\\\\n",
        "3 & 1 & 4 & 12\n",
        "\\end{array}\\right]\n",
        "$$\n",
        "\n",
        "Perform the necessary row operations to transform this augmented matrix into row echelon form (REF). Then, state the resulting matrix in REF.\n",
        "\n"
      ],
      "metadata": {
        "id": "_Bv9uEs1zTdC"
      }
    },
    {
      "cell_type": "code",
      "source": [],
      "metadata": {
        "id": "oeGMA8VwzcG3"
      },
      "execution_count": null,
      "outputs": []
    },
    {
      "cell_type": "markdown",
      "source": [
        "# Exercise: Gaussian Elimination (3)\n",
        "\n",
        "Consider the following augmented matrix:\n",
        "\n",
        "$$\n",
        "\\left[\\begin{array}{ccc|c}\n",
        "4 & 2 & -3 & 2 \\\\\n",
        "-1 & 3 & 2 & 4 \\\\\n",
        "2 & 1 & 3 & 6\n",
        "\\end{array}\\right]\n",
        "$$\n",
        "\n",
        "Perform the necessary row operations to transform this augmented matrix into row echelon form (REF). Then, state the resulting matrix in REF.\n",
        "\n"
      ],
      "metadata": {
        "id": "jLtduG-6zl8X"
      }
    },
    {
      "cell_type": "code",
      "source": [],
      "metadata": {
        "id": "XE-UHpkfzrtS"
      },
      "execution_count": null,
      "outputs": []
    },
    {
      "cell_type": "markdown",
      "source": [
        "# Exercise: Gaussian Elimination (4)\n",
        "\n",
        "Consider the following augmented matrix:\n",
        "\n",
        "$$\n",
        "\\left[\\begin{array}{ccc|c}\n",
        "2 & 4 & 6 & 8 \\\\\n",
        "1 & 3 & 5 & 7 \\\\\n",
        "-1 & -2 & -3 & -4\n",
        "\\end{array}\\right]\n",
        "$$\n",
        "\n",
        "Perform the necessary row operations to transform this augmented matrix into row echelon form (REF). Then, state the resulting matrix in REF."
      ],
      "metadata": {
        "id": "e_OGdwaszsGr"
      }
    },
    {
      "cell_type": "code",
      "source": [],
      "metadata": {
        "id": "sDo0WLTnz5is"
      },
      "execution_count": null,
      "outputs": []
    },
    {
      "cell_type": "markdown",
      "source": [
        "# Gauss-Jordan elimination (1)\n",
        "1. Write the steps of Gausian-Jordan elimination in natural language.\n",
        "2. Write a Python function using NumPy that performs the row echelon form (RREF) algorithm on a given matrix. Assume that the input matrix is a NumPy array. The function should take the matrix as an argument and return the resulting matrix in row echelon form.\n",
        "3. Test for accuracy of the function by printing out the RREF matrix of two matrices.\n",
        "\n",
        "**Hint**: If the pivot is zero, find a non-zero element below in the same column for row swapping."
      ],
      "metadata": {
        "id": "qWA4jbg7AEa6"
      }
    },
    {
      "cell_type": "code",
      "source": [],
      "metadata": {
        "id": "LwNtEj-NAHKF"
      },
      "execution_count": null,
      "outputs": []
    },
    {
      "cell_type": "markdown",
      "source": [
        "# Gauss-Jordan elimination (2)\n",
        "\n",
        "Consider the augmented matrix:\n",
        "\n",
        "$$ \\left( \\begin{array}{ccc|c}\n",
        "1 & 2 & 3 & 4 \\\\\n",
        "2 & 3 & 4 & 5 \\\\\n",
        "3 & 4 & 5 & 6\n",
        "\\end{array} \\right) $$\n",
        "\n",
        "Find the RREF form using the Gauss-Jordan elimination algorithm.\n"
      ],
      "metadata": {
        "id": "NgtzQha9z59J"
      }
    },
    {
      "cell_type": "code",
      "source": [],
      "metadata": {
        "id": "C8GCskna_u1z"
      },
      "execution_count": null,
      "outputs": []
    },
    {
      "cell_type": "markdown",
      "source": [
        "# Gauss-Jordan elimination (3)\n",
        "\n",
        "Consider the augmented matrix:\n",
        "\n",
        "$$ \\left( \\begin{array}{ccc|c}\n",
        "3 & 2 & 1 & 4 \\\\\n",
        "1 & 2 & 1 & 3 \\\\\n",
        "2 & 1 & 2 & 2\n",
        "\\end{array} \\right) $$\n",
        "\n",
        "Determine the reduced row echelon form (RREF) using the Gauss-Jordan elimination method.\n"
      ],
      "metadata": {
        "id": "OEjXREIu_vby"
      }
    },
    {
      "cell_type": "code",
      "source": [],
      "metadata": {
        "id": "fd6JhxgH_3is"
      },
      "execution_count": null,
      "outputs": []
    },
    {
      "cell_type": "markdown",
      "source": [
        "# Gauss-Jordan elimination (4)\n",
        "\n",
        "Consider the augmented matrix:\n",
        "\n",
        "$$ \\left( \\begin{array}{ccc|c}\n",
        "4 & 2 & 1 & 8 \\\\\n",
        "2 & 1 & 3 & 5 \\\\\n",
        "1 & 3 & 2 & 9\n",
        "\\end{array} \\right) $$\n",
        "\n",
        "Compute the RREF form using the Gauss-Jordan elimination algorithm."
      ],
      "metadata": {
        "id": "G1gXp28r_4DM"
      }
    },
    {
      "cell_type": "code",
      "source": [],
      "metadata": {
        "id": "nythpr2tAaxQ"
      },
      "execution_count": null,
      "outputs": []
    },
    {
      "cell_type": "markdown",
      "source": [
        "# Exercise: Span (1)\n",
        "\n",
        "Consider the following set of vectors in a vector space \\(V\\):\n",
        "\n",
        "$$v_1 = \\begin{bmatrix} 1 \\\\ 0 \\\\ 1 \\end{bmatrix}, \\quad v_2 = \\begin{bmatrix} 0 \\\\ 1 \\\\ 1 \\end{bmatrix}, \\quad v_3 = \\begin{bmatrix} 1 \\\\ 1 \\\\ 2 \\end{bmatrix}\n",
        "$$\n",
        "\n",
        "1. What is the dimension of the vector space $V$?\n",
        "\n",
        "2. Determine the span of the set of vectors $v_1, v_2, v_3$.\n",
        "\n",
        "3. Verify whether the set of vectors $v_1, v_2, v_3$ is linearly independent.\n",
        "\n",
        "4. Use numpy to find the rank of the matrix $A$.\n",
        "\n",
        "$$A = \\begin{bmatrix} 1 & 0 & 1 \\\\ 0 & 1 & 1 \\\\ 1 & 1 & 2 \\end{bmatrix}$$\n",
        "\n",
        "\n"
      ],
      "metadata": {
        "id": "36IsxhDcdH2H"
      }
    },
    {
      "cell_type": "code",
      "source": [],
      "metadata": {
        "id": "alDnkHGuhnzH"
      },
      "execution_count": null,
      "outputs": []
    },
    {
      "cell_type": "markdown",
      "source": [
        "# Exercise: Span (2)\n",
        "\n",
        "Consider the following set of vectors in a 4-dimensional vector space $V$:\n",
        "\n",
        "$v_1 = \\begin{bmatrix} 1 \\\\ 0 \\\\ 1 \\\\ 2 \\end{bmatrix}$, $v_2 = \\begin{bmatrix} 2 \\\\ 1 \\\\ 0 \\\\ 1 \\end{bmatrix}$, $v_3 = \\begin{bmatrix} 0 \\\\ 1 \\\\ 1 \\\\ 2 \\end{bmatrix}$\n",
        "\n",
        "1. Determine the dimension of the vector space $V$.\n",
        "\n",
        "2. Find the span of the set of vectors $v_1, v_2, v_3$.\n",
        "\n",
        "3. Verify whether the set of vectors $v_1, v_2, v_3$ is linearly independent.\n",
        "\n",
        "4. Find a basis for the vector space $V$ using the set of vectors $v_1, v_2, v_3$.\n",
        "\n",
        "5. Use NumPy to find the rank of the matrix $A$:\n",
        "\n",
        "$A = \\begin{bmatrix} v_1 & v_2 & v_3 \\end{bmatrix}$\n",
        "\n",
        "where $v_1, v_2, v_3$ are the column vectors from the exercise."
      ],
      "metadata": {
        "id": "OI0hAiTPhoOT"
      }
    },
    {
      "cell_type": "code",
      "source": [],
      "metadata": {
        "id": "uwvpq8wciLUZ"
      },
      "execution_count": null,
      "outputs": []
    },
    {
      "cell_type": "markdown",
      "source": [
        "# Exercise: Span (3)\n",
        "\n",
        "Consider the following set of vectors in a 4-dimensional vector space $V$:\n",
        "\n",
        "$v_1 = \\begin{bmatrix} 1 \\\\ 0 \\\\ 1 \\\\ 2 \\end{bmatrix}$, $v_2 = \\begin{bmatrix} 2 \\\\ 1 \\\\ 0 \\\\ 1 \\end{bmatrix}$, $v_3 = \\begin{bmatrix} 0 \\\\ 1 \\\\ 1 \\\\ 2 \\end{bmatrix}, v_4 = \\begin{bmatrix} 3 \\\\ 1 \\\\ 1 \\\\ 5 \\end{bmatrix}$\n",
        "\n",
        "1. Determine the dimension of the vector space $V$.\n",
        "\n",
        "2. Find the span of the set of vectors $v_1, v_2, v_3, v_4$.\n",
        "\n",
        "3. Verify whether the set of vectors $v_1, v_2, v_3, v_4$ is linearly independent.\n",
        "\n",
        "4. Does the set of vectors  $v_1, v_2, v_3, v_4$ span the space $V$?\n",
        "\n",
        "5. Use NumPy to find the rank of the matrix $A$:\n",
        "\n",
        "$A = \\begin{bmatrix} v_1 & v_2 & v_3 & v_4\\end{bmatrix}$\n",
        "\n",
        "where $v_1, v_2, v_3, v_4$ are the column vectors from the exercise."
      ],
      "metadata": {
        "id": "Ta-45gLMisyX"
      }
    },
    {
      "cell_type": "code",
      "source": [],
      "metadata": {
        "id": "fbODR159kAlF"
      },
      "execution_count": null,
      "outputs": []
    },
    {
      "cell_type": "markdown",
      "source": [
        "# Exercise: Linear Transformation of Vectors(1)\n",
        "\n",
        "Consider a matrix A given by:\n",
        "$$ A =\n",
        "\\begin{bmatrix}\n",
        "1 & 1 & 3 \\\\\n",
        "-1 & 3 & 2 \\\\\n",
        "0 & 2 & 1\n",
        "\\end{bmatrix}\n",
        "$$\n",
        "\n",
        "Perform the following tasks:\n",
        "\n",
        "1. Calculate the transformation of the standard basis vectors: $\\begin{bmatrix} 1 \\\\ 0 \\\\ 0 \\end{bmatrix}$, $\\begin{bmatrix} 0 \\\\ 1 \\\\ 0 \\end{bmatrix}$, and $\\begin{bmatrix} 0 \\\\ 0 \\\\ 1 \\end{bmatrix}$ under the matrix A.\n",
        "2. Compute the transformation of the general vector $\\begin{bmatrix} 1 \\\\ 1 \\\\ 1 \\end{bmatrix}$ under the matrix A.\n",
        "3. Visualize the transformation using NumPy and Matplotlib. Plot the original vectors and their transformed counterparts in a 3D coordinate system. Make sure to add axes labels and a legend to differentiate the vectors before and after transformation.\n",
        "\n",
        "\n"
      ],
      "metadata": {
        "id": "PviHOl8DjJNN"
      }
    },
    {
      "cell_type": "code",
      "source": [],
      "metadata": {
        "id": "LsBAYCk0jJth"
      },
      "execution_count": null,
      "outputs": []
    },
    {
      "cell_type": "markdown",
      "source": [
        "# Exercise: Linear Transformation of Vectors (2)\n",
        "\n",
        "Consider a matrix B given by:\n",
        "$$ B =\n",
        "\\begin{bmatrix}\n",
        "1 & 2 & 3 \\\\\n",
        "0 & 1 & 2 \\\\\n",
        "-1 & 0 & 1\n",
        "\\end{bmatrix}\n",
        "$$\n",
        "\n",
        "Perform the following tasks:\n",
        "\n",
        "1. Calculate the transformation of the standard basis vectors: $\\begin{bmatrix} 1 \\\\ 0 \\\\ 0 \\end{bmatrix}$, $\\begin{bmatrix} 0 \\\\ 1 \\\\ 0 \\end{bmatrix}$, and $\\begin{bmatrix} 0 \\\\ 0 \\\\ 1 \\end{bmatrix}$ under the matrix B.\n",
        "2. Compute the transformation of the general vector $\\begin{bmatrix} 2 \\\\ 1 \\\\ 1 \\end{bmatrix}$ under the matrix B.\n",
        "3. Visualize the transformation using NumPy and Matplotlib. Plot the original vectors and their transformed counterparts in a 3D coordinate system. Make sure to add axes labels and a legend to differentiate the vectors before and after transformation.\n"
      ],
      "metadata": {
        "id": "VUIJosUpj9Hl"
      }
    },
    {
      "cell_type": "code",
      "source": [],
      "metadata": {
        "id": "ML0I0Fhqj-Lg"
      },
      "execution_count": null,
      "outputs": []
    },
    {
      "cell_type": "markdown",
      "source": [
        "# Exercise: Linear Transformation of Vectors (3)\n",
        "\n",
        "Consider a matrix C given by:\n",
        "$$ C =\n",
        "\\begin{bmatrix}\n",
        "3 & 1 & 2 \\\\\n",
        "-1 & 0 & 2 \\\\\n",
        "2 & 2 & 1\n",
        "\\end{bmatrix}\n",
        "$$\n",
        "\n",
        "Perform the following tasks:\n",
        "\n",
        "1. Calculate the transformation of the standard basis vectors: $\\begin{bmatrix} 1 \\\\ 0 \\\\ 0 \\end{bmatrix}$, $\\begin{bmatrix} 0 \\\\ 1 \\\\ 0 \\end{bmatrix}$, and $\\begin{bmatrix} 0 \\\\ 0 \\\\ 1 \\end{bmatrix}$ under the matrix C.\n",
        "2. Compute the transformation of the general vector $\\begin{bmatrix} 3 \\\\ 1 \\\\ 2 \\end{bmatrix}$ under the matrix C.\n",
        "3. Visualize the transformation using NumPy and Matplotlib. Plot the original vectors and their transformed counterparts in a 3D coordinate system. Make sure to add axes labels and a legend to differentiate the vectors before and after transformation.\n",
        "\n"
      ],
      "metadata": {
        "id": "XviO1qXIkOvZ"
      }
    },
    {
      "cell_type": "code",
      "source": [],
      "metadata": {
        "id": "EmEZKUjekPHj"
      },
      "execution_count": null,
      "outputs": []
    },
    {
      "cell_type": "markdown",
      "source": [
        "# Exercise: Linear Transformation with Linearly Dependent Vectors (1)\n",
        "\n",
        "Consider the matrix A given by:\n",
        "\n",
        "$$ A = \\begin{bmatrix}\n",
        "1 & 2  \\\\\n",
        "3 & 6  \\\\\n",
        "\\end{bmatrix}\n",
        "$$\n",
        "\n",
        "Perform the following tasks:\n",
        "\n",
        "1. Calculate the transformation of the standard basis vectors: $\\begin{bmatrix} 1 \\\\ 0 \\end{bmatrix}$, and $\\begin{bmatrix} 0 \\\\ 1 \\end{bmatrix}$ under the matrix A.\n",
        "2. Compute the transformation of the general vector $\\begin{bmatrix} 1 \\\\ 1 \\end{bmatrix}$ under the matrix A.\n",
        "3. Explain the implications of the transformation on the vectors and the significance of the linearly dependent set of column vectors in the transformation process.\n",
        "4. Utilize NumPy to perform the necessary calculations step by step.\n",
        "5. Visualize the transformation using Matplotlib, plotting the original vectors and their transformed counterparts in a 2D coordinate system. Add labels and a legend to distinguish the vectors before and after transformation.\n",
        "\n",
        "\n",
        "\n"
      ],
      "metadata": {
        "id": "hAmU2TMGnalh"
      }
    },
    {
      "cell_type": "code",
      "source": [],
      "metadata": {
        "id": "caciMphina-2"
      },
      "execution_count": null,
      "outputs": []
    },
    {
      "cell_type": "markdown",
      "source": [
        "# Exercise: Linear Transformation with Linearly Dependent Vectors (2)\n",
        "\n",
        "Consider the matrix A given by:\n",
        "\n",
        "$$ A = \\begin{bmatrix}\n",
        "1 & 4 & 3 \\\\\n",
        "3 & 12 & 9 \\\\\n",
        "-1 & -4 & -3\n",
        "\\end{bmatrix}\n",
        "$$\n",
        "\n",
        "Perform the following tasks:\n",
        "\n",
        "1. Calculate the transformation of the standard basis vectors: $\\begin{bmatrix} 1 \\\\ 0 \\\\ 0 \\end{bmatrix}$, $\\begin{bmatrix} 0 \\\\ 1 \\\\ 0 \\end{bmatrix}$, and $\\begin{bmatrix} 0 \\\\ 0 \\\\ 1 \\end{bmatrix}$ under the matrix A.\n",
        "2. Compute the transformation of the general vector $\\begin{bmatrix} 1 \\\\ 1 \\\\ 1 \\end{bmatrix}$ under the matrix A.\n",
        "3. Explain the implications of the transformation on the vectors and the significance of the linearly dependent set of column vectors in the transformation process.\n",
        "4. Utilize NumPy to perform the necessary calculations step by step.\n",
        "5. Visualize the transformation using Matplotlib, plotting the original vectors and their transformed counterparts in a 3D coordinate system. Add labels and a legend to distinguish the vectors before and after transformation.\n",
        "\n",
        "\n",
        "\n"
      ],
      "metadata": {
        "id": "8soMUHbCku_8"
      }
    },
    {
      "cell_type": "code",
      "source": [],
      "metadata": {
        "id": "NmBY84esl3BW"
      },
      "execution_count": null,
      "outputs": []
    },
    {
      "cell_type": "markdown",
      "source": [
        "# Exercise: Linear Transformation with Linearly Dependent Vectors (3)\n",
        "\n",
        "Consider the matrix A given by:\n",
        "\n",
        "$$ A = \\begin{bmatrix}\n",
        "2 & 1 & 3 \\\\\n",
        "-2 & 4 & 2 \\\\\n",
        "1 & 3 & 4\n",
        "\\end{bmatrix}\n",
        "$$\n",
        "\n",
        "Perform the following tasks:\n",
        "\n",
        "1. Compute the transformation of the standard basis vectors: $\\begin{bmatrix} 1 \\\\ 0 \\\\ 0 \\end{bmatrix}$, $\\begin{bmatrix} 0 \\\\ 1 \\\\ 0 \\end{bmatrix}$, and $\\begin{bmatrix} 0 \\\\ 0 \\\\ 1 \\end{bmatrix}$ under the matrix A.\n",
        "2. Determine the transformation of the general vector $\\begin{bmatrix} 1 \\\\ 2 \\\\ 1 \\end{bmatrix}$ under the matrix A.\n",
        "3. Elaborate on the effects of the transformation on the vectors and the role played by the linearly dependent set of column vectors in the transformation process.\n",
        "4. Use NumPy to carry out the necessary calculations step by step.\n",
        "5. Visualize the transformation with the aid of Matplotlib, plotting the original vectors and their transformed counterparts in a 3D coordinate system. Include appropriate labels and a legend to differentiate the vectors before and after the transformation.\n"
      ],
      "metadata": {
        "id": "AiEG2t_dmEfm"
      }
    },
    {
      "cell_type": "code",
      "source": [],
      "metadata": {
        "id": "pywSSCZRmF2e"
      },
      "execution_count": null,
      "outputs": []
    },
    {
      "cell_type": "markdown",
      "source": [
        "# Exercise: Matrix Transformation-- Addition or Removal of a Vector Dimension (1)\n",
        "\n",
        "Consider the following matrices for transformation:\n",
        "\n",
        "1. Matrix D:\n",
        "$$ D = \\begin{bmatrix}\n",
        "4 & -1 & 2 \\\\\n",
        "2 & 3 & 0\n",
        "\\end{bmatrix}\n",
        "$$\n",
        "\n",
        "2. Matrix E:\n",
        "$$ E = \\begin{bmatrix}\n",
        "-1 & 2 & 3 \\\\\n",
        "0 & 1 & 4 \\\\\n",
        "2 & 0 & -1 \\\\\n",
        "-3 & 1 & 2 \\\\\n",
        "1 & 2 & 0\n",
        "\\end{bmatrix}\n",
        "$$\n",
        "\n",
        "Perform the following tasks:\n",
        "\n",
        "For Matrix D:\n",
        "\n",
        "1. Find the transformation of the first standard basis vector $[1, 0, 0]^T$.\n",
        "2. Compute the transformation of the second standard basis vector $[0, 1, 0]^T$.\n",
        "3. Determine the transformation of the third standard basis vector $[0, 0, 1]^T$.\n",
        "4. Calculate the transformation of the general vector $[1, 1, 1]^T$.\n",
        "\n",
        "For Matrix E:\n",
        "\n",
        "1. Compute the transformation of the first standard basis vector $[1, 0, 0]^T$.\n",
        "2. Find the transformation of the second standard basis vector $[0, 1, 0]^T$.\n",
        "3. Determine the transformation of the third standard basis vector $[0, 0, 1]^T$.\n",
        "4. Calculate the transformation of the general vector $[1, 1, 1]^T$.\n",
        "\n",
        "Use NumPy for the necessary calculations and visualize the transformations using Matplotlib.\n"
      ],
      "metadata": {
        "id": "t9aWlkfrpSMi"
      }
    },
    {
      "cell_type": "code",
      "source": [],
      "metadata": {
        "id": "O1NvhZn6pTlb"
      },
      "execution_count": null,
      "outputs": []
    },
    {
      "cell_type": "markdown",
      "source": [
        "# Exercise: Matrix Transformation-- Addition or Removal of a Vector Dimension (2)\n",
        "\n",
        "Consider the following matrices for transformation:\n",
        "\n",
        "1. Matrix F:\n",
        "$$ F = \\begin{bmatrix}\n",
        "3 & -2 & 1 \\\\\n",
        "1 & 0 & 2\n",
        "\\end{bmatrix}\n",
        "$$\n",
        "\n",
        "2. Matrix G:\n",
        "$$ G = \\begin{bmatrix}\n",
        "2 & -1 & 3 \\\\\n",
        "0 & 4 & 2 \\\\\n",
        "-1 & 2 & 1 \\\\\n",
        "3 & 0 & -2 \\\\\n",
        "1 & 2 & 0\n",
        "\\end{bmatrix}\n",
        "$$\n",
        "\n",
        "Perform the following tasks:\n",
        "\n",
        "For Matrix F:\n",
        "\n",
        "1. Find the transformation of the first standard basis vector $[1, 0, 0]^T$.\n",
        "2. Compute the transformation of the second standard basis vector $[0, 1, 0]^T$.\n",
        "3. Determine the transformation of the third standard basis vector $[0, 0, 1]^T$.\n",
        "4. Calculate the transformation of the general vector $[1, 1, 1]^T$.\n",
        "\n",
        "For Matrix G:\n",
        "\n",
        "1. Compute the transformation of the first standard basis vector $[1, 0, 0]^T$.\n",
        "2. Find the transformation of the second standard basis vector $[0, 1, 0]^T$.\n",
        "3. Determine the transformation of the third standard basis vector $[0, 0, 1]^T$.\n",
        "4. Calculate the transformation of the general vector $[1, 1, 1]^T$.\n",
        "\n",
        "Use NumPy for the necessary calculations and visualize the transformations using Matplotlib.\n",
        "\n",
        "\n"
      ],
      "metadata": {
        "id": "Bque2bSpogtf"
      }
    },
    {
      "cell_type": "code",
      "source": [],
      "metadata": {
        "id": "qYiDy4rppMYe"
      },
      "execution_count": null,
      "outputs": []
    },
    {
      "cell_type": "markdown",
      "source": [
        "# Exercise: Subspaces(1)\n",
        "\n",
        "Consider the following set of vectors in a 3-dimensional vector space $V$:\n",
        "\n",
        "$v_1 = \\begin{bmatrix} 1 \\\\ 0 \\\\ 1  \\end{bmatrix}$, $v_2 = \\begin{bmatrix} 2 \\\\ 1 \\\\ 0 \\end{bmatrix}$, $v_3 = \\begin{bmatrix} 0 \\\\ 1 \\\\ 1 \\end{bmatrix}$\n",
        "\n",
        "1. Determine the dimension of the vector space $V$.\n",
        "\n",
        "2. Find the span of the set of vectors $v_1, v_2, v_3$.\n",
        "\n",
        "3. Verify whether the set of vectors $v_1, v_2, v_3$ is linearly independent.\n",
        "\n",
        "4. Does the set of vectors  $v_1, v_2, v_3$ span the space $V$?\n",
        "\n",
        "5. Consider the matrix $A$:\n",
        "\n",
        "$A = \\begin{bmatrix} v_1 & v_2 & v_3 \\end{bmatrix}$\n",
        "\n",
        "where $v_1, v_2, v_3$ are the column vectors from the exercise.\n",
        "\n",
        "  5a. What is the dimension of the vector space $R^n$ in which the column subspace is contained?\n",
        "  \n",
        "  5b. Determine the dimension of the column space of the matrix, $dim(C(A))$.\n",
        "\n",
        "  5c. Find a basis for the column space of the matrix, $C(A)$.\n",
        "\n",
        "  5d. What is the dimension of the vector space $R^n$ in which the row subspace is contained?\n",
        "  \n",
        "  5e. Determine the dimension of the row space of the matrix, $dim(C(A^T))$.\n",
        "\n",
        "  5f. Find a basis for the row space of the matrix, $C(A^T)$.\n",
        "\n",
        "  5g. What is the dimension of the vector space $R^n$ in which the null subspace is contained?\n",
        "  \n",
        "  5h. Determine the dimension of the null space of the matrix, $dim(N(A))$.\n",
        "\n",
        "  5i. Find a basis for the null space of the matrix, $N(A)$.\n",
        "\n",
        "  5j. What is the dimension of the vector space $R^n$ in which the left null subspace is contained?\n",
        "  \n",
        "  5k. Determine the dimension of the left null space of the matrix, $dim(N(A^T))\n",
        "  \n",
        "  5l. Find a basis for the left null space of the matrix, $N(A^T)$.\n",
        "\n",
        "  5m. Check for orthogonatity between row space and null space.\n",
        "\n",
        "  5n. Check for orthogonality between column space and left null space.\n",
        "\n",
        "\n",
        "6. Consider the matrix $B$:\n",
        "\n",
        "$B = \\begin{bmatrix} v_1 & v_2 & v_3 & v_1-v_2 & v_2+v_3  \\end{bmatrix}$\n",
        "\n",
        "where $v_1, v_2, v_3$ are the column vectors from the exercise.\n",
        "\n",
        "5a. What is the dimension of the vector space $R^n$ in which the column subspace is contained?\n",
        "  \n",
        "  5b. Determine the dimension of the column space of the matrix, $dim(C(B))$.\n",
        "\n",
        "  5c. Find a basis for the column space of the matrix, $C(B)$.\n",
        "\n",
        "  5d. What is the dimension of the vector space $R^n$ in which the row subspace is contained?\n",
        "  \n",
        "  5e. Determine the dimension of the row space of the matrix, $dim(C(B^T))$.\n",
        "\n",
        "  5f. Find a basis for the row space of the matrix, $C(B^T)$.\n",
        "\n",
        "  5g. What is the dimension of the vector space $R^n$ in which the null subspace is contained?\n",
        "  \n",
        "  5h. Determine the dimension of the null space of the matrix, $dim(N(B))$.\n",
        "\n",
        "  5i. Find a basis for the null space of the matrix, $N(B)$.\n",
        "\n",
        "  5j. What is the dimension of the vector space $R^n$ in which the left null subspace is contained?\n",
        "  \n",
        "  5k. Determine the dimension of the left null space of the matrix, $dim(N(B^T))\n",
        "  \n",
        "  5l. Find a basis for the left null space of the matrix, $N(B^T)$.\n",
        "\n",
        "  5m. Check for orthogonatity between row space and null space.\n",
        "\n",
        "  5n. Check for orthogonality between column space and left null space.\n",
        "\n",
        "\n",
        "Use Numpy and Sympy to verify your calculations.\n",
        "\n",
        "\n",
        "\n",
        "\n",
        "\n",
        "\n",
        "\n"
      ],
      "metadata": {
        "id": "VEuNiCLciL4y"
      }
    },
    {
      "cell_type": "code",
      "source": [],
      "metadata": {
        "id": "8o8jvKqbSwl3"
      },
      "execution_count": null,
      "outputs": []
    },
    {
      "cell_type": "markdown",
      "source": [
        "# Exercise: Subspaces(2)\n",
        "\n",
        "Consider the following set of vectors in a 4-dimensional vector space $V$:\n",
        "\n",
        "$v_1 = \\begin{bmatrix} 1 \\\\ 0 \\\\ 1 \\\\ 2  \\end{bmatrix}$, $v_2 = \\begin{bmatrix} 2 \\\\ 1 \\\\ 0 \\\\1 \\end{bmatrix}$, $v_3 = \\begin{bmatrix} 0 \\\\ 1 \\\\ 1 \\\\ 0 \\end{bmatrix}$\n",
        "\n",
        "1. Determine the dimension of the vector space $V$.\n",
        "\n",
        "2. Find the span of the set of vectors $v_1, v_2, v_3$.\n",
        "\n",
        "3. Verify whether the set of vectors $v_1, v_2, v_3$ is linearly independent.\n",
        "\n",
        "4. Does the set of vectors  $v_1, v_2, v_3$ span the space $V$?\n",
        "\n",
        "5. Consider the matrix $A$:\n",
        "\n",
        "$A = \\begin{bmatrix} v_1 & v_2 & v_3 \\end{bmatrix}$\n",
        "\n",
        "where $v_1, v_2, v_3$ are the column vectors from the exercise.\n",
        "\n",
        "  5a. What is the dimension of the vector space $R^n$ in which the column subspace is contained?\n",
        "  \n",
        "  5b. Determine the dimension of the column space of the matrix, $dim(C(A))$.\n",
        "\n",
        "  5c. Find a basis for the column space of the matrix, $C(A)$.\n",
        "\n",
        "  5d. What is the dimension of the vector space $R^n$ in which the row subspace is contained?\n",
        "  \n",
        "  5e. Determine the dimension of the row space of the matrix, $dim(C(A^T))$.\n",
        "\n",
        "  5f. Find a basis for the row space of the matrix, $C(A^T)$.\n",
        "\n",
        "  5g. What is the dimension of the vector space $R^n$ in which the null subspace is contained?\n",
        "  \n",
        "  5h. Determine the dimension of the null space of the matrix, $dim(N(A))$.\n",
        "\n",
        "  5i. Find a basis for the null space of the matrix, $N(A)$.\n",
        "\n",
        "  5j. What is the dimension of the vector space $R^n$ in which the left null subspace is contained?\n",
        "  \n",
        "  5k. Determine the dimension of the left null space of the matrix, $dim(N(A^T))\n",
        "  \n",
        "  5l. Find a basis for the left null space of the matrix, $N(A^T)$.\n",
        "\n",
        "  5m. Check for orthogonatity between row space and null space.\n",
        "\n",
        "  5n. Check for orthogonality between column space and left null space.\n",
        "\n",
        "\n",
        "6. Consider the matrix $B$:\n",
        "\n",
        "$B = \\begin{bmatrix} v_1 & v_2 & v_3 & v_1-v_2 & v_2+v_3  \\end{bmatrix}$\n",
        "\n",
        "where $v_1, v_2, v_3$ are the column vectors from the exercise.\n",
        "\n",
        "5a. What is the dimension of the vector space $R^n$ in which the column subspace is contained?\n",
        "  \n",
        "  5b. Determine the dimension of the column space of the matrix, $dim(C(B))$.\n",
        "\n",
        "  5c. Find a basis for the column space of the matrix, $C(B)$.\n",
        "\n",
        "  5d. What is the dimension of the vector space $R^n$ in which the row subspace is contained?\n",
        "  \n",
        "  5e. Determine the dimension of the row space of the matrix, $dim(C(B^T))$.\n",
        "\n",
        "  5f. Find a basis for the row space of the matrix, $C(B^T)$.\n",
        "\n",
        "  5g. What is the dimension of the vector space $R^n$ in which the null subspace is contained?\n",
        "  \n",
        "  5h. Determine the dimension of the null space of the matrix, $dim(N(B))$.\n",
        "\n",
        "  5i. Find a basis for the null space of the matrix, $N(B)$.\n",
        "\n",
        "  5j. What is the dimension of the vector space $R^n$ in which the left null subspace is contained?\n",
        "  \n",
        "  5k. Determine the dimension of the left null space of the matrix, $dim(N(B^T))\n",
        "  \n",
        "  5l. Find a basis for the left null space of the matrix, $N(B^T)$.\n",
        "\n",
        "  5m. Check for orthogonatity between row space and null space.\n",
        "\n",
        "  5n. Check for orthogonality between column space and left null space.\n",
        "\n",
        "\n",
        "Use Numpy and Sympy to verify your calculations.\n",
        "\n",
        "\n",
        "\n",
        "\n",
        "\n",
        "\n"
      ],
      "metadata": {
        "id": "NIEnamN9WKn0"
      }
    },
    {
      "cell_type": "code",
      "source": [],
      "metadata": {
        "id": "03tXL4yeqI_v"
      },
      "execution_count": null,
      "outputs": []
    },
    {
      "cell_type": "markdown",
      "source": [
        "# Exercise: Subspaces(3)\n",
        "\n",
        "Consider the following set of vectors in a 6-dimensional vector space $V$:\n",
        "\n",
        "$v_1 = \\begin{bmatrix} 1 \\\\ 0 \\\\ 1 \\\\ 2 \\\\ 1 \\\\ 2 \\end{bmatrix}$, $v_2 = \\begin{bmatrix} 2 \\\\ 1 \\\\ 0 \\\\1 \\\\ 0 \\\\1 \\end{bmatrix}$, $v_3 = \\begin{bmatrix} 0 \\\\ 1 \\\\ 1 \\\\ 0 \\\\ 1 \\\\ 0 \\end{bmatrix}$\n",
        "\n",
        "Consider the matrix $A$:\n",
        "\n",
        "$A = \\begin{bmatrix} v_1 & v_2 & v_3 \\end{bmatrix}$\n",
        "\n",
        "where $v_1, v_2, v_3$ are the column vectors from the exercise.\n",
        "\n",
        "1. What is the dimension of the vector space $R^n$ in which the column subspace is contained?\n",
        "  \n",
        "2. Determine the dimension of the column space of the matrix, $dim(C(A))$.\n",
        "\n",
        "3. Find a basis for the column space of the matrix, $C(A)$.\n",
        "\n",
        "4. What is the dimension of the vector space $R^n$ in which the row subspace is contained?\n",
        "  \n",
        "5. Determine the dimension of the row space of the matrix, $dim(C(A^T))$.\n",
        "\n",
        "6. Find a basis for the row space of the matrix, $C(A^T)$.\n",
        "\n",
        "7. What is the dimension of the vector space $R^n$ in which the null subspace is contained?\n",
        "  \n",
        "8. Determine the dimension of the null space of the matrix, $dim(N(A))$.\n",
        "\n",
        "9. Find a basis for the null space of the matrix, $N(A)$.\n",
        "\n",
        "10. What is the dimension of the vector space $R^n$ in which the left null subspace is contained?\n",
        "  \n",
        "11. Determine the dimension of the left null space of the matrix, $dim(N(A^T))\n",
        "  \n",
        "12. Find a basis for the left null space of the matrix, $N(A^T)$.\n",
        "\n",
        "13. Check for orthogonatity between row space and null space.\n",
        "\n",
        "14. Check for orthogonality between column space and left null space.\n",
        "\n",
        "15. Use Numpy and Sympy to verify your calculations.\n"
      ],
      "metadata": {
        "id": "BBZuqTcNqJuV"
      }
    },
    {
      "cell_type": "code",
      "source": [],
      "metadata": {
        "id": "rz5im8xisLqf"
      },
      "execution_count": null,
      "outputs": []
    },
    {
      "cell_type": "markdown",
      "source": [
        "# Exercise: Orthonormality of a Set of Vectors (1)\n",
        "\n",
        "Consider the following set of 3-dimensional vectors:\n",
        "\n",
        "$$\\mathbf{v}_1 = \\begin{bmatrix} -1 \\\\ 0 \\\\ 0 \\end{bmatrix}, \\quad \\mathbf{v}_2 = \\begin{bmatrix} 0 \\\\ -1 \\\\ 0 \\end{bmatrix}, \\quad \\mathbf{v}_3 = \\begin{bmatrix} 0 \\\\ 0 \\\\ 1 \\end{bmatrix}.$$\n",
        "\n",
        "Perform the following tasks:\n",
        "\n",
        "1. Verify whether the set of vectors forms an orthonormal set.\n",
        "2. Utilize NumPy to carry out the necessary calculations step by step. Check the orthogonality and normality of the vectors, and then confirm if the set is orthonormal.\n",
        "3. Finally, plot the vectors in a 3D coordinate system using Matplotlib to visualize their directions and lengths. Make sure to label the axes appropriately and include a legend for the vectors."
      ],
      "metadata": {
        "id": "68XVZY6kvC3G"
      }
    },
    {
      "cell_type": "code",
      "source": [],
      "metadata": {
        "id": "lDug7KlQwLRH"
      },
      "execution_count": null,
      "outputs": []
    },
    {
      "cell_type": "markdown",
      "source": [
        "# Exercise: Orthonormality of a Set of Vectors (2)\n",
        "\n",
        "Consider the following set of 3-dimensional vectors:\n",
        "\n",
        "1. $\\mathbf{v}_1 = \\frac{1}{\\sqrt{2}} \\begin{bmatrix} 1 \\\\ 0 \\\\ 1 \\end{bmatrix}$\n",
        "2. $\\mathbf{v}_2 = \\frac{1}{\\sqrt{2}} \\begin{bmatrix} 0 \\\\ 1 \\\\ 1 \\end{bmatrix}$\n",
        "3. $\\mathbf{v}_3 = \\frac{1}{\\sqrt{2}} \\begin{bmatrix} 1 \\\\ 0 \\\\ -1 \\end{bmatrix}$\n",
        "\n",
        "Perform the following tasks:\n",
        "\n",
        "1. Verify whether the set of vectors forms an orthonormal set.\n",
        "2. Utilize NumPy to carry out the necessary calculations step by step. Check the orthogonality and normality of the vectors, and then confirm if the set is orthonormal.\n",
        "3. Finally, plot the vectors in a 3D coordinate system using Matplotlib to visualize their directions and lengths. Make sure to label the axes appropriately and include a legend for the vectors."
      ],
      "metadata": {
        "id": "dguTpndgwi5M"
      }
    },
    {
      "cell_type": "code",
      "source": [],
      "metadata": {
        "id": "CCwDxK6NxWCD"
      },
      "execution_count": null,
      "outputs": []
    },
    {
      "cell_type": "markdown",
      "source": [
        "# Exercise: Orthonormality of a Set of Vectors (3)\n",
        "\n",
        "Consider the following set of 3-dimensional vectors:\n",
        "\n",
        "1. $\\mathbf{u}_1 = \\frac{1}{\\sqrt{3}} \\begin{bmatrix} 1 \\\\ 1 \\\\ 1 \\end{bmatrix}$\n",
        "2. $\\mathbf{u}_2 = \\frac{1}{\\sqrt{6}} \\begin{bmatrix} 1 \\\\ -2 \\\\ 1 \\end{bmatrix}$\n",
        "3. $\\mathbf{u}_3 = \\frac{1}{\\sqrt{2}} \\begin{bmatrix} 1 \\\\ 0 \\\\ -1 \\end{bmatrix}$\n",
        "\n",
        "Perform the following tasks:\n",
        "\n",
        "1. Verify whether the set of vectors forms an orthonormal set.\n",
        "2. Utilize NumPy to carry out the necessary calculations step by step. Check the orthogonality and normality of the vectors, and then confirm if the set is orthonormal.\n",
        "3. Finally, plot the vectors in a 3D coordinate system using Matplotlib to visualize their directions and lengths. Make sure to label the axes appropriately and include a legend for the vectors."
      ],
      "metadata": {
        "id": "RGbT3pllxWW5"
      }
    },
    {
      "cell_type": "code",
      "source": [],
      "metadata": {
        "id": "oLdSLNttx2fl"
      },
      "execution_count": null,
      "outputs": []
    },
    {
      "cell_type": "markdown",
      "source": [
        "# Exercise: Rank Nullity Theorem (1)\n",
        "\n",
        "Refer back to the Exercise: Subspaces(1).\n",
        "\n",
        "Consider the following set of vectors in a 3-dimensional vector space $V$:\n",
        "\n",
        "$v_1 = \\begin{bmatrix} 1 \\\\ 0 \\\\ 1  \\end{bmatrix}$, $v_2 = \\begin{bmatrix} 2 \\\\ 1 \\\\ 0 \\end{bmatrix}$, $v_3 = \\begin{bmatrix} 0 \\\\ 1 \\\\ 1 \\end{bmatrix}$\n",
        "\n",
        "$B = \\begin{bmatrix} v_1 & v_2 & v_3 & v_1-v_2 & v_2+v_3  \\end{bmatrix}$\n",
        "\n",
        "where $v_1, v_2, v_3$ are the column vectors from the exercise.\n",
        "  \n",
        "1. Determine the dimension of the column space of the matrix, $dim(C(B))$.\n",
        "  \n",
        "2. Determine the dimension of the row space of the matrix, $dim(C(B^T))$.\n",
        "\n",
        "3. Determine the dimension of the null space of the matrix, $dim(N(B))$.\n",
        "\n",
        "4. Determine the dimension of the left null space of the matrix, $dim(N(B^T)$)\n",
        "\n",
        "5. Do the dimensions conform with the Rank-Nullity Theorem?\n",
        "\n",
        "6. Does the matrix conform with the Fundamental Theorem of Linear Algebra?\n",
        "  \n",
        "\n",
        "\n",
        "\n",
        "\n",
        "\n"
      ],
      "metadata": {
        "id": "lTLvJH_62pnh"
      }
    },
    {
      "cell_type": "code",
      "source": [],
      "metadata": {
        "id": "WSYddsWX40T8"
      },
      "execution_count": null,
      "outputs": []
    },
    {
      "cell_type": "markdown",
      "source": [
        "# Exercise: Rank Nullity Theorem (2)\n",
        "\n",
        "Refer back to the Exercise: Subspaces(2).\n",
        "\n",
        "Consider the following set of vectors in a 4-dimensional vector space $V$:\n",
        "\n",
        "$v_1 = \\begin{bmatrix} 1 \\\\ 0 \\\\ 1 \\\\ 2  \\end{bmatrix}$, $v_2 = \\begin{bmatrix} 2 \\\\ 1 \\\\ 0 \\\\1 \\end{bmatrix}$, $v_3 = \\begin{bmatrix} 0 \\\\ 1 \\\\ 1 \\\\ 0 \\end{bmatrix}$\n",
        "\n",
        "$B = \\begin{bmatrix} v_1 & v_2 & v_3 & v_1-v_2 & v_2+v_3  \\end{bmatrix}$\n",
        "\n",
        "where $v_1, v_2, v_3$ are the column vectors from the exercise.\n",
        "  \n",
        "1. Determine the dimension of the column space of the matrix, $dim(C(B))$.\n",
        "  \n",
        "2. Determine the dimension of the row space of the matrix, $dim(C(B^T))$.\n",
        "\n",
        "3. Determine the dimension of the null space of the matrix, $dim(N(B))$.\n",
        "\n",
        "4. Determine the dimension of the left null space of the matrix, $dim(N(B^T))$\n",
        "\n",
        "5. Do the dimensions conform with the Rank-Nullity Theorem?\n",
        "\n",
        "6. Does the matrix conform with the Fundamental Theorem of Linear Algebra?\n",
        "  \n",
        "\n",
        "\n",
        "\n",
        "\n",
        "\n"
      ],
      "metadata": {
        "id": "IWGA_tpd4081"
      }
    },
    {
      "cell_type": "code",
      "source": [],
      "metadata": {
        "id": "Bc7FvhP03szt"
      },
      "execution_count": null,
      "outputs": []
    },
    {
      "cell_type": "markdown",
      "source": [
        "# Exercise: Rank Nullity Theorem (3)\n",
        "\n",
        "Refer back to the Exercise: Subspaces(3).\n",
        "\n",
        "Consider the following set of vectors in a 6-dimensional vector space $V$:\n",
        "\n",
        "$v_1 = \\begin{bmatrix} 1 \\\\ 0 \\\\ 1 \\\\ 2 \\\\ 1 \\\\ 2 \\end{bmatrix}$, $v_2 = \\begin{bmatrix} 2 \\\\ 1 \\\\ 0 \\\\1 \\\\ 0 \\\\1 \\end{bmatrix}$, $v_3 = \\begin{bmatrix} 0 \\\\ 1 \\\\ 1 \\\\ 0 \\\\ 1 \\\\ 0 \\end{bmatrix}$\n",
        "\n",
        "Consider the matrix $A$:\n",
        "\n",
        "$A = \\begin{bmatrix} v_1 & v_2 & v_3 \\end{bmatrix}$\n",
        "where $v_1, v_2, v_3$ are the column vectors from the exercise.\n",
        "  \n",
        "1. Determine the dimension of the column space of the matrix, $dim(C(A))$.\n",
        "  \n",
        "2. Determine the dimension of the row space of the matrix, $dim(C(A^T))$.\n",
        "\n",
        "3. Determine the dimension of the null space of the matrix, $dim(N(A))$.\n",
        "\n",
        "4. Determine the dimension of the left null space of the matrix, $dim(N(A^T))$\n",
        "\n",
        "5. Do the dimensions conform with the Rank-Nullity Theorem?\n",
        "\n",
        "6. Does the matrix conform with the Fundamental Theorem of Linear Algebra?\n",
        "  \n",
        "\n",
        "\n",
        "\n",
        "\n",
        "\n"
      ],
      "metadata": {
        "id": "wOrbD3De5Nys"
      }
    },
    {
      "cell_type": "code",
      "source": [],
      "metadata": {
        "id": "I3pViNT-5mUj"
      },
      "execution_count": null,
      "outputs": []
    },
    {
      "cell_type": "markdown",
      "source": [
        "# Exercise: Identity Matrix (1)\n",
        "\n",
        "Consider the 4x4 matrix $ A $:\n",
        "\n",
        "$ A = \\begin{bmatrix} 2 & 1 & 0 & 3 \\\\ 1 & 0 & 3 & -2 \\\\ 4 & 2 & 1 & 5 \\\\ 0 & -3 & 2 & 1 \\end{bmatrix} $\n",
        "\n",
        "1. Utilize the identity matrix $ I $ to form the augmented matrix $ [A | I] $.\n",
        "2. Perform row operations to transform the left side of the augmented matrix into the identity matrix.\n",
        "3. Apply the same row operations to the right side of the augmented matrix to obtain the inverse of matrix $ A $, denoted as $ A^{-1} $ if it exists.\n",
        "4. If $ A^{-1} $ exists verify your result by multiplying $ A $ with $ A^{-1} $ and confirm that the product is the identity matrix.\n",
        "5. If $ A^{-1} $ exists linearly transform the vector $x=[1,1,1,1]^T$ with the matrix $A$ and then linearly tranform the resultant vector with the matrix $A^{-1}$. Plot the original vector as well as the transformations with the use of numpy and matplotlib.\n",
        "6. Find a basis for the columns space of matirx $C(A)$.\n",
        "7. Is the following set a basis for the columns space $C(A)$?\n",
        "\n",
        "$$\n",
        "\\left\\{ \\begin{bmatrix} 1 \\\\ 0 \\\\ 0 \\\\ 0 \\end{bmatrix}, \\begin{bmatrix} 0 \\\\ 1 \\\\ 0 \\\\ 0 \\end{bmatrix}, \\begin{bmatrix} 0 \\\\ 0 \\\\ 1 \\\\ 0 \\end{bmatrix}, \\begin{bmatrix} 0 \\\\ 0 \\\\ 0 \\\\ 1 \\end{bmatrix} \\right\\}\n",
        "$$\n",
        "\n",
        "8. Find a basis for the null space of matrix $N(A^T)$. Recall the definition of null space.\n",
        "\n",
        "$$N(A) = \\{\\mathbf{x} \\in \\mathbb{R}^n \\mid A\\mathbf{x} = \\mathbf{0} \\} $$\n",
        "\n",
        "9. Use numpy to confirm your calculations.\n"
      ],
      "metadata": {
        "id": "JKguTlTWCfMZ"
      }
    },
    {
      "cell_type": "code",
      "source": [],
      "metadata": {
        "id": "9PcW5zDoG7Yd"
      },
      "execution_count": null,
      "outputs": []
    },
    {
      "cell_type": "markdown",
      "source": [
        "# Exercise: Identity Matrix (2)\n",
        "\n",
        "Consider the 3x3 matrix $ A $:\n",
        "\n",
        "$ A = \\begin{bmatrix} 2 & 1 & 0\\\\ 1 & 0 & 1 \\\\ 4 & 2 & 0 \\end{bmatrix} $\n",
        "\n",
        "1. Utilize the identity matrix $ I $ to form the augmented matrix $ [A | I] $.\n",
        "2. Perform row operations to transform the left side of the augmented matrix into the identity matrix.\n",
        "3. Apply the same row operations to the right side of the augmented matrix to obtain the inverse of matrix $ A $, denoted as $ A^{-1} $ if it exists.\n",
        "4. If $ A^{-1} $ exists verify your result by multiplying $ A $ with $ A^{-1} $ and confirm that the product is the identity matrix.\n",
        "5. Find a basis for the columns space of matirx $C(A)$.\n",
        "6. Is the following set a basis for the columns space $C(A)$?\n",
        "\n",
        "$$\n",
        "\\left\\{ \\begin{bmatrix} 1 \\\\ 0 \\\\ 0 \\end{bmatrix}, \\begin{bmatrix} 0 \\\\ 1 \\\\ 0 \\end{bmatrix} \\right\\}\n",
        "$$\n",
        "\n",
        "7. Find a basis for the null space of matrix $N(A^T)$. Recall the definition of null space.\n",
        "\n",
        "$$N(A) = \\{\\mathbf{x} \\in \\mathbb{R}^n \\mid A\\mathbf{x} = \\mathbf{0} \\} $$\n",
        "\n",
        "8. Use numpy to confirm your calculations.\n",
        "\n"
      ],
      "metadata": {
        "id": "tmub0waQG8_K"
      }
    },
    {
      "cell_type": "code",
      "source": [],
      "metadata": {
        "id": "2Ki6UmDtOOU5"
      },
      "execution_count": null,
      "outputs": []
    },
    {
      "cell_type": "markdown",
      "source": [
        "# Exercise: Rotation Matrix (1)\n",
        "\n",
        "1. Find the $2 \\times 2$ rotation matrix that rotates vectors in the plane by $\\pi/2$ **counterclockwise**.\n",
        "2. Confirm your calculations using numpy and plot the transformation of the vector $x=[3,2]^T$ using matplotlib.\n"
      ],
      "metadata": {
        "id": "Te6faxPNOijf"
      }
    },
    {
      "cell_type": "code",
      "source": [],
      "metadata": {
        "id": "8n8YpXH0Q83t"
      },
      "execution_count": null,
      "outputs": []
    },
    {
      "cell_type": "markdown",
      "source": [
        "# Exercise: Rotation Matrix (2)\n",
        "\n",
        "1. Find the $2 \\times 2$ rotation matrix that rotates vectors in the plane by $\\pi/6$ **clockwise**.\n",
        "2. Confirm your calculations using numpy and plot the transformation of the vector $x=[3,2]^T$ using matplotlib."
      ],
      "metadata": {
        "id": "0PVGak5cQ9OC"
      }
    },
    {
      "cell_type": "code",
      "source": [],
      "metadata": {
        "id": "rpZxXRQuRFfz"
      },
      "execution_count": null,
      "outputs": []
    },
    {
      "cell_type": "markdown",
      "source": [
        "# Exercise: Reflection Matrix (1)\n",
        "\n",
        "1. Find the $2 \\times 2$ reflection matrix that reflects vectors **over the x axis**.\n",
        "2. Confirm your calculations using numpy and plot the transformation of the vector $x=[3,2]^T$ using matplotlib."
      ],
      "metadata": {
        "id": "ZJMXG2k9RF_V"
      }
    },
    {
      "cell_type": "code",
      "source": [],
      "metadata": {
        "id": "Q8LSjjLmR2fT"
      },
      "execution_count": null,
      "outputs": []
    },
    {
      "cell_type": "markdown",
      "source": [
        "# Exercise: Reflection Matrix (2)\n",
        "\n",
        "1. Find the $2 \\times 2$ reflection matrix that reflects vectors **over the y axis**.\n",
        "2. Confirm your calculations using numpy and plot the transformation the vector $x=[3,2]^T$ using matplotlib."
      ],
      "metadata": {
        "id": "3di-f1xKR2yO"
      }
    },
    {
      "cell_type": "code",
      "source": [],
      "metadata": {
        "id": "ILD4B3trR8eo"
      },
      "execution_count": null,
      "outputs": []
    },
    {
      "cell_type": "markdown",
      "source": [
        "# Exercise: Reflection Matrix (3)\n",
        "\n",
        "1. Find the $2 \\times 2$ reflection matrix that reflects vectors **over the x=y axis**.\n",
        "2. Confirm your calculations using numpy and plot the transformation the vector $x=[3,2]^T$ using matplotlib."
      ],
      "metadata": {
        "id": "5tmcTKJIR8-Q"
      }
    },
    {
      "cell_type": "code",
      "source": [],
      "metadata": {
        "id": "x7EWlvCESMSB"
      },
      "execution_count": null,
      "outputs": []
    },
    {
      "cell_type": "markdown",
      "source": [
        "# Exercise: Dilation Matrix (1)\n",
        "\n",
        "1. Find the $2 \\times 2$ dilation matrix that scale vectors by a factor of $-2$ along the $x$ and $y$ axes.\n",
        "2. Confirm your calculations using numpy and plot the transformation the vector $x=[3,2]^T$ using matplotlib.\n",
        "\n"
      ],
      "metadata": {
        "id": "HQhak_LrSW5M"
      }
    },
    {
      "cell_type": "code",
      "source": [],
      "metadata": {
        "id": "zptBpD2eUMKF"
      },
      "execution_count": null,
      "outputs": []
    },
    {
      "cell_type": "markdown",
      "source": [
        "# Exercise: Shear Matrix (1)\n",
        "\n",
        "1. Find the $2 \\times 2$ shear matrix that shifts vectors horizontally ($x$-axis) by an amount $\\times 3$ of its vertical coordinate ($y$-axis).\n",
        "2. Confirm your calculations using numpy and plot the transformation the vector $x=[3,2]^T$ using matplotlib.\n"
      ],
      "metadata": {
        "id": "2o6oCYf0UM3c"
      }
    },
    {
      "cell_type": "code",
      "source": [],
      "metadata": {
        "id": "tkEuSWOyXEfw"
      },
      "execution_count": null,
      "outputs": []
    },
    {
      "cell_type": "markdown",
      "source": [
        "# Exercise: Shear Matrix (2)\n",
        "\n",
        "1. Find the $2 \\times 2$ shear matrix that shifts vectors vertically ($y$-axis) by an amount $\\times 2$ of its horizontal coordinate ($x$-axis).\n",
        "2. Confirm your calculations using numpy and plot the transformation the vector $x=[3,2]^T$ using matplotlib.\n"
      ],
      "metadata": {
        "id": "9p2DYBZsXE4X"
      }
    },
    {
      "cell_type": "code",
      "source": [],
      "metadata": {
        "id": "P6BIDkZtYmwH"
      },
      "execution_count": null,
      "outputs": []
    },
    {
      "cell_type": "markdown",
      "source": [
        "# Exercise: Determinant (1)\n",
        "\n",
        "Consider a 2x2 matrix $ A $:\n",
        "\n",
        "$$ A = \\begin{bmatrix}\n",
        "  a_{11} & a_{12} \\\\\n",
        "  a_{21} & a_{22}\n",
        "  \\end{bmatrix} $$\n",
        "   -\n",
        "1. Write a Python function to calculate the determinant of this matrix using the formula $ \\text{det}(A) = a_{11}a_{22} - a_{12}a_{21} $.\n",
        "2. Test your function with different 2x2 matrices.\n",
        "3. Create another function to visually represent the geometric interpretation of the determinant.\n",
        "4. Test your function with different 2x2 matrices.\n"
      ],
      "metadata": {
        "id": "muNXBNW9YnNA"
      }
    },
    {
      "cell_type": "code",
      "source": [],
      "metadata": {
        "id": "HO0hWqZvanye"
      },
      "execution_count": null,
      "outputs": []
    },
    {
      "cell_type": "markdown",
      "source": [
        "# Exercise: Determinant (2)\n",
        "\n",
        "Given a 3x3 matrix $ A $:\n",
        "$$ A = \\begin{bmatrix}\n",
        "a_{11} & a_{12} & a_{13} \\\\\n",
        "a_{21} & a_{22} & a_{23} \\\\\n",
        "a_{31} & a_{32} & a_{33}\n",
        "\\end{bmatrix} $$\n",
        "\n",
        "\n",
        "1. Write a Python function to calculate the determinant of this matrix using the formula:\n",
        "      $$ \\text{det}(A) = a_{11}(a_{22}a_{33} - a_{23}a_{32}) - a_{12}(a_{21}a_{33} - a_{23}a_{31}) + a_{13}(a_{21}a_{32} - a_{22}a_{31}) $$\n",
        "\n",
        "2. Test your functions with different 3x3 matrices.\n",
        "\n"
      ],
      "metadata": {
        "id": "25Q9OWTlaoEP"
      }
    },
    {
      "cell_type": "code",
      "source": [],
      "metadata": {
        "id": "3oP9hJAwbAF5"
      },
      "execution_count": null,
      "outputs": []
    },
    {
      "cell_type": "markdown",
      "source": [
        "# Exercise: Inverse of a 2x2 Matrix\n",
        "\n",
        "Apply these steps mentiond below to find the inverse of the following matrix:\n",
        "\n",
        "$$ A = \\begin{bmatrix}\n",
        "3 & 5 \\\\\n",
        "2 & 7\n",
        "\\end{bmatrix} $$\n",
        "\n",
        "___\n",
        "\n",
        "Given a 2x2 matrix $ A $:\n",
        "\n",
        "$$ A = \\begin{bmatrix}\n",
        "a_{11} & a_{12} \\\\\n",
        "a_{21} & a_{22}\n",
        "\\end{bmatrix} $$\n",
        "\n",
        "1. Calculate the determinant of matrix $ A $ using the formula: $$ \\text{det}(A) = a_{11}a_{22} - a_{12}a_{21} $$\n",
        "\n",
        "2. Check if the determinant is non-zero. If $ \\text{det}(A) \\neq 0 $, proceed with finding the inverse.\n",
        "\n",
        "3. Calculate the cofactors $ C_{ij} $ for each element $ a_{ij} $ using the following formulas:\n",
        "   $$ C_{11} = a_{22} $$\n",
        "   $$ C_{12} = -a_{21} $$\n",
        "   $$ C_{21} = -a_{12} $$\n",
        "   $$ C_{22} = a_{11} $$\n",
        "\n",
        "4. Construct the cofactor matrix:\n",
        "   $$ \\text{Cofactor Matrix} = \\begin{bmatrix}\n",
        "   C_{11} & C_{12} \\\\\n",
        "   C_{21} & C_{22}\n",
        "   \\end{bmatrix} = \\begin{bmatrix}\n",
        "   a_{22} & -a_{21} \\\\\n",
        "   -a_{12} & a_{11}\n",
        "   \\end{bmatrix} $$\n",
        "\n",
        "5. Take the transpose of the cofactor matrix to obtain the adjugate matrix $ \\text{adj}(A) $:\n",
        "   $$ \\text{adj}(A) = \\text{Cofactor Matrix}^T = \\begin{bmatrix}\n",
        "   a_{22} & -a_{12} \\\\\n",
        "   -a_{21} & a_{11}\n",
        "   \\end{bmatrix} $$\n",
        "\n",
        "6. Finally, find the inverse matrix $ A^{-1} $ using the formula:\n",
        "   $$ A^{-1} = \\frac{1}{\\text{det}(A)} \\cdot \\text{adj}(A) $$\n",
        "\n",
        "\n",
        "\n",
        "\n"
      ],
      "metadata": {
        "id": "v5DWP0TbbAbK"
      }
    },
    {
      "cell_type": "code",
      "source": [],
      "metadata": {
        "id": "WTZWDZMncHKW"
      },
      "execution_count": null,
      "outputs": []
    },
    {
      "cell_type": "markdown",
      "source": [
        "# Exercise: Inverse of a 2x2 Matrix (2)\n",
        "\n",
        "Apply these steps mentiond below to find the inverse of the following matrix:\n",
        "\n",
        "$$ A = \\begin{bmatrix}\n",
        "-11 & 5 \\\\\n",
        "2 & 2\n",
        "\\end{bmatrix} $$\n",
        "\n",
        "___\n",
        "\n",
        "Given a 2x2 matrix $ A $:\n",
        "\n",
        "$$ A = \\begin{bmatrix}\n",
        "a_{11} & a_{12} \\\\\n",
        "a_{21} & a_{22}\n",
        "\\end{bmatrix} $$\n",
        "\n",
        "1. Calculate the determinant of matrix $ A $ using the formula: $$ \\text{det}(A) = a_{11}a_{22} - a_{12}a_{21} $$\n",
        "\n",
        "2. Check if the determinant is non-zero. If $ \\text{det}(A) \\neq 0 $, proceed with finding the inverse.\n",
        "\n",
        "3. Calculate the cofactors $ C_{ij} $ for each element $ a_{ij} $ using the following formulas:\n",
        "   $$ C_{11} = a_{22} $$\n",
        "   $$ C_{12} = -a_{21} $$\n",
        "   $$ C_{21} = -a_{12} $$\n",
        "   $$ C_{22} = a_{11} $$\n",
        "\n",
        "4. Construct the cofactor matrix:\n",
        "   $$ \\text{Cofactor Matrix} = \\begin{bmatrix}\n",
        "   C_{11} & C_{12} \\\\\n",
        "   C_{21} & C_{22}\n",
        "   \\end{bmatrix} = \\begin{bmatrix}\n",
        "   a_{22} & -a_{21} \\\\\n",
        "   -a_{12} & a_{11}\n",
        "   \\end{bmatrix} $$\n",
        "\n",
        "5. Take the transpose of the cofactor matrix to obtain the adjugate matrix $ \\text{adj}(A) $:\n",
        "   $$ \\text{adj}(A) = \\text{Cofactor Matrix}^T = \\begin{bmatrix}\n",
        "   a_{22} & -a_{12} \\\\\n",
        "   -a_{21} & a_{11}\n",
        "   \\end{bmatrix} $$\n",
        "\n",
        "6. Finally, find the inverse matrix $ A^{-1} $ using the formula:\n",
        "   $$ A^{-1} = \\frac{1}{\\text{det}(A)} \\cdot \\text{adj}(A) $$\n",
        "\n",
        "\n",
        "\n",
        "\n"
      ],
      "metadata": {
        "id": "qPi47h1pcIXV"
      }
    },
    {
      "cell_type": "code",
      "source": [],
      "metadata": {
        "id": "4CSmQPMSbezB"
      },
      "execution_count": null,
      "outputs": []
    },
    {
      "cell_type": "markdown",
      "source": [
        "## Exercise: Analyzing Rank and Null Space (1)\n",
        "\n",
        "Consider the 3x3 matrix A given below:\n",
        "\n",
        "$$ A = \\begin{bmatrix} -3 & 5 & 3 \\\\ 4 & 5 & 6 \\\\ -7 & 8 & 7 \\end{bmatrix} $$\n",
        "\n",
        "1. Calculate the determinant of matrix A and determine whether it is singular or non-singular.\n",
        "\n",
        "2. Find the rank of matrix A. Determine if it is a full-rank matrix or not. Explain how you arrived at this conclusion.\n",
        "\n",
        "3. Investigate the linear dependence between the rows of matrix A. Identify the linearly dependent rows and express one row as a linear combination of others if applicable.\n",
        "\n",
        "4. Determine the null space of matrix A. Find at least one vector belonging to the null space and explain its significance in the context of the matrix being singular.\n",
        "\n",
        "5. If possible, find the inverse of matrix A. Explain why or why not it is possible to find the inverse based on the rank and properties of A.\n",
        "\n",
        "6. Discuss the relationship between the rank of matrix A and the dimension of its null space. How does the rank-nullity theorem apply in this case?\n",
        "\n",
        "7. Generalize your understanding of singular and non-singular matrices. Why is it important for a matrix to be of full rank, especially when considering the inverse and null space?\n",
        "\n",
        "Use your findings to support your answers and provide clear explanations for each step."
      ],
      "metadata": {
        "id": "K-A-RT6dcmpI"
      }
    },
    {
      "cell_type": "code",
      "source": [],
      "metadata": {
        "id": "jZMgSwW9faX9"
      },
      "execution_count": null,
      "outputs": []
    },
    {
      "cell_type": "markdown",
      "source": [
        "## Exercise: Analyzing Rank and Null Space (2)\n",
        "\n",
        "Consider the 5x5 matrix A given below:\n",
        "\n",
        "$$ A = \\begin{bmatrix}\n",
        "1 & 2 & 3 & -4 & 5 \\\\\n",
        "6 & 7 & 8 & 9 & 10 \\\\\n",
        "11 & 12 & 13 & -14 & 15 \\\\\n",
        "16 & 17 & 18 & 19 & 20 \\\\\n",
        "21 & 22 & 23 & 24 & 25\n",
        "\\end{bmatrix} $$\n",
        "\n",
        "\n",
        "1. Calculate the determinant of matrix A and determine whether it is singular or non-singular.\n",
        "\n",
        "2. Find the rank of matrix A. Determine if it is a full-rank matrix or not. Explain how you arrived at this conclusion.\n",
        "\n",
        "3. Investigate the linear dependence between the rows of matrix A. Identify the linearly dependent rows and express one row as a linear combination of others if applicable.\n",
        "\n",
        "4. Determine the null space of matrix A. Find at least one vector belonging to the null space and explain its significance in the context of the matrix being singular.\n",
        "\n",
        "5. If possible, find the inverse of matrix A. Explain why or why not it is possible to find the inverse based on the rank and properties of A.\n",
        "\n",
        "6. Discuss the relationship between the rank of matrix A and the dimension of its null space. How does the rank-nullity theorem apply in this case?\n",
        "\n",
        "7. Generalize your understanding of singular and non-singular matrices. Why is it important for a matrix to be of full rank, especially when considering the inverse and null space?\n",
        "\n",
        "Use your findings to support your answers and provide clear explanations for each step."
      ],
      "metadata": {
        "id": "yRVVRXfYfa7I"
      }
    },
    {
      "cell_type": "code",
      "source": [],
      "metadata": {
        "id": "4IM8FocDf_KF"
      },
      "execution_count": null,
      "outputs": []
    },
    {
      "cell_type": "markdown",
      "source": [
        "# Exercise: Matrix Composition (1)\n",
        "\n",
        "Given two matrices $A$ and $B$:\n",
        "\n",
        "$$ A = \\begin{bmatrix} 2 & 1 \\\\ -1 & 3 \\end{bmatrix} $$\n",
        "\n",
        "$$ B = \\begin{bmatrix} 4 & 0 \\\\ 2 & -1 \\end{bmatrix} $$\n",
        "\n",
        "1. Calculate the composition of the two matrices, $AB$, and determine the resulting matrix's dimensions.\n",
        "\n",
        "2. Choose an arbitrary vector $v$ in $\\mathbb{R}^2$ (a vector with $2$ elements). Apply the linear transformation represented by matrix $B$ to this vector, obtaining $T1(v)$.\n",
        "\n",
        "3. Take the result $T1(v)$ and apply the linear transformation represented by matrix $A$ to it, obtaining $T2(T1(v))$.\n",
        "\n",
        "4. Plot the original vector $v$ and the transformed vectors $T1(v)$ and $T2(T1(v))$ separately on a graph. Use different colors for clarity.\n",
        "\n",
        "5. Combine the two transformations by calculating the matrix product $AB$. Apply this combined transformation to the original vector $v$, obtaining $AB(v)$.\n",
        "\n",
        "6. Plot the original vector $v$ and the transformed vector $AB(v)$ on a separate graph.\n",
        "\n",
        "7. Compare the separate transformations $T1(v)$ and $T2(T1(v))$ with the combined transformation $AB(v)$. Discuss any similarities or differences observed in the plots.\n",
        "\n",
        "\n",
        "\n"
      ],
      "metadata": {
        "id": "zNNzGgt0h_5I"
      }
    },
    {
      "cell_type": "code",
      "source": [],
      "metadata": {
        "id": "xcsyD_vMjKz-"
      },
      "execution_count": null,
      "outputs": []
    },
    {
      "cell_type": "markdown",
      "source": [
        "# Exercise: Matrix Composition (2)\n",
        "\n",
        "Given the matrix $R$:\n",
        "\n",
        "$$ R = \\begin{bmatrix}\n",
        "\\frac{\\sqrt{2}}{2} & -\\frac{\\sqrt{2}}{2} \\\\\n",
        "\\frac{\\sqrt{2}}{2} & \\frac{\\sqrt{2}}{2}\n",
        "\\end{bmatrix} $$\n",
        "\n",
        "1. Calculate the composition of the $R^2$ ($R \\quad \\text{multipled by} \\quad R$), and determine the resulting matrix's dimensions.\n",
        "\n",
        "2. Choose an arbitrary vector $v$ in $\\mathbb{R}^2$ (a vector with $2$ elements). Apply the linear transformation represented by matrix $R$ to this vector, obtaining $T1(v)$.\n",
        "\n",
        "3. Take the result $T1(v)$ and apply the linear transformation represented by matrix $R$ to it, obtaining $T2(T1(v))$.\n",
        "\n",
        "4. Plot the original vector $v$ and the transformed vectors $T1(v)$ and $T2(T1(v))$ separately on a graph. Use different colors for clarity.\n",
        "\n",
        "5. Combine the two transformations by calculating the matrix product $RR$. Apply this combined transformation to the original vector $v$, obtaining $RR(v)$.\n",
        "\n",
        "6. Plot the original vector $v$ and the transformed vector $RR(v)$ on a separate graph.\n",
        "\n",
        "7. Compare the separate transformations $T1(v)$ and $T2(T1(v))$ with the combined transformation $RR(v)$. Discuss any similarities or differences observed in the plots.\n",
        "\n",
        "\n",
        "\n"
      ],
      "metadata": {
        "id": "J0ceGijGjLVw"
      }
    },
    {
      "cell_type": "code",
      "source": [],
      "metadata": {
        "id": "26UPK-LrlLCf"
      },
      "execution_count": null,
      "outputs": []
    },
    {
      "cell_type": "markdown",
      "source": [
        "# Exercise: Matrix Composition (3)\n",
        "\n",
        "Given a $2x3$ matrix $A$ and a $3x4$ matrix $B$:\n",
        "\n",
        "$$ A = \\begin{bmatrix}\n",
        "1 & 2 & 3 \\\\\n",
        "4 & 5 & 6\n",
        "\\end{bmatrix} $$\n",
        "\n",
        "$$ B = \\begin{bmatrix}\n",
        "7 & 8 & 9 & 10 \\\\\n",
        "11 & 12 & 13 & 14 \\\\\n",
        "15 & 16 & 17 & 18\n",
        "\\end{bmatrix} $$\n",
        "\n",
        "\n",
        "1. Calculate the composition of the two matrices, $AB$, and determine the resulting matrix's dimensions.\n",
        "\n",
        "2. Choose an arbitrary vector $v$ in $\\mathbb{R}^4$ (a vector with $4$ elements). Apply the linear transformation represented by matrix $B$ to this vector, obtaining $T1(v)$.\n",
        "\n",
        "3. Take the result $T1(v)$ and apply the linear transformation represented by matrix $A$ to it, obtaining $T2(T1(v))$.\n",
        "\n",
        "4. Combine the two transformations by calculating the matrix product $AB$. Apply this combined transformation to the original vector $v$, obtaining $AB(v)$.\n",
        "\n",
        "5. Compare the separate transformations $T1(v)$ and $T2(T1(v))$ with the combined transformation $AB(v)$.\n",
        "\n",
        "\n",
        "\n"
      ],
      "metadata": {
        "id": "LY4T_tHqlLW1"
      }
    },
    {
      "cell_type": "code",
      "source": [],
      "metadata": {
        "id": "OVqCexMVmmba"
      },
      "execution_count": null,
      "outputs": []
    }
  ]
}