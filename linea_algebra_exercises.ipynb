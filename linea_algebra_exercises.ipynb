{
  "nbformat": 4,
  "nbformat_minor": 0,
  "metadata": {
    "colab": {
      "provenance": [],
      "authorship_tag": "ABX9TyMqLER6Kw6xk6rIo0Ap7X5y",
      "include_colab_link": true
    },
    "kernelspec": {
      "name": "python3",
      "display_name": "Python 3"
    },
    "language_info": {
      "name": "python"
    }
  },
  "cells": [
    {
      "cell_type": "markdown",
      "metadata": {
        "id": "view-in-github",
        "colab_type": "text"
      },
      "source": [
        "<a href=\"https://colab.research.google.com/github/nimnathw/linear-algebra-with-python/blob/main/linea_algebra_exercises.ipynb\" target=\"_parent\"><img src=\"https://colab.research.google.com/assets/colab-badge.svg\" alt=\"Open In Colab\"/></a>"
      ]
    },
    {
      "cell_type": "markdown",
      "source": [
        "#Exercise: Exploring Vector Direction and Magnitude\n",
        "\n",
        "Instructions:\n",
        "\n",
        "Consider the following two 3-dimensional vectors:\n",
        "\n",
        "1. Vector v⃗:\n",
        "   v⃗ = (3, 4, 2)\n",
        "\n",
        "2. Vector u⃗:\n",
        "   u⃗ = (1, 2, 5)\n",
        "\n",
        "Perform the following operations:\n",
        "\n",
        "1. Compute the magnitude of each vector using the Euclidean norm formula.\n",
        "2. Calculate the direction of each vector.\n",
        "3. Find the vector v⃗ - u⃗ and u⃗ - v⃗.\n",
        "4. Compute the sum, u⃗ + v⃗.\n",
        "5. Draw the vectors v⃗ and u⃗ as arrows in a 3-dimensional space using Matplotlib.\n",
        "6. Draw the resulting vectors v⃗ - u⃗, u⃗ - v⃗, and u⃗ + v⃗ in the same 3-dimensional space using Matplotlib.\n",
        "\n",
        "Requirements:\n",
        "\n",
        "1. Utilize the NumPy library for vector calculations and operations.\n",
        "2. Use Matplotlib for creating visual representations of the vectors in a 3-dimensional space.\n",
        "3. Clearly present each step of the calculations and operations.\n",
        "4. Explain the significance of the results in the context of vector operations and their applications in real-world scenarios.\n",
        "\n",
        "\n",
        "\n",
        "\n"
      ],
      "metadata": {
        "id": "PM6VrdZW4hZj"
      }
    },
    {
      "cell_type": "code",
      "execution_count": null,
      "metadata": {
        "id": "oF9uEihT2giD"
      },
      "outputs": [],
      "source": []
    },
    {
      "cell_type": "markdown",
      "source": [
        "# Exercise: Exploring Dot Product\n",
        "Instructions:\n",
        "\n",
        "Consider the following two 3-dimensional vectors:\n",
        "\n",
        "1. Vector v⃗:\n",
        "   v⃗ = [3, 4, 2]\n",
        "\n",
        "2. Vector w⃗:\n",
        "   w⃗ = [1, 2, 5]\n",
        "\n",
        "Perform the following steps:\n",
        "\n",
        "1. Utilize the NumPy library to calculate the dot product of vectors v⃗ and w⃗.\n",
        "2. Compute the magnitudes of vectors v⃗ and w⃗ using appropriate NumPy functions.\n",
        "3. Determine the angle θ between the two vectors using the inverse cosine function in NumPy.\n",
        "4. Verify that the dot product v⃗ ⋅ w⃗ is equal to the product of the magnitudes of v⃗ and w⃗ multiplied by cos θ, using NumPy calculations.\n",
        "5. Create a 3D plot using Matplotlib to visualize the vectors v⃗ and w⃗ as arrows in a 3-dimensional space.\n",
        "6. Label the plot to represent the vectors and the angle θ between them.\n",
        "\n",
        "Requirements:\n",
        "\n",
        "1. Use the NumPy library for vector calculations, including the dot product, magnitude calculation, and angle determination.\n",
        "2. Utilize Matplotlib to create a 3D plot representing the vectors and the angle between them.\n",
        "3. Provide a step-by-step explanation of the calculations and the code used for visualization.\n",
        "4. Discuss the significance of the dot product, the computed angle, and the visualization in understanding the relationship between vectors.\n",
        "\n"
      ],
      "metadata": {
        "id": "yR1-bf4_5-np"
      }
    },
    {
      "cell_type": "code",
      "source": [],
      "metadata": {
        "id": "kNRQtgJDDxmj"
      },
      "execution_count": null,
      "outputs": []
    },
    {
      "cell_type": "markdown",
      "source": [
        "# Exercise Title: Exploring Cross Product\n",
        "\n",
        "Instructions:\n",
        "\n",
        "Consider the following two 3-dimensional vectors:\n",
        "\n",
        "1. Vector v⃗:\n",
        "   v⃗ = [3, 4, 2]\n",
        "\n",
        "2. Vector w⃗:\n",
        "   w⃗ = [1, 2, 5]\n",
        "\n",
        "Perform the following steps:\n",
        "\n",
        "1. Use the NumPy library to compute the cross product of vectors v⃗ and w⃗.\n",
        "2. Interpret the geometric meaning of the cross product in terms of vector perpendicularity and the area of the parallelogram formed by the two vectors.\n",
        "3. Calculate the magnitude of the cross product and explain how it relates to the area of the parallelogram.\n",
        "4. Visualize the vectors v⃗ and w⃗ along with their cross product using Matplotlib in a 3-dimensional space.\n",
        "5. Discuss the implications of the right-hand rule in determining the direction of the resulting vector in the cross product.\n",
        "\n",
        "Requirements:\n",
        "\n",
        "1. Utilize the NumPy library for vector calculations, especially for the cross product and magnitude computation.\n",
        "2. Use Matplotlib to create a 3D plot representing the vectors and the resulting cross product.\n",
        "3. Provide a step-by-step explanation of the calculations and the code used for visualization.\n",
        "4. Discuss the significance of the cross product, its geometric interpretation, and its practical applications in diverse fields.\n"
      ],
      "metadata": {
        "id": "tKxRNZ9T9d9x"
      }
    },
    {
      "cell_type": "code",
      "source": [],
      "metadata": {
        "id": "OVe4HUot_2a5"
      },
      "execution_count": null,
      "outputs": []
    },
    {
      "cell_type": "markdown",
      "source": [
        "# Exercise: Calculating the Area of a 3D Triangle Using Cross Product\n",
        "\n",
        "Instructions:\n",
        "\n",
        "Consider a triangle formed by three points in 3D space: A(2, 3, 1), B(4, 1, 2), and C(5, 3, 6). Perform the following steps:\n",
        "\n",
        "1. Compute the vectors $\\vec {AB}$ and $\\vec {AC}$ using the given coordinates.\n",
        "2. Calculate the cross product of vectors $\\vec {AB}$ and $\\vec {AC}$ using the cross product formula.\n",
        "3. Determine the magnitude of the resulting cross product vector $\\vec {n}$ using the magnitude formula provided.\n",
        "4. Divide the magnitude of $\\vec {n}$ by 2 to obtain the area of the triangle.\n",
        "5. Discuss the significance of the computed area and how it relates to the orientation of the triangle in 3D space.\n",
        "6. Illustrate the triangle and the vectors $\\vec {AB}$ and $\\vec {AC}$ in a 3D coordinate system using Matplotlib to provide a visual representation.\n",
        "\n"
      ],
      "metadata": {
        "id": "kbGJGP5a_3Kr"
      }
    },
    {
      "cell_type": "code",
      "source": [],
      "metadata": {
        "id": "4870TUCOFLHX"
      },
      "execution_count": null,
      "outputs": []
    },
    {
      "cell_type": "markdown",
      "source": [
        "# Exercise: Computing the Volume of a Parallelepiped\n",
        "\n",
        "Instructions:\n",
        "\n",
        "Consider a parallelepiped formed by three non-coplanar vectors in 3D space: **u** = [1, 2, 3], **v** = [4, 1, 2], and **w** = [2, 3, 5]. Perform the following steps:\n",
        "\n",
        "1. Create a 3x3 matrix using the components of vectors **u**, **v**, and **w** as the rows or columns of the matrix.\n",
        "2. Compute the determinant of the 3x3 matrix using the provided determinant formula.\n",
        "3. Determine the absolute value of the determinant, which represents the volume of the parallelepiped spanned by vectors **u**, **v**, and **w**.\n",
        "4. Discuss the significance of the computed volume and its relation to the orientation and shape of the parallelepiped in 3D space.\n",
        "5. Illustrate the parallelepiped defined by vectors **u**, **v**, and **w** in a 3D coordinate system using Matplotlib for visual representation.\n",
        "\n",
        "Requirements:\n",
        "\n",
        "1. Apply the determinant formula accurately using the components of vectors **u**, **v**, and **w** to compute the volume of the parallelepiped.\n",
        "2. Provide a clear explanation of the process involved in calculating the determinant and its interpretation as the volume of the parallelepiped.\n",
        "3. Create a 3x3 matrix and compute the determinant using the provided components of vectors **u**, **v**, and **w**.\n",
        "4. Explain the relevance of determinants in linear algebra and their applications in calculating the volume of parallelepipeds in 3D space."
      ],
      "metadata": {
        "id": "zS6rJLMhDkTC"
      }
    },
    {
      "cell_type": "code",
      "source": [],
      "metadata": {
        "id": "P43_-Bq_FOT5"
      },
      "execution_count": null,
      "outputs": []
    },
    {
      "cell_type": "markdown",
      "source": [
        "# Exercise: Prove the formula for the projection of a vector\n",
        "\n",
        "Prove the formula for the projection of a vector $u$ onto another vector $w$, i.e., $\\text{proj}_w (u) = \\frac{u \\cdot w}{w \\cdot w} \\cdot w$.\n",
        "\n",
        "\n",
        "**Hint:**\n",
        "Use the definition of the dot product to express $u \\cdot w$ in terms of the magnitudes of vectors $u$ and $w$ and the cosine of the angle between them, $u \\cdot w = \\|u\\| \\|w\\| \\cos(\\theta)$.\n",
        "\n",
        "\n",
        "### Common MathJax/LaTeX Commands\n",
        "\n",
        "**Basic Formatting Commands:**\n",
        "1. *Italic Text*: \\textit{your text}.\n",
        "2. **Bold Text**: \\textbf{your text}.\n",
        "3. Underline Text: \\underline{your text}.\n",
        "4. Subscript: x\\_{sub} for subscript.\n",
        "5. Superscript: x^{sup} for superscript.\n",
        "6. Space: \\quad for space.\n",
        "\n",
        "\n",
        "**Vectors and Matrices:**\n",
        "1. Vector: \\mathbf{v} for boldface vectors.\n",
        "2. Matrix: \\mathbf{A} for boldface matrices.\n",
        "3. Transpose: \\mathbf{A}^\\text{T} for transpose of matrix A.\n",
        "4. Determinant: \\text{det}(A) for the determinant of matrix A.\n",
        "5. Inverse: A^{-1} for the inverse of matrix A.\n",
        "\n",
        "**Operators and Symbols:**\n",
        "1. Dot Product: \\cdot for dot product of vectors.\n",
        "2. Hadamard product (element-wise multiplication of two matrices with the same dimensions): \\odot\n",
        "\n",
        "if you have two matrices $A$ and $B$ of the same size, the element-wise multiplication is denoted as $C = A \\odot B$, where each element $C_{ij}$ is the product of the corresponding elements $A_{ij}4 and $B_{ij}$.\n",
        "\n",
        "3. Cross Product: \\times for cross product of vectors.\n",
        "4. Scalar Multiplication: k\\mathbf{v} for scalar multiplication.\n",
        "5. Summation: \\sum_{i=1}^{n} for summation.\n",
        "6. Product: \\prod_{i=1}^{n} for product.\n",
        "\n",
        "**Equations and Formulas:**\n",
        "1. Inline Equation: *dollar sign* your equation  *dollar sign* for inline equations.\n",
        "2. Display Equation: *dollar sign* *dollar sign* your equation *dollar sign* *dollar sign* for displayed equations.\n",
        "3. Fractions: \\frac{numerator}{denominator} for fractions.\n",
        "4. Square Root: \\sqrt{x} for square root.\n",
        "5. Parentheses and Brackets: (, ), [, ], \\{, \\}, \\left(, \\right), \\left[, \\right], \\left\\{, \\right\\} for different types of parentheses and brackets.\n",
        "\n",
        "**Trigonometric Functions:**\n",
        "1. Sine: \\sin(x) for sine of x.\n",
        "2. Cosine: \\cos(x) for cosine of x.\n",
        "3. Tangent: \\tan(x) for tangent of x.\n",
        "\n",
        "**Calculus:**\n",
        "1. Derivative: \\frac{d}{dx} for derivative with respect to x.\n",
        "2. Integral: \\int_{a}^{b} for definite integral from a to b.\n"
      ],
      "metadata": {
        "id": "hmHfGW73EgLf"
      }
    },
    {
      "cell_type": "code",
      "source": [],
      "metadata": {
        "id": "nyz7Aw6YSthr"
      },
      "execution_count": null,
      "outputs": []
    },
    {
      "cell_type": "markdown",
      "source": [
        "# Exercise: Vector Decomposition and Visualization (1)\n",
        "\n",
        "Consider two 2-dimensional vectors: $ u = [3, 4] $ and $ w = [1, 2] $.\n",
        "\n",
        "1. Calculate the dot product of the two vectors $u$ and $w$ using the provided formula. Find the magnitude of $u$, the magnitude of $w$, and the angle $\\theta$ between the two vectors.\n",
        "\n",
        "2. Compute the projection of vector $u$ onto vector $w$ using the formula $||u|| \\cos(\\theta)$.\n",
        "\n",
        "3. Decompose vector $u$ into components along vector $w$ using the formula for projection $\\text{proj}_w(u) = \\frac{u \\cdot w}{w \\cdot w} \\cdot w$.\n",
        "\n",
        "4. Find the component of vector $u$ orthogonal to $w$ using the formula $u_{\\perp} = u - \\text{proj}_w(u)$.\n",
        "\n",
        "5. Use NumPy to perform the calculations and visualize the results with Matplotlib. Plot the original vectors, the projection of $u$ onto $w$, and the component of $u$ orthogonal to $w$ on a 2D plane.\n"
      ],
      "metadata": {
        "id": "bVLOfc_VSuNY"
      }
    },
    {
      "cell_type": "code",
      "source": [],
      "metadata": {
        "id": "HHiLNPXMTumZ"
      },
      "execution_count": null,
      "outputs": []
    },
    {
      "cell_type": "markdown",
      "source": [
        "# Exercise: Vector Decomposition and Visualization (2)\n",
        "\n",
        "Consider two 2-dimensional vectors: $ u = [3, 4] $ and $ w = [1, 0] $.\n",
        "\n",
        "1. Compute the projection of vector $u$ onto vector $w$.\n",
        "\n",
        "2. Find the component of vector $u$ orthogonal to $w$.\n",
        "\n",
        "3. Use NumPy to perform the calculations and visualize the results with Matplotlib. Plot the original vectors, the projection of $u$ onto $w$, and the component of $u$ orthogonal to $w$ on a 2D plane."
      ],
      "metadata": {
        "id": "3nEEcm5BTvBX"
      }
    },
    {
      "cell_type": "code",
      "source": [],
      "metadata": {
        "id": "5Zi9NlWHULfK"
      },
      "execution_count": null,
      "outputs": []
    },
    {
      "cell_type": "markdown",
      "source": [
        "# Exercise: Vector Decomposition and Visualization (3)\n",
        "\n",
        "Consider two 2-dimensional vectors: $ u = [3, 4] $ and $ w = [0, 6] $.\n",
        "\n",
        "1. Compute the projection of vector $u$ onto vector $w$.\n",
        "\n",
        "2. Find the component of vector $u$ orthogonal to $w$.\n",
        "\n",
        "3. Use NumPy to perform the calculations and visualize the results with Matplotlib. Plot the original vectors, the projection of $u$ onto $w$, and the component of $u$ orthogonal to $w$ on a 2D plane."
      ],
      "metadata": {
        "id": "X043FI_FUMBo"
      }
    },
    {
      "cell_type": "code",
      "source": [],
      "metadata": {
        "id": "LMU47jx1USaJ"
      },
      "execution_count": null,
      "outputs": []
    },
    {
      "cell_type": "markdown",
      "source": [
        "# Excercise: Equation of a Line (1)\n",
        "\n",
        "**Question:**\n",
        "\n",
        "Consider the point P(7, 4, -1) and a vector v = (1, 3, 4).\n",
        "\n",
        "1. Find the parametric equations for the line passing through the point P and parallel to the vector v.\n",
        "\n",
        "2. Visualize the line using NumPy and Matplotlib. You can use the `matplotlib.pyplot` and `mpl_toolkits.mplot3d` modules for 3D plotting.\n",
        "\n",
        "\n",
        "**Hint:**\n",
        "Remember that the parametric equation for a line in 3D space is of the form:\n",
        "\n",
        "$$x = x_0 + at$$\n",
        "$$y = y_0 + bt$$\n",
        "$$z = z_0 + ct$$\n",
        "\n",
        "where (x0, y0, z0) is a point on the line, and (a, b, c) are the direction ratios of the line.\n",
        "\n",
        "\n"
      ],
      "metadata": {
        "id": "wl485MF4dJQ-"
      }
    },
    {
      "cell_type": "code",
      "source": [],
      "metadata": {
        "id": "U6qlXDnQdI0v"
      },
      "execution_count": null,
      "outputs": []
    },
    {
      "cell_type": "markdown",
      "source": [
        "# Exercise: Equation of a Line (2)\n",
        "Consider the following two lines in 3D space:\n",
        "\n",
        "Line 1:\n",
        "$$\\frac{x - 2}{2} = \\frac{y - 3}{1} = \\frac{z - 1}{4}$$\n",
        "\n",
        "Line 2:\n",
        "$$\\frac{x - 4}{3} = \\frac{y - 2}{2} = \\frac{z - 3}{5}$$\n",
        "\n",
        "1. Find the point of intersection, $P$, of these two lines.\n",
        "2. Use NumPy and Matplotlib to plot the two lines and the point of intersection in 3D space. You can use the `matplotlib.pyplot` and `mpl_toolkits.mplot3d` modules for 3D plotting."
      ],
      "metadata": {
        "id": "z0Kpbg5veVxJ"
      }
    },
    {
      "cell_type": "code",
      "source": [],
      "metadata": {
        "id": "sJ_ADHbWjDwL"
      },
      "execution_count": null,
      "outputs": []
    },
    {
      "cell_type": "markdown",
      "source": [
        "# Exercise: Equation of a Line (3)\n",
        "\n",
        "Consider the following two lines in 3D space:\n",
        "\n",
        "Line 1:\n",
        "$$\\frac{x - 6}{3} = \\frac{y - 5}{4} = \\frac{z - 7}{2}$$\n",
        "\n",
        "Line 2:\n",
        "$$\\frac{x - 11}{4} = \\frac{y - 3}{3} = \\frac{z - 1}{5}$$\n",
        "\n",
        "1. Find the point of intersection, \\(P\\), of these two lines.\n",
        "2. Use NumPy and Matplotlib to plot the two lines and the point of intersection in 3D space. You can use the `matplotlib.pyplot` and `mpl_toolkits.mplot3d` modules for 3D plotting."
      ],
      "metadata": {
        "id": "9Z8pcBCljEZF"
      }
    },
    {
      "cell_type": "code",
      "source": [],
      "metadata": {
        "id": "jUuEsjQ8p5cG"
      },
      "execution_count": null,
      "outputs": []
    },
    {
      "cell_type": "markdown",
      "source": [
        "# Exercise: Equation of a Line (4)\n",
        "\n",
        "Consider the following parametric equation for a line in 5-d space:\n",
        "\n",
        "$$x_1 = a_1 + t \\cdot d_1,$$\n",
        "$$x_2 = a_2 + t \\cdot d_2,$$\n",
        "$$x_3 = a_3 + t \\cdot d_3,$$\n",
        "$$x_4 = a_4 + t \\cdot d_4,$$\n",
        "$$x_5 = a_5 + t \\cdot d_5,$$\n",
        "\n",
        "where:\n",
        "- $a_1, a_2, a_3, a_4, a_5$ are constants representing the starting points along each dimension,\n",
        "- $d_1, d_2, d_3, d_4, d_5$ are the direction vectors along each dimension,\n",
        "- $t$ is the parameter that determines the position of points along the line.\n",
        "\n",
        "Line 1 is:\n",
        "$$a = (1, 2, 3, 4, 5),$$\n",
        "$$d = (2, 3, 1, 4, 2),$$\n",
        "\n",
        "Line 2 is:\n",
        "$$a = (7, -4, 9, 14, 1),$$\n",
        "$$d = (2, 3, 1, 4, 2),$$\n",
        "\n",
        "1. Find the shortest distance between these two parallel lines.\n",
        "2. Use numpy code to calculate and print out the shortest distance between the two lines.\n"
      ],
      "metadata": {
        "id": "rIP1xng676wJ"
      }
    },
    {
      "cell_type": "code",
      "source": [],
      "metadata": {
        "id": "NmV6quQo-DWs"
      },
      "execution_count": null,
      "outputs": []
    },
    {
      "cell_type": "markdown",
      "source": [
        "# Exercise: Equation of a Line (5)\n",
        "\n",
        "Consider the following parametric equation for a line in 5-d space:\n",
        "\n",
        "$$x_1 = a_1 + t \\cdot d_1,$$\n",
        "$$x_2 = a_2 + t \\cdot d_2,$$\n",
        "$$x_3 = a_3 + t \\cdot d_3,$$\n",
        "$$x_4 = a_4 + t \\cdot d_4,$$\n",
        "$$x_5 = a_5 + t \\cdot d_5,$$\n",
        "\n",
        "where:\n",
        "- $a_1, a_2, a_3, a_4, a_5$ are constants representing the starting points along each dimension,\n",
        "- $d_1, d_2, d_3, d_4, d_5$ are the direction vectors along each dimension,\n",
        "- $t$ is the parameter that determines the position of points along the line.\n",
        "\n",
        "Line 1 is:\n",
        "$$a = (1, 2, 3, 4, 5),$$\n",
        "$$d = (2, 3, 1, 4, 2),$$\n",
        "\n",
        "Point P is:\n",
        "$$ P = (18, -6, 3, 14, 1)$$\n",
        "\n",
        "1. Find the shortest distance between the point P and Line 1\n",
        "2. Use numpy code to calculate and print out the shortest distance.\n"
      ],
      "metadata": {
        "id": "zm0GXFVqLnSW"
      }
    },
    {
      "cell_type": "code",
      "source": [],
      "metadata": {
        "id": "9fLj2fA6MYvR"
      },
      "execution_count": null,
      "outputs": []
    }
  ]
}