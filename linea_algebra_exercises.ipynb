{
  "nbformat": 4,
  "nbformat_minor": 0,
  "metadata": {
    "colab": {
      "provenance": [],
      "authorship_tag": "ABX9TyMA76/roMnnyMEpNj/79vVB",
      "include_colab_link": true
    },
    "kernelspec": {
      "name": "python3",
      "display_name": "Python 3"
    },
    "language_info": {
      "name": "python"
    }
  },
  "cells": [
    {
      "cell_type": "markdown",
      "metadata": {
        "id": "view-in-github",
        "colab_type": "text"
      },
      "source": [
        "<a href=\"https://colab.research.google.com/github/nimnathw/linear-algebra-with-python/blob/main/linea_algebra_exercises.ipynb\" target=\"_parent\"><img src=\"https://colab.research.google.com/assets/colab-badge.svg\" alt=\"Open In Colab\"/></a>"
      ]
    },
    {
      "cell_type": "code",
      "execution_count": null,
      "metadata": {
        "id": "oF9uEihT2giD"
      },
      "outputs": [],
      "source": []
    },
    {
      "cell_type": "markdown",
      "source": [
        "#Exercise: Exploring Vector Direction and Magnitude in Multiple Dimensions\n",
        "\n",
        "Exercise Title: Exploring Vector Operations in Three Dimensions\n",
        "\n",
        "Objective: The objective of this exercise is to deepen students' understanding of the concept of vector operations in three dimensions. Through this exercise, students will gain proficiency in calculating vector addition, subtraction, and drawing these operations using Matplotlib and NumPy libraries, thereby reinforcing their understanding of vector concepts in a visual and computational context.\n",
        "\n",
        "Instructions:\n",
        "\n",
        "Consider the following two 3-dimensional vectors:\n",
        "\n",
        "1. Vector v⃗:\n",
        "   v⃗ = (3, 4, 2)\n",
        "\n",
        "2. Vector u⃗:\n",
        "   u⃗ = (1, 2, 5)\n",
        "\n",
        "Perform the following operations:\n",
        "\n",
        "1. Compute the magnitude of each vector using the Euclidean norm formula.\n",
        "2. Calculate the direction of each vector.\n",
        "3. Find the vector v⃗ - u⃗ and u⃗ - v⃗.\n",
        "4. Compute the sum, u⃗ + v⃗.\n",
        "5. Draw the vectors v⃗ and u⃗ as arrows in a 3-dimensional space using Matplotlib.\n",
        "6. Draw the resulting vectors v⃗ - u⃗, u⃗ - v⃗, and u⃗ + v⃗ in the same 3-dimensional space using Matplotlib.\n",
        "\n",
        "Requirements:\n",
        "\n",
        "1. Utilize the NumPy library for vector calculations and operations.\n",
        "2. Use Matplotlib for creating visual representations of the vectors in a 3-dimensional space.\n",
        "3. Clearly present each step of the calculations and operations.\n",
        "4. Explain the significance of the results in the context of vector operations and their applications in real-world scenarios.\n",
        "\n",
        "Bonus Challenge:\n",
        "\n",
        "Discuss the geometrical interpretations of vector addition and subtraction in three dimensions, considering the implications for vector directions and magnitudes. Illustrate how these operations can be visualized in three dimensions and the practical implications of such operations.\n",
        "\n",
        "\n",
        "\n"
      ],
      "metadata": {
        "id": "PM6VrdZW4hZj"
      }
    }
  ]
}